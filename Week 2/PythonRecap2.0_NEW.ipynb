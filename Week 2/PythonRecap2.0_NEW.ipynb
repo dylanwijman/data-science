{
 "cells": [
  {
   "cell_type": "markdown",
   "metadata": {},
   "source": [
    "\n",
    "## Notebook made by  \n",
    "\n",
    "|** Name** | **Student id** | **email**|\n",
    "|:- |:-|:-|\n",
    "|Dylan Wijman |10651012|dylanwijman@hotmail.com|\n",
    "|Eline Steensma|10589813|elinesteensma@gmail.com|\n",
    "|Sjoerd Paardekooper|10278397|sjoerd.paardekooper@gmail.com|\n",
    "\n",
    "### Pledge (taken from [Coursera's Honor Code](https://www.coursera.org/about/terms/honorcode) )\n",
    "\n",
    "\n",
    "Put here a selfie with your photo where you hold a signed paper with the following text: (if this is team work, put two selfies here). The link must be to some place on the web, not to a local file. \n",
    "\n",
    "> My answers to homework, quizzes and exams will be my own work (except for assignments that explicitly permit collaboration).\n",
    "\n",
    ">I will not make solutions to homework, quizzes or exams available to anyone else. This includes both solutions written by me, as well as any official solutions provided by the course staff.\n",
    "\n",
    ">I will not engage in any other activities that will dishonestly improve my results or dishonestly improve/hurt the results of others.\n",
    "\n",
    "<img src='https://github.com/dylanwijman/data-science/blob/master/pledge.jpg?raw=true'/>\n",
    "\n",
    "### Note\n",
    "* **Assignments without the selfies or completely filled in information will not be graded and receive 0 points.**\n"
   ]
  },
  {
   "cell_type": "markdown",
   "metadata": {},
   "source": [
    "# Python Recap Exam\n",
    "\n",
    "This exam is meant to test how fluent or how rusty you are in Python. \n",
    "We do some simple things working with lists, counting things, and doing a bit of basic statistics.\n",
    "You may not remember everything at one. That is no problem, if you can reasonably fast find it back using Python's reference.\n",
    "\n",
    "Also, don't forget the great help that IPython can give you: TAB and ?"
   ]
  },
  {
   "cell_type": "markdown",
   "metadata": {},
   "source": [
    "#### Start with running the following code."
   ]
  },
  {
   "cell_type": "code",
   "execution_count": 5,
   "metadata": {
    "collapsed": false
   },
   "outputs": [
    {
     "data": {
      "text/plain": [
       "[u'ASIAN', u'EXPORTERS', u'FEAR', u'DAMAGE', u'FROM']"
      ]
     },
     "execution_count": 5,
     "metadata": {},
     "output_type": "execute_result"
    }
   ],
   "source": [
    "import re,pprint,nltk\n",
    "from __future__ import division\n",
    "from nltk.corpus import reuters \n",
    "# make a corpus of all words in the test files\n",
    "testIDs= [w for w in reuters.fileids() if w.startswith('test')]\n",
    "testWords=reuters.words(testIDs)\n",
    "testWords[:5]"
   ]
  },
  {
   "cell_type": "markdown",
   "metadata": {},
   "source": [
    "### Questions"
   ]
  },
  {
   "cell_type": "markdown",
   "metadata": {},
   "source": [
    "Make the questions. \n",
    "Answer them  in the code block after the question. \n",
    "\n",
    "Reuse variables that you have defined in earlier questions in later questions."
   ]
  },
  {
   "cell_type": "markdown",
   "metadata": {},
   "source": [
    "\n",
    "\n",
    "(1) How many words/tokens are there in testWords? And how many unique tokens/words? What is the average frequency of a word?\n",
    "Define a variable for each subquestion.\n",
    "Then print out all variables at once. Use this style for the other exercises as well.\n",
    "So something like:\n",
    "```\n",
    "NumWords = ...\n",
    "NumUnique = ...\n",
    "AvgFreq = ....\n",
    "NumWords, NumUnique, AvgFreq\n",
    "```\n",
    "Or even better with a nicely formatted string."
   ]
  },
  {
   "cell_type": "code",
   "execution_count": 6,
   "metadata": {
    "collapsed": false
   },
   "outputs": [
    {
     "name": "stdout",
     "output_type": "stream",
     "text": [
      "There are  467205 words/tokens in testWords,  22337 unique words/tokens in testWords\n",
      "The average frequency of a word is 20.9161928639\n"
     ]
    }
   ],
   "source": [
    "NumWords = len(testWords)\n",
    "NumUnique = len(set(testWords))\n",
    "AvgFreq = NumWords / NumUnique\n",
    "\n",
    "print \"There are \", NumWords, \"words/tokens in testWords, \", NumUnique, \"unique words/tokens in testWords\"\n",
    "print \"The average frequency of a word is\", AvgFreq"
   ]
  },
  {
   "cell_type": "markdown",
   "metadata": {},
   "source": [
    "(2) How many bigrams (a bigram is a sequence of two consequtive words)  are there in testWords? How many unique ones? What is the average bigram frequency? Explain the difference of the last two numbers with the numbers in the previous question. \n",
    "Make it easy for yourself. Just use the most \"dumb\" definition of bigram."
   ]
  },
  {
   "cell_type": "code",
   "execution_count": 7,
   "metadata": {
    "collapsed": false
   },
   "outputs": [
    {
     "name": "stdout",
     "output_type": "stream",
     "text": [
      "467205\n",
      "Totaal aantal bigrams = 467204\n",
      "Totaal Uniek aantal bigrams = 155763\n",
      "Gemiddelde bigram frequentie = 2.99945429916\n"
     ]
    }
   ],
   "source": [
    "from nltk import bigrams\n",
    "\n",
    "print len(testWords)\n",
    "# Converteer lijst met woorden naar lijst met bigrams\n",
    "testBigrams = list(bigrams(testWords))\n",
    "lenTestBigrams = len(testBigrams)\n",
    "uniLenTestBigrams = len(set(testBigrams))\n",
    "avgBigramFreq = lenTestBigrams / uniLenTestBigrams\n",
    "\n",
    "print \"Totaal aantal bigrams =\", lenTestBigrams\n",
    "print \"Totaal Uniek aantal bigrams =\", uniLenTestBigrams\n",
    "print \"Gemiddelde bigram frequentie =\", avgBigramFreq"
   ]
  },
  {
   "cell_type": "markdown",
   "metadata": {},
   "source": [
    "(3)  There are quite some tokens in testWords which are not really \"words\".\n",
    "\n",
    "Use [regular expressions](https://docs.python.org/2/library/re.html) and use the list of english stopwords which can be obtained as follows:\n",
    "\n",
    "```\n",
    "from nltk.corpus import stopwords\n",
    "# test\n",
    "stopwords.words('english')[:20]\n",
    "```\n",
    "\n",
    "Don't display too many digits behind the comma: use the `round()` function to control that.\n",
    "\n",
    "3.1. Create the list of all \"punctuation tokens\" in testWords.\n",
    "\n",
    "3.2. Create the list of all \"stopword tokens\" in testWords. Use NLTK's english stopword list.\n",
    "\n",
    "3.3. Compute the percentage of all tokens in testWords that is a punctuation and the percentage of all tokens in testWords that is a stopword.\n",
    "\n",
    "3.4. How many (as a percentage) of the UNIQUE tokens in testWords is a punctuation? How many a stopword?\n",
    "\n"
   ]
  },
  {
   "cell_type": "code",
   "execution_count": null,
   "metadata": {
    "collapsed": false
   },
   "outputs": [],
   "source": [
    "import re\n",
    "from string import punctuation\n",
    "\n",
    "from nltk.corpus import stopwords\n",
    "\n",
    "pTestWords = [x for x in testWords if x in punctuation]\n",
    "englishStopwords = [x for x in testWords if x in stopwords.words('english')]\n",
    "pFreq = len(pTestWords) / len(testWords)\n",
    "sFreq = len(englishStopwords) / len(testWords)\n",
    "\n",
    "uniqueTokens = set(testWords)\n",
    "\n",
    "punctuationInUniqueTokens = [x for x in uniqueTokens if x in punctuation]\n",
    "stopwordsUniqueTokens = [x for x in uniqueTokens if x in englishStopwords]\n",
    "\n",
    "print \"Uniquetokens:\", len(punctuationInUniqueTokens)\n",
    "\n",
    "print \"3.1\", pTestWords[:15]\n",
    "print \"3.2\", englishStopwords[:15]\n",
    "print \"3.3 Punctuationfrequentie on testwords:\", pFreq\n",
    "print \"3.3 StopwordFrequency on testwords:\", sFreq\n",
    "print \"3.4 How many unique punctuation tokens are there in uniquetokens?\", punctuationInUniqueTokens\n",
    "print \"3.4 How many unique stopwords are there in uniquetokens?\", stopwordsUniqueTokens"
   ]
  },
  {
   "cell_type": "markdown",
   "metadata": {},
   "source": [
    "3.5 We will now start counting _how often_ words appear in the list `testWords`. Counting is a very important and often used tool. It is _expensive_ as it involves sorting.\n",
    "\n",
    "There are several ways to do counting, and we look at a few of them:\n",
    "\n",
    "\n"
   ]
  },
  {
   "cell_type": "code",
   "execution_count": 8,
   "metadata": {
    "collapsed": false
   },
   "outputs": [
    {
     "data": {
      "text/plain": [
       "(15048, 1, ['the', 'the', 'the', 'the', 'the'])"
      ]
     },
     "execution_count": 8,
     "metadata": {},
     "output_type": "execute_result"
    }
   ],
   "source": [
    "# The number of times the word \"the\" occurs\n",
    "the = [x for x in testWords if x=='the']\n",
    "len(the), len(set(the)), the[:5]"
   ]
  },
  {
   "cell_type": "code",
   "execution_count": 13,
   "metadata": {
    "collapsed": false
   },
   "outputs": [
    {
     "data": {
      "text/plain": [
       "15048"
      ]
     },
     "execution_count": 13,
     "metadata": {},
     "output_type": "execute_result"
    }
   ],
   "source": [
    "# Each list has a count method, which is ideal for counting\n",
    "testWords.count('the')"
   ]
  },
  {
   "cell_type": "code",
   "execution_count": 16,
   "metadata": {
    "collapsed": false
   },
   "outputs": [
    {
     "data": {
      "text/plain": [
       "(Counter({'blue': 3, 'red': 2, 'yellow': 1}), 3)"
      ]
     },
     "execution_count": 16,
     "metadata": {},
     "output_type": "execute_result"
    }
   ],
   "source": [
    "# This trick counts all items in one go and yields a dictionary\n",
    "from collections import Counter\n",
    "z = ['blue', 'red', 'blue', 'yellow', 'blue', 'red']\n",
    "Counter(z), Counter(z)['blue']\n",
    " "
   ]
  },
  {
   "cell_type": "code",
   "execution_count": 17,
   "metadata": {
    "collapsed": false
   },
   "outputs": [
    {
     "data": {
      "text/plain": [
       "[('.', 27578), (',', 20026), ('the', 15048), ('of', 9217), ('to', 8345)]"
      ]
     },
     "execution_count": 17,
     "metadata": {},
     "output_type": "execute_result"
    }
   ],
   "source": [
    "# with NLTK we can make a similar datastructure\n",
    "testfd= nltk.FreqDist(testWords)\n",
    "testfd.items()[:5]"
   ]
  },
  {
   "cell_type": "markdown",
   "metadata": {},
   "source": [
    "3.5.1 Use `set()` and dict comprehension to create a dict like `testfd` using the `.count()` method\n",
    "\n",
    "3.5.2 You now have 3 ways to make a wordcount dictionary. Use the timing functions to see which one is the fastest.\n",
    "\n",
    "3.5.3 Which percentage of the UNIQUE tokens in testWords is a hapax (i.e. occurs only once in testWords)?\n",
    "\n",
    "3.5.4 Which percentage of the   tokens in testWords is a hapax? \n",
    "\n",
    "3.5.5 Explain why the following test returns True: `len(testfd)==len(set(testWords))`"
   ]
  },
  {
   "cell_type": "code",
   "execution_count": null,
   "metadata": {
    "collapsed": true
   },
   "outputs": [],
   "source": []
  },
  {
   "cell_type": "markdown",
   "metadata": {},
   "source": [
    "(4) Count the tokens in testWords. Make an estimate of the following probability: given a string t, if we draw an arbitrary  token from testWords, what is the chance that it equals t?\n",
    "\n",
    "Program it as a function prob(str).\n",
    "Give an example of a high and of a low probability word.\n",
    "\n",
    "Does prob work on every input string?\n",
    "\n",
    "Test that 'the probabilities add up to 1'."
   ]
  },
  {
   "cell_type": "code",
   "execution_count": null,
   "metadata": {
    "collapsed": true
   },
   "outputs": [],
   "source": []
  },
  {
   "cell_type": "markdown",
   "metadata": {},
   "source": [
    "(5) Suppose we have printed out testWords  using exactly one space between each two tokens. Suppose we have covered a wall with this string. Now you throw a dart missile on this wall. Assume that it always hits exactly one character, which is either a space (inserted by our printing process) or a character in a token.\n",
    "\n",
    "5.1 What is the probability that it hits a space?\n",
    "\n",
    "5.2 Define a function prob(n) which for integer n returns the probability that the missile hits a token of length n.\n",
    "\n",
    "5.3 Nicely print out a table of the form \"n,  prob(n)\" which for each n returns   prob(n). Format it well, and truncate numbers. Bonus points for those who make a plot.\n",
    "\n",
    "5.3.1 Write a good test which indicates that prob(n) works correctly.\n",
    "\n",
    "5.4 What is the probability that it hits a stopword?\n"
   ]
  },
  {
   "cell_type": "code",
   "execution_count": null,
   "metadata": {
    "collapsed": false
   },
   "outputs": [],
   "source": []
  },
  {
   "cell_type": "markdown",
   "metadata": {},
   "source": [
    "BONUS (if you have time left or got bored)\n",
    "\n",
    "Show that the  words in testWords have a Zipfian distribution. Count the words, order them by their frequency. Plot the log(frequency) times log(index of the word). \n",
    "\n",
    "Use `% matplotlib inline` to display the figure in the notebook.\n",
    "\n",
    "Is it a straight line?\n",
    "\n",
    "Now do the same for the unigrams and the bigrams together in one list. Is the plot \"better\"? What does 'better' mean here?\n"
   ]
  },
  {
   "cell_type": "code",
   "execution_count": null,
   "metadata": {
    "collapsed": false
   },
   "outputs": [],
   "source": []
  }
 ],
 "metadata": {
  "kernelspec": {
   "display_name": "Python 2",
   "language": "python",
   "name": "python2"
  },
  "language_info": {
   "codemirror_mode": {
    "name": "ipython",
    "version": 2
   },
   "file_extension": ".py",
   "mimetype": "text/x-python",
   "name": "python",
   "nbconvert_exporter": "python",
   "pygments_lexer": "ipython2",
   "version": "2.7.11"
  }
 },
 "nbformat": 4,
 "nbformat_minor": 0
}
