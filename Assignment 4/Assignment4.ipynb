{
 "cells": [
  {
   "cell_type": "markdown",
   "metadata": {
    "slideshow": {
     "slide_type": "slide"
    }
   },
   "source": [
    "#  Assignment 4\n",
    "\n",
    "## Notebook made by  \n",
    "\n",
    "|** Name** | **Student id** | **email**|\n",
    "|:- |:-|:-|\n",
    "|Dylan Wijman |10651012|dylanwijman@hotmail.com|\n",
    "|Eline Steensma|10589813|elinesteensma@gmail.com|\n",
    "|Sjoerd Paardekooper|10278397|sjoerd.paardekooper@gmail.com|\n",
    "\n",
    "### Pledge (taken from [Coursera's Honor Code](https://www.coursera.org/about/terms/honorcode) )\n",
    "\n",
    "\n",
    "\n",
    "Put here a selfie with your photo where you hold a signed paper with the following text: (if this is team work, put two selfies here). The link must be to some place on the web, not to a local file. \n",
    "\n",
    "> My answers to homework, quizzes and exams will be my own work (except for assignments that explicitly permit collaboration).\n",
    "\n",
    ">I will not make solutions to homework, quizzes or exams available to anyone else. This includes both solutions written by me, as well as any official solutions provided by the course staff.\n",
    "\n",
    ">I will not engage in any other activities that will dishonestly improve my results or dishonestly improve/hurt the results of others.\n",
    "\n",
    "<img src='link to your selfie'/>\n",
    "\n",
    "### Note\n",
    "* **Assignments without the selfies or completely filled in information will not be graded and receive 0 points.**\n"
   ]
  },
  {
   "cell_type": "markdown",
   "metadata": {
    "collapsed": true,
    "slideshow": {
     "slide_type": "slide"
    }
   },
   "source": [
    "# P1 Parsing wikipedia\n",
    "\n",
    "#### Hint: \n",
    "Gebruik de code uit `ParseWikipediaDump.ipynb` in de NoteBook folder.\n",
    "\n",
    "1. Haal de laatste NL wikipedia dump op van <https://dumps.wikimedia.org/nlwiki/20160111/>. Je hebt de file <https://dumps.wikimedia.org/nlwiki/20160111/nlwiki-20160111-pages-articles.xml.bz2> nodig, maar kunt als je dat wat groot vindt eerst beginnen met <https://dumps.wikimedia.org/nlwiki/20160111/nlwiki-20160111-pages-articles1.xml.bz2>\n",
    "2. We gaan een dataframe maken met informatie over **elke** pagina in de NL wikipedia. Dit dataframe bevat voor elke pagina de volgende 4 kolommen:\n",
    "    1. page id (dit wordt de index)\n",
    "    2. titel van de pagina\n",
    "    3. het aantal secties\n",
    "    4. een lijst met alle namen van de secties.\n",
    "    5. het aantal woorden op de pagina\n",
    "3. Sla dit dataframe op als pickle bestand.\n",
    "4. Maak een plot waarin je op de x-as het aantal secties zet en op de y-as het aantal paginas met zoveel secties. Zorg dat het goed leesbaar is door eventueel een log schaal te gebruiken.\n",
    "5. Bereken het gemiddeld aantal secties, de mediaan, en geef de (een?) pagina met het maximale aantal secties.\n",
    "6. Plot het aantal secties tegen het aantal woorden en bereken de correlatie.\n",
    "7. Wat is het gemiddeld aantal woorden per sectie op NL Wikipedia?\n",
    "\n",
    "#### Voorbeeld\n",
    "Voor <https://nl.wikipedia.org/wiki/Albert_Speer> ziet dit er (op dit moment van schrijven) als volgt uit:\n",
    "1. page id is $1$\n",
    "2. titel is _Albert Speer_\n",
    "3. Aantal secties is 12\n",
    "4. Sectie titels zijn (maar dan zonder de nummering)\n",
    "```\n",
    "1\tVoor 1933\n",
    "2\tIn dienst van Hitler\n",
    "3\tSpeer de organisator\n",
    "4\tHitlers laatste bevelen aan Speer\n",
    "5\tArrestatie en gevangenisstraf\n",
    "6\tSpeer als de 'nette nazi'\n",
    "7\tNalatenschap\n",
    "8\tHet einde van de mythe\n",
    "9\tWetenswaardig\n",
    "10\tPublicaties\n",
    "11\tLiteratuur\n",
    "12\tFilm\n",
    "```\n",
    "\n",
    "\n",
    " \n",
    "    \n",
    "    "
   ]
  },
  {
   "cell_type": "code",
   "execution_count": 18,
   "metadata": {
    "collapsed": true
   },
   "outputs": [],
   "source": [
    "%matplotlib inline\n",
    "import pandas as pd\n",
    "import re\n",
    "from lxml import etree \n",
    "from bz2file import BZ2File\n",
    "import codecs\n",
    "from nltk.tokenize import RegexpTokenizer\n",
    "from collections import Counter\n"
   ]
  },
  {
   "cell_type": "code",
   "execution_count": 3,
   "metadata": {
    "collapsed": false
   },
   "outputs": [],
   "source": [
    "#f = '/home/dylan/Downloads/nlwiki-20160111-pages-articles1.xml.bz2'\n",
    "f = 'nlwiki-20160111-pages-articles1.xml.bz2'\n",
    "with BZ2File(f) as xml_file:\n",
    "    context = etree.iterparse(xml_file,  tag= '{http://www.mediawiki.org/xml/export-0.10/}page')\n",
    "    dfdict = {}\n",
    "    for _, elem in context:\n",
    "        title= elem.findtext('{http://www.mediawiki.org/xml/export-0.10/}title') \n",
    "        page_id = int(elem.findtext('{http://www.mediawiki.org/xml/export-0.10/}id'))\n",
    "        pagetext=elem.findtext('{http://www.mediawiki.org/xml/export-0.10/}revision/{http://www.mediawiki.org/xml/export-0.10/}text')\n",
    "        sectionnames = re.findall('== (.*?) ==', pagetext)\n",
    "        numsections = len(sectionnames)\n",
    "        wordcount = len(RegexpTokenizer(r'\\w+').tokenize(pagetext))\n",
    "        dfdict[page_id] = [title, sectionnames, numsections, wordcount]\n"
   ]
  },
  {
   "cell_type": "code",
   "execution_count": 19,
   "metadata": {
    "collapsed": false
   },
   "outputs": [
    {
     "data": {
      "text/html": [
       "<div>\n",
       "<table border=\"1\" class=\"dataframe\">\n",
       "  <thead>\n",
       "    <tr style=\"text-align: right;\">\n",
       "      <th></th>\n",
       "      <th>Titel</th>\n",
       "      <th>Namen secties</th>\n",
       "      <th>Aantal Secties</th>\n",
       "      <th>Aantal Woorden</th>\n",
       "    </tr>\n",
       "  </thead>\n",
       "  <tbody>\n",
       "    <tr>\n",
       "      <th>1</th>\n",
       "      <td>Albert Speer</td>\n",
       "      <td>[Voor 1933, In dienst van Hitler, Speer de org...</td>\n",
       "      <td>11</td>\n",
       "      <td>2756</td>\n",
       "    </tr>\n",
       "    <tr>\n",
       "      <th>2</th>\n",
       "      <td>Andre Agassi</td>\n",
       "      <td>[Biografie, Carrière, Tegenwoordig, Palmres, E...</td>\n",
       "      <td>10</td>\n",
       "      <td>11879</td>\n",
       "    </tr>\n",
       "    <tr>\n",
       "      <th>5</th>\n",
       "      <td>Groen (partij)</td>\n",
       "      <td>[Naam, Geschiedenis, Ontstaan van de beweging ...</td>\n",
       "      <td>34</td>\n",
       "      <td>6009</td>\n",
       "    </tr>\n",
       "    <tr>\n",
       "      <th>6</th>\n",
       "      <td>Anthony Fokker</td>\n",
       "      <td>[Levensloop, Trivia, Bibliografie, Externe links]</td>\n",
       "      <td>4</td>\n",
       "      <td>1048</td>\n",
       "    </tr>\n",
       "    <tr>\n",
       "      <th>7</th>\n",
       "      <td>Albert Plesman</td>\n",
       "      <td>[]</td>\n",
       "      <td>0</td>\n",
       "      <td>1193</td>\n",
       "    </tr>\n",
       "  </tbody>\n",
       "</table>\n",
       "</div>"
      ],
      "text/plain": [
       "            Titel                                      Namen secties  \\\n",
       "1    Albert Speer  [Voor 1933, In dienst van Hitler, Speer de org...   \n",
       "2    Andre Agassi  [Biografie, Carrière, Tegenwoordig, Palmres, E...   \n",
       "5  Groen (partij)  [Naam, Geschiedenis, Ontstaan van de beweging ...   \n",
       "6  Anthony Fokker  [Levensloop, Trivia, Bibliografie, Externe links]   \n",
       "7  Albert Plesman                                                 []   \n",
       "\n",
       "   Aantal Secties  Aantal Woorden  \n",
       "1              11            2756  \n",
       "2              10           11879  \n",
       "5              34            6009  \n",
       "6               4            1048  \n",
       "7               0            1193  "
      ]
     },
     "execution_count": 19,
     "metadata": {},
     "output_type": "execute_result"
    }
   ],
   "source": [
    "dfwiki = pd.DataFrame.from_dict(dfdict, orient='index')\n",
    "dfwiki.columns = ['Titel', 'Namen secties', 'Aantal Secties', 'Aantal Woorden']\n",
    "\n",
    "dfwiki.head()\n",
    "#Sla dit dataframe op als pickle bestand.\n",
    "#dfwiki.to_pickle('dfwiki.pkl')"
   ]
  },
  {
   "cell_type": "code",
   "execution_count": null,
   "metadata": {
    "collapsed": true
   },
   "outputs": [],
   "source": [
    "#4 Maak een plot waarin je op de x-as het aantal secties zet en op de y-as het aantal paginas met zoveel secties.\n",
    "#Zorg dat het goed leesbaar is door eventueel een log schaal te gebruiken."
   ]
  },
  {
   "cell_type": "code",
   "execution_count": 30,
   "metadata": {
    "collapsed": false
   },
   "outputs": [
    {
     "data": {
      "text/plain": [
       "<matplotlib.axes._subplots.AxesSubplot at 0x1663a8550>"
      ]
     },
     "execution_count": 30,
     "metadata": {},
     "output_type": "execute_result"
    },
    {
     "data": {
      "image/png": "[encoded data removed]",
      "text/plain": [
       "<matplotlib.figure.Figure at 0x16949c610>"
      ]
     },
     "metadata": {},
     "output_type": "display_data"
    }
   ],
   "source": [
    "c = Counter(dfwiki['Aantal Secties'])\n",
    "\n",
    "df = pd.DataFrame.from_dict(c, orient='index').reset_index()\n",
    "df.columns = ['aantal secties', 'occurences']\n",
    "df.plot(x='aantal secties', y='occurences', logy=True)"
   ]
  },
  {
   "cell_type": "code",
   "execution_count": 64,
   "metadata": {
    "collapsed": false
   },
   "outputs": [
    {
     "name": "stdout",
     "output_type": "stream",
     "text": [
      "Gemiddeld aantal secties: 1.98105790503\n",
      "Mediaan secties: 0.0\n",
      "Maximale aantal secties: 167\n",
      "Pagina met maximaal aantal secties: Werelderfgoedlijst\n"
     ]
    }
   ],
   "source": [
    "# 5 Bereken het gemiddeld aantal secties, de mediaan, en geef de (een?) pagina met het maximale aantal secties.\n",
    "sections_av =  dfwiki['Aantal Secties'].mean()\n",
    "print 'Gemiddeld aantal secties:', sections_av\n",
    "sections_med = dfwiki['Aantal Secties'].median()\n",
    "print 'Mediaan secties:', sections_med\n",
    "\n",
    "maxpage = dfwiki[dfwiki['Aantal Secties'] == dfwiki['Aantal Secties'].max()]\n",
    "max_no = maxpage.get_value(maxpage.index[0],'Aantal Secties')\n",
    "pagetitle = maxpage.get_value(maxpage.index[0],'Titel')\n",
    "print 'Maximale aantal secties:', max_no\n",
    "print 'Pagina met maximaal aantal secties:', pagetitle\n"
   ]
  },
  {
   "cell_type": "code",
   "execution_count": 69,
   "metadata": {
    "collapsed": true
   },
   "outputs": [],
   "source": [
    "# 6 Plot het aantal secties tegen het aantal woorden en bereken de correlatie."
   ]
  },
  {
   "cell_type": "code",
   "execution_count": 67,
   "metadata": {
    "collapsed": false
   },
   "outputs": [
    {
     "name": "stdout",
     "output_type": "stream",
     "text": [
      "Gemiddeld aantal woorden per sectie: 289\n"
     ]
    }
   ],
   "source": [
    "# 7 Wat is het gemiddeld aantal woorden per sectie op NL Wikipedia?\n",
    "total_words = dfwiki['Aantal Woorden'].sum()\n",
    "total_sections = dfwiki['Aantal Secties'].sum()\n",
    "\n",
    "av_no_word_sections = total_words/total_sections\n",
    "print 'Gemiddeld aantal woorden per sectie:', av_no_word_sections"
   ]
  },
  {
   "cell_type": "code",
   "execution_count": null,
   "metadata": {
    "collapsed": true
   },
   "outputs": [],
   "source": []
  }
 ],
 "metadata": {
  "celltoolbar": "Slideshow",
  "kernelspec": {
   "display_name": "Python 2",
   "language": "python",
   "name": "python2"
  },
  "language_info": {
   "codemirror_mode": {
    "name": "ipython",
    "version": 2
   },
   "file_extension": ".py",
   "mimetype": "text/x-python",
   "name": "python",
   "nbconvert_exporter": "python",
   "pygments_lexer": "ipython2",
   "version": "2.7.11"
  }
 },
 "nbformat": 4,
 "nbformat_minor": 0
}
