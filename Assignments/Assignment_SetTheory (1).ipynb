{
 "cells": [
  {
   "cell_type": "markdown",
   "metadata": {
    "slideshow": {
     "slide_type": "slide"
    }
   },
   "source": [
    "# [Verzamelingen][ver]\n",
    "\n",
    "* We bekijken verzamelingen in theorie en in the praktijk in Python.\n",
    "* We volgen <http://en.wikipedia.org/wiki/Set_(mathematics)>\n",
    "* Ten slotte bekijken we het verband tussen verzamelingen en Boolse Logica.\n",
    "\n",
    "[ver]:http://en.wikipedia.org/wiki/Set_(mathematics)"
   ]
  },
  {
   "cell_type": "code",
   "execution_count": 5,
   "metadata": {
    "collapsed": false
   },
   "outputs": [
    {
     "data": {
      "text/html": [
       "<iframe src=http://en.wikipedia.org/wiki/Set_(mathematics) width=700 height=350></iframe>"
      ],
      "text/plain": [
       "<IPython.core.display.HTML object>"
      ]
     },
     "execution_count": 5,
     "metadata": {},
     "output_type": "execute_result"
    }
   ],
   "source": [
    "from IPython.display import HTML\n",
    "HTML('<iframe src=http://en.wikipedia.org/wiki/Set_(mathematics) width=700 height=350></iframe>')"
   ]
  },
  {
   "cell_type": "markdown",
   "metadata": {
    "slideshow": {
     "slide_type": "slide"
    }
   },
   "source": [
    "# [1 Definitie van een verzameling (set)][def]\n",
    "\n",
    "* Sets zijn **veranderlijke** en **ongeordende** collecties van unieke en onveranderlijke voorwerpen. \n",
    "* Een set is een verzameling van **elementen** of **leden**.\n",
    "* Twee sets zijn gelijk (hetzelfde) als  elk element van een set is een element is van de andere set.\n",
    "* Sets ondersteunen wiskundige bewerkingen zoals bijvoorbeeld union en intersection.\n",
    "\n",
    "\n",
    "[def]: http://en.wikipedia.org/wiki/Set_(mathematics)#Definition \"Definitie\"\n",
    "\n",
    " "
   ]
  },
  {
   "cell_type": "markdown",
   "metadata": {},
   "source": [
    "# [2 Hoe maak je een verzameling?][des][ En hoe noteer je een verzameling?][des2]\n",
    "\n",
    "[des]: http://en.wikipedia.org/wiki/Set_(mathematics)#Describing_sets\n",
    "[des2]:https://en.wikipedia.org/wiki/Set_notation\n",
    "\n",
    "## Voorbeelden van\n",
    "#### A Extensioneel (opnoemen met behulp van een regel of een semantische beschrijving)\n",
    "* $C = \\{4, 2, 1, 3\\}$\n",
    "* $D = \\{blue, white, red\\}$\n",
    "\n",
    "#### B Intensioneel (met een definitie, opsomming van elk lid van de set)\n",
    "\n",
    "*  $F=\\{n^2 \\mid n \\in \\mathbb{N} \\mbox{ en } 1\\leq n\\leq 10 \\}$ (De eerste tien kwadraten)\n",
    "*  Alle even getallen:\n",
    "* Alle getallen deelbaar door acht"
   ]
  },
  {
   "cell_type": "code",
   "execution_count": 6,
   "metadata": {
    "collapsed": false,
    "slideshow": {
     "slide_type": "subslide"
    }
   },
   "outputs": [],
   "source": [
    "C = {4,2,1,3}\n",
    "CC = {1,2,3,4}\n",
    "CCC = set(range(1,5))\n",
    "CCCC = set([4,2,1,3])\n"
   ]
  },
  {
   "cell_type": "code",
   "execution_count": 7,
   "metadata": {
    "collapsed": false,
    "scrolled": true,
    "slideshow": {
     "slide_type": "fragment"
    }
   },
   "outputs": [
    {
     "data": {
      "text/plain": [
       "{1, 2, 3, 4}"
      ]
     },
     "execution_count": 7,
     "metadata": {},
     "output_type": "execute_result"
    }
   ],
   "source": [
    "C"
   ]
  },
  {
   "cell_type": "code",
   "execution_count": 8,
   "metadata": {
    "collapsed": false,
    "slideshow": {
     "slide_type": "fragment"
    }
   },
   "outputs": [
    {
     "data": {
      "text/plain": [
       "{1, 2, 3, 4}"
      ]
     },
     "execution_count": 8,
     "metadata": {},
     "output_type": "execute_result"
    }
   ],
   "source": [
    "CCC"
   ]
  },
  {
   "cell_type": "code",
   "execution_count": 9,
   "metadata": {
    "collapsed": false,
    "slideshow": {
     "slide_type": "fragment"
    }
   },
   "outputs": [
    {
     "data": {
      "text/plain": [
       "True"
      ]
     },
     "execution_count": 9,
     "metadata": {},
     "output_type": "execute_result"
    }
   ],
   "source": [
    "C==CCC"
   ]
  },
  {
   "cell_type": "code",
   "execution_count": 10,
   "metadata": {
    "collapsed": false,
    "slideshow": {
     "slide_type": "fragment"
    }
   },
   "outputs": [
    {
     "data": {
      "text/plain": [
       "{'blue', 'red', 'white'}"
      ]
     },
     "execution_count": 10,
     "metadata": {},
     "output_type": "execute_result"
    }
   ],
   "source": [
    "D = {'blue','white','red'}\n",
    "D"
   ]
  },
  {
   "cell_type": "markdown",
   "metadata": {
    "slideshow": {
     "slide_type": "slide"
    }
   },
   "source": [
    "# Set en List comprehension in Python"
   ]
  },
  {
   "cell_type": "code",
   "execution_count": 11,
   "metadata": {
    "collapsed": false,
    "slideshow": {
     "slide_type": "fragment"
    }
   },
   "outputs": [
    {
     "data": {
      "text/plain": [
       "{1, 4, 9, 16, 25, 36, 49, 64, 81, 100}"
      ]
     },
     "execution_count": 11,
     "metadata": {},
     "output_type": "execute_result"
    }
   ],
   "source": [
    "F = {n*n for n in range(1,11)}\n",
    "F"
   ]
  },
  {
   "cell_type": "code",
   "execution_count": 12,
   "metadata": {
    "collapsed": false,
    "slideshow": {
     "slide_type": "fragment"
    }
   },
   "outputs": [
    {
     "data": {
      "text/plain": [
       "[1, 4, 9, 16, 25, 36, 49, 64, 81, 100]"
      ]
     },
     "execution_count": 12,
     "metadata": {},
     "output_type": "execute_result"
    }
   ],
   "source": [
    "FL = [n*n for n in range(1,11)]\n",
    "FL"
   ]
  },
  {
   "cell_type": "code",
   "execution_count": 13,
   "metadata": {
    "collapsed": false,
    "slideshow": {
     "slide_type": "fragment"
    }
   },
   "outputs": [],
   "source": [
    "#Your turn: show that order matters for lists but not for sets"
   ]
  },
  {
   "cell_type": "markdown",
   "metadata": {
    "slideshow": {
     "slide_type": "fragment"
    }
   },
   "source": [
    "## Adding conditions"
   ]
  },
  {
   "cell_type": "code",
   "execution_count": 14,
   "metadata": {
    "collapsed": false,
    "slideshow": {
     "slide_type": "fragment"
    }
   },
   "outputs": [
    {
     "data": {
      "text/plain": [
       "{'a', 'd', 'e', 'g', 'h', 'i', 'k', 'l', 'm', 'n', 'r', 'u', 'v', 'z'}"
      ]
     },
     "execution_count": 14,
     "metadata": {},
     "output_type": "execute_result"
    }
   ],
   "source": [
    "Letters = {char.lower() for char in 'Ik vind       verzamelingen HEEL Leuk!!!!' if not char in ' !' }\n",
    "\n",
    "Letters\n"
   ]
  },
  {
   "cell_type": "markdown",
   "metadata": {
    "slideshow": {
     "slide_type": "slide"
    }
   },
   "source": [
    "# Let op!\n",
    "\n",
    "* Verzameling heeft geen volgorde\n",
    "* Je kan er dus niet het \"eerste element\" uithalen\n",
    "* Elk element van een verzameling moet _hashable_ zijn. \n",
    "    * Sets, lijsten en dictionairies zijn dat **niet**.\n",
    "\n",
    "Zie <http://en.wikibooks.org/wiki/Python_Programming/Sets> voor verzamelingen in Python."
   ]
  },
  {
   "cell_type": "code",
   "execution_count": 15,
   "metadata": {
    "collapsed": false,
    "slideshow": {
     "slide_type": "fragment"
    }
   },
   "outputs": [
    {
     "ename": "TypeError",
     "evalue": "'set' object does not support indexing",
     "output_type": "error",
     "traceback": [
      "\u001b[1;31m---------------------------------------------------------------------------\u001b[0m",
      "\u001b[1;31mTypeError\u001b[0m                                 Traceback (most recent call last)",
      "\u001b[1;32m<ipython-input-15-d0a9df08dfd4>\u001b[0m in \u001b[0;36m<module>\u001b[1;34m()\u001b[0m\n\u001b[0;32m      1\u001b[0m \u001b[0mA\u001b[0m \u001b[1;33m=\u001b[0m \u001b[1;33m{\u001b[0m\u001b[1;36m1\u001b[0m\u001b[1;33m,\u001b[0m\u001b[1;36m2\u001b[0m\u001b[1;33m,\u001b[0m\u001b[1;36m3\u001b[0m\u001b[1;33m}\u001b[0m\u001b[1;33m\u001b[0m\u001b[0m\n\u001b[1;32m----> 2\u001b[1;33m \u001b[0mA\u001b[0m\u001b[1;33m[\u001b[0m\u001b[1;36m0\u001b[0m\u001b[1;33m]\u001b[0m\u001b[1;33m\u001b[0m\u001b[0m\n\u001b[0m",
      "\u001b[1;31mTypeError\u001b[0m: 'set' object does not support indexing"
     ]
    }
   ],
   "source": [
    "A = {1,2,3}\n",
    "A[0]"
   ]
  },
  {
   "cell_type": "markdown",
   "metadata": {
    "slideshow": {
     "slide_type": "slide"
    }
   },
   "source": [
    "# [Lid van en deel van een verzameling, machtsverzameling][mem]\n",
    "\n",
    "[mem]: http://en.wikipedia.org/wiki/Set_(mathematics)#Membership\n",
    "\n"
   ]
  },
  {
   "cell_type": "markdown",
   "metadata": {
    "slideshow": {
     "slide_type": "slide"
    }
   },
   "source": [
    "# Python"
   ]
  },
  {
   "cell_type": "code",
   "execution_count": null,
   "metadata": {
    "collapsed": false,
    "slideshow": {
     "slide_type": "fragment"
    }
   },
   "outputs": [],
   "source": [
    "# Lid van een verzameling\n",
    "\n",
    "1 in {2,3,4}"
   ]
  },
  {
   "cell_type": "code",
   "execution_count": null,
   "metadata": {
    "collapsed": false,
    "slideshow": {
     "slide_type": "fragment"
    }
   },
   "outputs": [],
   "source": [
    "1 in {2,3,1}"
   ]
  },
  {
   "cell_type": "code",
   "execution_count": null,
   "metadata": {
    "collapsed": false,
    "slideshow": {
     "slide_type": "fragment"
    }
   },
   "outputs": [],
   "source": [
    "#deelverzameling\n",
    "\n",
    "def deelverzameling(A,B):\n",
    "    if A==set([]):  # A  is de lege verzameling\n",
    "        return True\n",
    "    else:\n",
    "        element = A.pop() # pak een element uit A, A is nu de rest\n",
    "         \n",
    "        # maak dit af, gebruik liefst recursie\n",
    "deelverzameling({1,2},{2,3,1})"
   ]
  },
  {
   "cell_type": "code",
   "execution_count": null,
   "metadata": {
    "collapsed": false,
    "slideshow": {
     "slide_type": "slide"
    }
   },
   "outputs": [],
   "source": [
    "# Machtsverzameling\n",
    "\n",
    "## warmlopen: maak alle 2**n combinaties van letters uit een string _s_ van lengte n (volgorde doet er niet toe)\n",
    "def com(s):\n",
    "    if s=='':\n",
    "        return ['']\n",
    "    else:\n",
    "        left = com(s[1:])\n",
    "        right = [s[0]+ss for ss in com(s[1:])]\n",
    "        return left+right\n",
    "# test\n",
    "com('abc')\n",
    "    \n",
    "    \n",
    "### Doe nu hetzelfde maar dan voor machtsverzameling\n",
    "\n",
    "def machtsverzameling(A):\n",
    "    '''voor A een verzameling, geeft machtsverzameling(A) een lijst met alle deelverzamelingen van A'''\n",
    "    if A== []:\n",
    "        return [[]]\n",
    "    else:\n",
    "         e = A.pop()\n",
    "         left = machtsverzameling(A)\n",
    "          \n",
    "         right = [a + [e] for a in left  ]\n",
    "         \n",
    "    return left + right\n",
    "# test\n",
    "machtsverzameling([1,2,3])\n",
    " "
   ]
  },
  {
   "cell_type": "code",
   "execution_count": null,
   "metadata": {
    "collapsed": false
   },
   "outputs": [],
   "source": [
    "def machtsverzameling(A):\n",
    "    '''voor A een verzameling, geeft machtsverzameling(A) een lijst met alle deelverzamelingen van A'''\n",
    "    if A== set([]):\n",
    "        return [set()]\n",
    "    else:\n",
    "         e = A.pop()\n",
    "         left = machtsverzameling(A)\n",
    "          \n",
    "         right = [set(list(a) + [e]) for a in left  ]\n",
    "         \n",
    "    return left + right\n",
    "# test\n",
    "machtsverzameling(set([1,2,3]))"
   ]
  },
  {
   "cell_type": "code",
   "execution_count": null,
   "metadata": {
    "collapsed": false
   },
   "outputs": [],
   "source": [
    "def machtsverzameling(A):\n",
    "    '''voor A een verzameling, geeft machtsverzameling(A) een lijst met alle deelverzamelingen van A'''\n",
    "    if A== set([]):\n",
    "        return [set()]\n",
    "    else:\n",
    "         e = list(A)[0]\n",
    "         rest = list(A)[1:]   \n",
    "         left = machtsverzameling(set(rest))\n",
    "          \n",
    "         right = [a | {e}   for a in left  ]\n",
    "         \n",
    "    return left + right\n",
    "# test\n",
    "machtsverzameling(set([1,2,3]))"
   ]
  },
  {
   "cell_type": "markdown",
   "metadata": {
    "slideshow": {
     "slide_type": "slide"
    }
   },
   "source": [
    "# Exclusive or\n",
    "\n",
    "* Also called symmetric difference\n",
    "* Often mistakingly used as the meaning of the natural language \"or\"\n",
    "* used very much in programming\n",
    "\n",
    "## definition\n",
    "> $e \\in A\\  XOR\\  B \\iff e \\in A$ or $e \\in B$, but not in both\n",
    "\n",
    "> $ A \\ XOR\\  B \\equiv (A \\cup B) \\setminus (A\\cap B)$\n",
    "\n",
    "\n",
    "![XOR](http://upload.wikimedia.org/wikipedia/commons/4/46/Venn0110.svg)"
   ]
  },
  {
   "cell_type": "markdown",
   "metadata": {
    "slideshow": {
     "slide_type": "slide"
    }
   },
   "source": [
    "# Exclusive or\n",
    "\n",
    "## Implementation in Python\n",
    "\n",
    "* <http://en.wikibooks.org/wiki/Python_Programming/Sets#Symmetric_Difference>\n",
    "\n",
    "```\n",
    ">>> s1 = set([4, 6, 9])\n",
    ">>> s2 = set([1, 6, 8])\n",
    ">>> s1.symmetric_difference(s2)\n",
    "set([8, 1, 4, 9])\n",
    ">>> s1 ^ s2\n",
    "set([8, 1, 4, 9])\n",
    ">>> s1.symmetric_difference_update(s2)\n",
    ">>> s1\n",
    "set([8, 1, 4, 9])\n",
    "```"
   ]
  },
  {
   "cell_type": "code",
   "execution_count": null,
   "metadata": {
    "collapsed": false,
    "slideshow": {
     "slide_type": "fragment"
    }
   },
   "outputs": [],
   "source": [
    "s1 = set([4, 6, 9])\n",
    "s2 = set([1, 6, 8])\n",
    "s1^s2"
   ]
  },
  {
   "cell_type": "markdown",
   "metadata": {
    "slideshow": {
     "slide_type": "slide"
    }
   },
   "source": [
    "# Exclusive or\n",
    "\n",
    "## Exercises\n",
    "\n",
    "1. Show the correspondence between XOR and \"if and only if\" $\\leftrightarrow$.\n",
    "    * $p\\leftrightarrow q$ iff either both $p$ and $q$ are true or both $p$ and $q$ are false.\n",
    "2. Program XOR yourself in Python using only $\\cap$, $\\cup$ and $\\setminus$.\n",
    "3. Program XOR yourself in Python using no set operations at all. Just use comprehensions and boolean operators."
   ]
  },
  {
   "cell_type": "markdown",
   "metadata": {
    "slideshow": {
     "slide_type": "slide"
    }
   },
   "source": [
    "# Literatuur\n",
    "\n",
    "\n",
    "## [Wikipedia]\n",
    "## Python Pocket Reference\n",
    "Lutz, M. (2014). *Python pocket reference.* \" O'Reilly Media, Inc.\".\n",
    "\n",
    "\n",
    "\n",
    "[Wikipedia]: http://en.wikipedia.org/wiki/Set_(mathematics)#Definition \"Wikipedia\""
   ]
  },
  {
   "cell_type": "code",
   "execution_count": null,
   "metadata": {
    "collapsed": true
   },
   "outputs": [],
   "source": []
  }
 ],
 "metadata": {
  "celltoolbar": "Slideshow",
  "kernelspec": {
   "display_name": "Python 2",
   "language": "python",
   "name": "python2"
  },
  "language_info": {
   "codemirror_mode": {
    "name": "ipython",
    "version": 2
   },
   "file_extension": ".py",
   "mimetype": "text/x-python",
   "name": "python",
   "nbconvert_exporter": "python",
   "pygments_lexer": "ipython2",
   "version": "2.7.11"
  }
 },
 "nbformat": 4,
 "nbformat_minor": 0
}
