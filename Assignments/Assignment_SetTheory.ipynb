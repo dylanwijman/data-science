{
 "cells": [
  {
   "cell_type": "markdown",
   "metadata": {
    "slideshow": {
     "slide_type": "notes"
    }
   },
   "source": [
    "Onderwerpen\n",
    "\n",
    ">1\tDefinition\n",
    "2\tDescribing sets\n",
    "3\tMembership\n",
    "3.1\tSubsets\n",
    "3.2\tPower sets\n",
    "4\tCardinality\n",
    "5\tSpecial sets\n",
    "6\tBasic operations\n",
    "6.1\tUnions\n",
    "6.2\tIntersections\n",
    "6.3\tComplements\n",
    "6.4\tCartesian product<\n",
    "\n",
    "7\tApplications\n",
    "8\tAxiomatic set theory\n",
    "9\tPrinciple of inclusion and exclusion\n",
    "10\tDe Morgan's Law"
   ]
  },
  {
   "cell_type": "markdown",
   "metadata": {
    "slideshow": {
     "slide_type": "slide"
    }
   },
   "source": [
    "# [Verzamelingen][ver]\n",
    "\n",
    "* We bekijken verzamelingen in theorie en in the praktijk in Python.\n",
    "* We volgen <http://en.wikipedia.org/wiki/Set_(mathematics)>\n",
    "* Ten slotte bekijken we het verband tussen verzamelingen en Boolse Logica.\n",
    "\n",
    "[ver]:http://en.wikipedia.org/wiki/Set_(mathematics)"
   ]
  },
  {
   "cell_type": "code",
   "execution_count": 1,
   "metadata": {
    "collapsed": false
   },
   "outputs": [
    {
     "data": {
      "text/html": [
       "<iframe src=http://en.wikipedia.org/wiki/Set_(mathematics) width=700 height=350></iframe>"
      ],
      "text/plain": [
       "<IPython.core.display.HTML object>"
      ]
     },
     "execution_count": 1,
     "metadata": {},
     "output_type": "execute_result"
    }
   ],
   "source": [
    "from IPython.display import HTML\n",
    "HTML('<iframe src=http://en.wikipedia.org/wiki/Set_(mathematics) width=700 height=350></iframe>')"
   ]
  },
  {
   "cell_type": "markdown",
   "metadata": {
    "slideshow": {
     "slide_type": "slide"
    }
   },
   "source": [
    "# [1 Definitie van een verzameling (set)][def]\n",
    "\n",
    "* Sets zijn **veranderlijke** en **ongeordende** collecties van unieke en onveranderlijke voorwerpen. \n",
    "* Een set is een verzameling van **elementen** of **leden**.\n",
    "* Twee sets zijn gelijk (hetzelfde) als  elk element van een set is een element is van de andere set.\n",
    "* Sets ondersteunen wiskundige bewerkingen zoals bijvoorbeeld union en intersection.\n",
    "\n",
    "\n",
    "[def]: http://en.wikipedia.org/wiki/Set_(mathematics)#Definition \"Definitie\"\n",
    "\n",
    " "
   ]
  },
  {
   "cell_type": "markdown",
   "metadata": {},
   "source": [
    "# [2 Hoe maak je een verzameling?][des][ En hoe noteer je een verzameling?][des2]\n",
    "\n",
    "[des]: http://en.wikipedia.org/wiki/Set_(mathematics)#Describing_sets\n",
    "[des2]:https://en.wikipedia.org/wiki/Set_notation\n",
    "\n",
    "## Voorbeelden van\n",
    "#### A Extensioneel (opnoemen met behulp van een regel of een semantische beschrijving)\n",
    "* $C = \\{4, 2, 1, 3\\}$\n",
    "* $D = \\{blue, white, red\\}$\n",
    "\n",
    "#### B Intensioneel (met een definitie, opsomming van elk lid van de set)\n",
    "\n",
    "*  $F=\\{n^2 \\mid n \\in \\mathbb{N} \\mbox{ en } 1\\leq n\\leq 10 \\}$ (De eerste tien kwadraten)\n",
    "*  Alle even getallen:\n",
    "* Alle getallen deelbaar door acht"
   ]
  },
  {
   "cell_type": "code",
   "execution_count": 2,
   "metadata": {
    "collapsed": false,
    "slideshow": {
     "slide_type": "subslide"
    }
   },
   "outputs": [],
   "source": [
    "C = {4,2,1,3}\n",
    "CC = {1,2,3,4}\n",
    "CCC = set(range(1,5))\n",
    "CCCC = set([4,2,1,3])\n"
   ]
  },
  {
   "cell_type": "code",
   "execution_count": 3,
   "metadata": {
    "collapsed": false,
    "scrolled": true,
    "slideshow": {
     "slide_type": "fragment"
    }
   },
   "outputs": [
    {
     "data": {
      "text/plain": [
       "{1, 2, 3, 4}"
      ]
     },
     "execution_count": 3,
     "metadata": {},
     "output_type": "execute_result"
    }
   ],
   "source": [
    "C"
   ]
  },
  {
   "cell_type": "code",
   "execution_count": 4,
   "metadata": {
    "collapsed": false,
    "slideshow": {
     "slide_type": "fragment"
    }
   },
   "outputs": [
    {
     "data": {
      "text/plain": [
       "{1, 2, 3, 4}"
      ]
     },
     "execution_count": 4,
     "metadata": {},
     "output_type": "execute_result"
    }
   ],
   "source": [
    "CCC"
   ]
  },
  {
   "cell_type": "code",
   "execution_count": 5,
   "metadata": {
    "collapsed": false,
    "slideshow": {
     "slide_type": "fragment"
    }
   },
   "outputs": [
    {
     "data": {
      "text/plain": [
       "True"
      ]
     },
     "execution_count": 5,
     "metadata": {},
     "output_type": "execute_result"
    }
   ],
   "source": [
    "C==CCC"
   ]
  },
  {
   "cell_type": "code",
   "execution_count": 6,
   "metadata": {
    "collapsed": false,
    "slideshow": {
     "slide_type": "fragment"
    }
   },
   "outputs": [
    {
     "data": {
      "text/plain": [
       "{'blue', 'red', 'white'}"
      ]
     },
     "execution_count": 6,
     "metadata": {},
     "output_type": "execute_result"
    }
   ],
   "source": [
    "D = {'blue','white','red'}\n",
    "D"
   ]
  },
  {
   "cell_type": "markdown",
   "metadata": {
    "slideshow": {
     "slide_type": "slide"
    }
   },
   "source": [
    "# Set en List comprehension in Python"
   ]
  },
  {
   "cell_type": "code",
   "execution_count": 7,
   "metadata": {
    "collapsed": false,
    "slideshow": {
     "slide_type": "fragment"
    }
   },
   "outputs": [
    {
     "data": {
      "text/plain": [
       "{1, 4, 9, 16, 25, 36, 49, 64, 81, 100}"
      ]
     },
     "execution_count": 7,
     "metadata": {},
     "output_type": "execute_result"
    }
   ],
   "source": [
    "F = {n*n for n in range(1,11)}\n",
    "F"
   ]
  },
  {
   "cell_type": "code",
   "execution_count": 8,
   "metadata": {
    "collapsed": false,
    "slideshow": {
     "slide_type": "fragment"
    }
   },
   "outputs": [
    {
     "data": {
      "text/plain": [
       "[1, 4, 9, 16, 25, 36, 49, 64, 81, 100]"
      ]
     },
     "execution_count": 8,
     "metadata": {},
     "output_type": "execute_result"
    }
   ],
   "source": [
    "FL = [n*n for n in range(1,11)]\n",
    "FL"
   ]
  },
  {
   "cell_type": "code",
   "execution_count": 9,
   "metadata": {
    "collapsed": false,
    "slideshow": {
     "slide_type": "fragment"
    }
   },
   "outputs": [],
   "source": [
    "#Your turn: show that order matters for lists but not for sets"
   ]
  },
  {
   "cell_type": "markdown",
   "metadata": {
    "slideshow": {
     "slide_type": "fragment"
    }
   },
   "source": [
    "## Adding conditions"
   ]
  },
  {
   "cell_type": "code",
   "execution_count": 10,
   "metadata": {
    "collapsed": false,
    "slideshow": {
     "slide_type": "fragment"
    }
   },
   "outputs": [
    {
     "data": {
      "text/plain": [
       "{'a', 'd', 'e', 'g', 'h', 'i', 'k', 'l', 'm', 'n', 'r', 'u', 'v', 'z'}"
      ]
     },
     "execution_count": 10,
     "metadata": {},
     "output_type": "execute_result"
    }
   ],
   "source": [
    "Letters = {char.lower() for char in 'Ik vind       verzamelingen HEEL Leuk!!!!' if not char in ' !' }\n",
    "\n",
    "Letters\n"
   ]
  },
  {
   "cell_type": "markdown",
   "metadata": {
    "slideshow": {
     "slide_type": "slide"
    }
   },
   "source": [
    "# Let op!\n",
    "\n",
    "* Verzameling heeft geen volgorde\n",
    "* Je kan er dus niet het \"eerste element\" uithalen\n",
    "* Elk element van een verzameling moet _hashable_ zijn. \n",
    "    * Sets, lijsten en dictionairies zijn dat **niet**.\n",
    "\n",
    "Zie <http://en.wikibooks.org/wiki/Python_Programming/Sets> voor verzamelingen in Python."
   ]
  },
  {
   "cell_type": "code",
   "execution_count": 11,
   "metadata": {
    "collapsed": false,
    "slideshow": {
     "slide_type": "fragment"
    }
   },
   "outputs": [
    {
     "ename": "TypeError",
     "evalue": "'set' object does not support indexing",
     "output_type": "error",
     "traceback": [
      "\u001b[1;31m---------------------------------------------------------------------------\u001b[0m",
      "\u001b[1;31mTypeError\u001b[0m                                 Traceback (most recent call last)",
      "\u001b[1;32m<ipython-input-11-d0a9df08dfd4>\u001b[0m in \u001b[0;36m<module>\u001b[1;34m()\u001b[0m\n\u001b[0;32m      1\u001b[0m \u001b[0mA\u001b[0m \u001b[1;33m=\u001b[0m \u001b[1;33m{\u001b[0m\u001b[1;36m1\u001b[0m\u001b[1;33m,\u001b[0m\u001b[1;36m2\u001b[0m\u001b[1;33m,\u001b[0m\u001b[1;36m3\u001b[0m\u001b[1;33m}\u001b[0m\u001b[1;33m\u001b[0m\u001b[0m\n\u001b[1;32m----> 2\u001b[1;33m \u001b[0mA\u001b[0m\u001b[1;33m[\u001b[0m\u001b[1;36m0\u001b[0m\u001b[1;33m]\u001b[0m\u001b[1;33m\u001b[0m\u001b[0m\n\u001b[0m",
      "\u001b[1;31mTypeError\u001b[0m: 'set' object does not support indexing"
     ]
    }
   ],
   "source": [
    "A = {1,2,3}\n",
    "A[0]"
   ]
  },
  {
   "cell_type": "markdown",
   "metadata": {
    "slideshow": {
     "slide_type": "slide"
    }
   },
   "source": [
    "# [3 Lid van en deel van een verzameling, machtsverzameling][mem]\n",
    "\n",
    "[mem]: http://en.wikipedia.org/wiki/Set_(mathematics)#Membership\n",
    "\n",
    "- Als **B** een set is en **x** is een van de objecten van **B**\n",
    "\t- wordt aangeduid als**x** ∈ **B**\n",
    "\t- wordt gelezen als \"**x** zit in **B**\", of \n",
    "\t- \"**x** is een element van **B**\".\n",
    "- Als **y *geen*** onderdeel is van **B**\n",
    "\t- wordt aangeduid als**y** ∉ **B**\n",
    "\t- en wordt gelezen als\"**y** zit**niet** in **B**\"."
   ]
  },
  {
   "cell_type": "markdown",
   "metadata": {
    "slideshow": {
     "slide_type": "slide"
    }
   },
   "source": [
    "# [3.1 Subsets][sub]\n",
    "\n",
    "[sub]: https://en.wikipedia.org/wiki/Set_(mathematics)#Subsets\n",
    "\n",
    "- Als elk lid van set **A**  ook een lid is van set **B**, is **A** een *subset* van B\n",
    "\t- wordt aangeduid als **A** ⊆ **B**\n",
    "\t- wordt gelezen als **A** zit in **B**. \n",
    "- **B** ⊇ **A** betekent dat B de *superset* van **A, B** inclusief **A**, of **B** bevat **A**\n",
    "- De relatie tussen sets opgesteld door **⊆** heet *inclusion* of *containment*."
   ]
  },
  {
   "cell_type": "markdown",
   "metadata": {
    "slideshow": {
     "slide_type": "slide"
    }
   },
   "source": [
    "# [3.2 Power sets][power]\n",
    "\n",
    "[power]: https://en.wikipedia.org/wiki/Set_(mathematics)#Power_sets\n",
    "\n",
    "- De power set van set S is de *set van alle subsets van S*\n",
    "- De power set bevat **S zelf** en de **lege set**, deze zijn namelijk beide subsets van S.\n",
    "- De power set van set S wordt meestal aangeduid met **P(S)**.\n",
    "\n",
    "#####**Voorbeeld**\n",
    "- De power set van de set {1, 2, 3} is:\n",
    "* {{1, 2, 3}, {1, 2}, {1, 3}, {2, 3}, {1}, {2}, {3}, ∅}."
   ]
  },
  {
   "cell_type": "markdown",
   "metadata": {
    "slideshow": {
     "slide_type": "slide"
    }
   },
   "source": [
    "# Membership in Python"
   ]
  },
  {
   "cell_type": "code",
   "execution_count": null,
   "metadata": {
    "collapsed": false,
    "slideshow": {
     "slide_type": "fragment"
    }
   },
   "outputs": [],
   "source": [
    "# Lid van een verzameling\n",
    "\n",
    "1 in {2,3,4}"
   ]
  },
  {
   "cell_type": "code",
   "execution_count": null,
   "metadata": {
    "collapsed": false,
    "slideshow": {
     "slide_type": "fragment"
    }
   },
   "outputs": [],
   "source": [
    "1 in {2,3,1}"
   ]
  },
  {
   "cell_type": "code",
   "execution_count": null,
   "metadata": {
    "collapsed": false,
    "slideshow": {
     "slide_type": "fragment"
    }
   },
   "outputs": [],
   "source": [
    "#deelverzameling\n",
    "\n",
    "def deelverzameling(A,B):\n",
    "    if A==set([]):  # A  is de lege verzameling\n",
    "        return True\n",
    "    else:\n",
    "        element = A.pop() # pak een element uit A, A is nu de rest\n",
    "         \n",
    "        # maak dit af, gebruik liefst recursie\n",
    "deelverzameling({1,2},{2,3,1})"
   ]
  },
  {
   "cell_type": "code",
   "execution_count": null,
   "metadata": {
    "collapsed": false,
    "slideshow": {
     "slide_type": "slide"
    }
   },
   "outputs": [],
   "source": [
    "# Machtsverzameling\n",
    "\n",
    "## warmlopen: maak alle 2**n combinaties van letters uit een string _s_ van lengte n (volgorde doet er niet toe)\n",
    "def com(s):\n",
    "    if s=='':\n",
    "        return ['']\n",
    "    else:\n",
    "        left = com(s[1:])\n",
    "        right = [s[0]+ss for ss in com(s[1:])]\n",
    "        return left+right\n",
    "# test\n",
    "com('abc')\n",
    "    \n",
    "    \n",
    "### Doe nu hetzelfde maar dan voor machtsverzameling\n",
    "\n",
    "def machtsverzameling(A):\n",
    "    '''voor A een verzameling, geeft machtsverzameling(A) een lijst met alle deelverzamelingen van A'''\n",
    "    if A== []:\n",
    "        return [[]]\n",
    "    else:\n",
    "         e = A.pop()\n",
    "         left = machtsverzameling(A)\n",
    "          \n",
    "         right = [a + [e] for a in left  ]\n",
    "         \n",
    "    return left + right\n",
    "# test\n",
    "machtsverzameling([1,2,3])\n",
    " "
   ]
  },
  {
   "cell_type": "code",
   "execution_count": null,
   "metadata": {
    "collapsed": false
   },
   "outputs": [],
   "source": [
    "def machtsverzameling(A):\n",
    "    '''voor A een verzameling, geeft machtsverzameling(A) een lijst met alle deelverzamelingen van A'''\n",
    "    if A== set([]):\n",
    "        return [set()]\n",
    "    else:\n",
    "         e = A.pop()\n",
    "         left = machtsverzameling(A)\n",
    "          \n",
    "         right = [set(list(a) + [e]) for a in left  ]\n",
    "         \n",
    "    return left + right\n",
    "# test\n",
    "machtsverzameling(set([1,2,3]))"
   ]
  },
  {
   "cell_type": "code",
   "execution_count": null,
   "metadata": {
    "collapsed": false
   },
   "outputs": [],
   "source": [
    "def machtsverzameling(A):\n",
    "    '''voor A een verzameling, geeft machtsverzameling(A) een lijst met alle deelverzamelingen van A'''\n",
    "    if A== set([]):\n",
    "        return [set()]\n",
    "    else:\n",
    "         e = list(A)[0]\n",
    "         rest = list(A)[1:]   \n",
    "         left = machtsverzameling(set(rest))\n",
    "          \n",
    "         right = [a | {e}   for a in left  ]\n",
    "         \n",
    "    return left + right\n",
    "# test\n",
    "machtsverzameling(set([1,2,3]))"
   ]
  },
  {
   "cell_type": "markdown",
   "metadata": {
    "slideshow": {
     "slide_type": "slide"
    }
   },
   "source": [
    "# [4 Cardinaliteit][cardi]\n",
    "\n",
    "[cardi]: https://en.wikipedia.org/wiki/Set_(mathematics)#Cardinality\n",
    "\n",
    "De cardinaliteit *| S |* van set S is **\"het aantal leden van  S.\"**\n",
    "####Voorbeeld\n",
    "- Als B = {blue, white, red}\n",
    "- | B | = 3."
   ]
  },
  {
   "cell_type": "markdown",
   "metadata": {
    "slideshow": {
     "slide_type": "slide"
    }
   },
   "source": [
    "# Cardinaliteit in Python"
   ]
  },
  {
   "cell_type": "code",
   "execution_count": null,
   "metadata": {
    "collapsed": false,
    "scrolled": true
   },
   "outputs": [],
   "source": [
    "B = {1, 2, 3}\n",
    " len(B)"
   ]
  },
  {
   "cell_type": "markdown",
   "metadata": {
    "slideshow": {
     "slide_type": "slide"
    }
   },
   "source": [
    "# [5 Speciale sets][spec]\n",
    "\n",
    "[spec]: https://en.wikipedia.org/wiki/Set_(mathematics)#Special_sets\n",
    "\n",
    "- Sommige sets worden met regelmaat gebruikt en hebben daarom een eigen aanduiding gekregen.\n",
    "\n",
    "#### Voorbeelden\n",
    " - P of ℙ: alle priemgetallen P = {2, 3, 5, 7, 11, 13, 17, ...}.\n",
    " - N of ℕ,  alle natural numbers: N = {0, 1, 2, 3, . . .} (soms zonder 0).\n",
    " - Z of ℤ, alle integers Z = {..., −2, −1, 0, 1, 2, ...}.\n",
    " - Q of ℚ, alle rationele nummers (verzameling van alle breuken): Q = {a/b : a, b ∈ Z, b ≠ 0}.\n",
    " - R of ℝ, alle echte nummers\n",
    " - C of ℂ, alle complexe nummers: C = {a + bi : a, b ∈ R}.\n",
    " - H or ℍ, alle quaternions: H = {a + bi + cj + dk : a, b, c, d ∈ R}. Bijvoorbeeld, 1 + i + 2j − k ∈ H."
   ]
  },
  {
   "cell_type": "markdown",
   "metadata": {
    "slideshow": {
     "slide_type": "slide"
    }
   },
   "source": [
    "# [6 Basisoperaties][basic]\n",
    "\n",
    "[basic]: https://en.wikipedia.org/wiki/Set_(mathematics)#Basic_operations\n",
    "\n",
    "#### Er zijn een aantal fundamentele operaties voor sets zoals\n",
    "- Unions\n",
    "- Intersections\n",
    "- Complements\n",
    "- Cartesian product"
   ]
  },
  {
   "cell_type": "markdown",
   "metadata": {
    "slideshow": {
     "slide_type": "slide"
    }
   },
   "source": [
    "# [6.1 Unions][Unions]\n",
    "\n",
    "[Unions]: https://en.wikipedia.org/wiki/Set_(mathematics)#Unions\n",
    "\n",
    "Union: een nieuwe set welke items bevat welke in ofwel set1 ofwel set2 zitten **zonder** duplicaten\n",
    "\n",
    "![XOR](https://upload.wikimedia.org/wikipedia/commons/thumb/3/30/Venn0111.svg/384px-Venn0111.svg.png)"
   ]
  },
  {
   "cell_type": "code",
   "execution_count": null,
   "metadata": {
    "collapsed": false,
    "slideshow": {
     "slide_type": "fragment"
    }
   },
   "outputs": [],
   "source": [
    "# Twee sets.\n",
    "set1 = {1, 2, 3}\n",
    "set2 = {6, 5, 4, 3}\n",
    "\n",
    "# Union de sets.\n",
    "set3 = set1.union(set2)\n",
    "print(set3)"
   ]
  },
  {
   "cell_type": "markdown",
   "metadata": {
    "slideshow": {
     "slide_type": "slide"
    }
   },
   "source": [
    "# [6.2 Intersections][Intersections]\n",
    "\n",
    "[Intersections]: https://en.wikipedia.org/wiki/Set_(mathematics)#Intersections\n",
    "\n",
    "Intersection: nieuwe set met de items die zowel in set1 als set2 zitten\n",
    "\n",
    "![XOR](https://upload.wikimedia.org/wikipedia/commons/thumb/9/99/Venn0001.svg/384px-Venn0001.svg.png)"
   ]
  },
  {
   "cell_type": "code",
   "execution_count": null,
   "metadata": {
    "collapsed": false,
    "slideshow": {
     "slide_type": "fragment"
    }
   },
   "outputs": [],
   "source": [
    "numbers1 = {1, 3, 5, 7}\n",
    "numbers2 = {1, 3}\n",
    "\n",
    "# Intersection van de twee sets.\n",
    "print(numbers1.intersection(numbers2))"
   ]
  },
  {
   "cell_type": "markdown",
   "metadata": {
    "slideshow": {
     "slide_type": "slide"
    }
   },
   "source": [
    "# [6.3 Complements][Complements]\n",
    "\n",
    "[Complements]: https://en.wikipedia.org/wiki/Set_(mathematics)#Complements\n",
    "Twee sets kunnen worden \"subtracted\".\n",
    "\n",
    "![XOR](https://upload.wikimedia.org/wikipedia/commons/thumb/e/e6/Venn0100.svg/384px-Venn0100.svg.png)"
   ]
  },
  {
   "cell_type": "code",
   "execution_count": null,
   "metadata": {
    "collapsed": false,
    "slideshow": {
     "slide_type": "fragment"
    }
   },
   "outputs": [],
   "source": [
    "numbers1 = {1, 3, 5, 7}\n",
    "numbers2 = {1, 3}\n",
    "\n",
    "# Verschil tussen de 2 sets.\n",
    "new_numbers = numbers1- numbers2\n",
    "print new_numbers"
   ]
  },
  {
   "cell_type": "markdown",
   "metadata": {
    "slideshow": {
     "slide_type": "slide"
    }
   },
   "source": [
    "# [6.3 Cartesian product][Cartesian]\n",
    "\n",
    "[Cartesian]: https://en.wikipedia.org/wiki/Set_(mathematics)#Cartesian_product\n",
    "\n",
    "Een nieuwe set kan worden gemaakt door elk element van een set met elk element uit een andere set te combineren.\n",
    "\n",
    "![XOR](https://i.ytimg.com/vi/l4j4XgVbuxc/maxresdefault.jpg)"
   ]
  },
  {
   "cell_type": "code",
   "execution_count": null,
   "metadata": {
    "collapsed": false,
    "slideshow": {
     "slide_type": "fragment"
    }
   },
   "outputs": [],
   "source": [
    "import itertools\n",
    "a = (1, 2, 3)\n",
    "b = ('A', 'B', 'C')\n",
    "c = itertools.product(a,b)\n",
    "\n",
    "# Itereren over c is hetzelfde als itereren over een cartesian product van a en b:\n",
    "for x in c:\n",
    "    print x"
   ]
  },
  {
   "cell_type": "code",
   "execution_count": null,
   "metadata": {
    "collapsed": false,
    "slideshow": {
     "slide_type": "fragment"
    }
   },
   "outputs": [],
   "source": [
    "s1 = set([4, 6, 9])\n",
    "s2 = set([1, 6, 8])\n",
    "s1^s2"
   ]
  },
  {
   "cell_type": "markdown",
   "metadata": {
    "slideshow": {
     "slide_type": "slide"
    }
   },
   "source": [
    "# [7 Applications][appl]\n",
    "\n",
    "[appl]: https://en.wikipedia.org/wiki/Set_(mathematics)#Applications"
   ]
  },
  {
   "cell_type": "markdown",
   "metadata": {
    "slideshow": {
     "slide_type": "slide"
    }
   },
   "source": [
    "# [8 Axiomatische verzamelingentheorie][axio]\n",
    "\n",
    "[axio]: https://en.wikipedia.org/wiki/Set_(mathematics)#Axiomatic_set_theory\n",
    "\n",
    "- Er is een zeker ‘universum’ van objecten.\n",
    "- Ieder object is een verzameling.\n",
    "- Met a ∈ X geven we aan dat een object a bevat is in de verzameling X.\n",
    "- Een stelsel axioma’s beschrijft welke verzamelingen bestaan"
   ]
  },
  {
   "cell_type": "code",
   "execution_count": null,
   "metadata": {
    "collapsed": true,
    "slideshow": {
     "slide_type": "fragment"
    }
   },
   "outputs": [],
   "source": [
    "##### VOORBEELD VAN #8"
   ]
  },
  {
   "cell_type": "markdown",
   "metadata": {
    "slideshow": {
     "slide_type": "slide"
    }
   },
   "source": [
    "# [9 Principe van inclusie en exclusie][prin]\n",
    "\n",
    "[prin]: https://en.wikipedia.org/wiki/Set_(mathematics)#Principle_of_inclusion_and_exclusion\n",
    "\n",
    "- Geeft de cardinaliteit van de union van sets.\n",
    "\n",
    "![XOR](https://upload.wikimedia.org/wikipedia/commons/thumb/4/42/Inclusion-exclusion.svg/2000px-Inclusion-exclusion.svg.png)"
   ]
  },
  {
   "cell_type": "code",
   "execution_count": null,
   "metadata": {
    "collapsed": true,
    "slideshow": {
     "slide_type": "fragment"
    }
   },
   "outputs": [],
   "source": [
    "sets = [[1,3,5,6],[2,4,5],[1,3,43]]\n",
    "print len(set().union(*sets))"
   ]
  },
  {
   "cell_type": "markdown",
   "metadata": {
    "slideshow": {
     "slide_type": "slide"
    }
   },
   "source": [
    "# [10 Wetten van De Morgan][dem]\n",
    "\n",
    "[dem]: https://en.wikipedia.org/wiki/Set_(mathematics)#De_Morgan.27s_Law\n",
    "\n",
    "[![IMAGE ALT TEXT](https://i.ytimg.com/vi/oOx7FSzSav4/maxresdefault.jpg)](https://youtu.be/oOx7FSzSav4 \"PLAY: Wetten van De Morgan\")"
   ]
  },
  {
   "cell_type": "code",
   "execution_count": 46,
   "metadata": {
    "collapsed": false,
    "slideshow": {
     "slide_type": "fragment"
    }
   },
   "outputs": [
    {
     "name": "stdout",
     "output_type": "stream",
     "text": [
      "set([1, 2, 3, 4, 5, 6])\n",
      "set([3, 4])\n"
     ]
    }
   ],
   "source": [
    "A = set([1,2,3,4])\n",
    "B = set([3,4,5,6])\n",
    "C = set([7,8,9,10])\n",
    "print A | B\n",
    "print A & B"
   ]
  },
  {
   "cell_type": "markdown",
   "metadata": {
    "slideshow": {
     "slide_type": "slide"
    }
   },
   "source": [
    "# Exclusive or\n",
    "\n",
    "* Also called symmetric difference\n",
    "* Often mistakingly used as the meaning of the natural language \"or\"\n",
    "* used very much in programming\n",
    "\n",
    "## definition\n",
    "> $e \\in A\\  XOR\\  B \\iff e \\in A$ or $e \\in B$, but not in both\n",
    "\n",
    "> $ A \\ XOR\\  B \\equiv (A \\cup B) \\setminus (A\\cap B)$\n",
    "\n",
    "\n",
    "![XOR](http://upload.wikimedia.org/wikipedia/commons/4/46/Venn0110.svg)"
   ]
  },
  {
   "cell_type": "markdown",
   "metadata": {
    "slideshow": {
     "slide_type": "slide"
    }
   },
   "source": [
    "# Exclusive or\n",
    "\n",
    "## Implementation in Python\n",
    "\n",
    "* <http://en.wikibooks.org/wiki/Python_Programming/Sets#Symmetric_Difference>\n",
    "\n",
    "```\n",
    ">>> s1 = set([4, 6, 9])\n",
    ">>> s2 = set([1, 6, 8])\n",
    ">>> s1.symmetric_difference(s2)\n",
    "set([8, 1, 4, 9])\n",
    ">>> s1 ^ s2\n",
    "set([8, 1, 4, 9])\n",
    ">>> s1.symmetric_difference_update(s2)\n",
    ">>> s1\n",
    "set([8, 1, 4, 9])\n",
    "```"
   ]
  },
  {
   "cell_type": "markdown",
   "metadata": {
    "slideshow": {
     "slide_type": "slide"
    }
   },
   "source": [
    "# Exclusive or\n",
    "\n",
    "## Exercises\n",
    "\n",
    "1. Show the correspondence between XOR and \"if and only if\" $\\leftrightarrow$.\n",
    "    * $p\\leftrightarrow q$ iff either both $p$ and $q$ are true or both $p$ and $q$ are false.\n",
    "2. Program XOR yourself in Python using only $\\cap$, $\\cup$ and $\\setminus$.\n",
    "3. Program XOR yourself in Python using no set operations at all. Just use comprehensions and boolean operators."
   ]
  },
  {
   "cell_type": "markdown",
   "metadata": {},
   "source": [
    "The correspondence between XOR and 'if only if' is that true is only returned 'if and only if' the values that are being compared are unequal."
   ]
  },
  {
   "cell_type": "code",
   "execution_count": 42,
   "metadata": {
    "collapsed": false
   },
   "outputs": [
    {
     "name": "stdout",
     "output_type": "stream",
     "text": [
      "true\n"
     ]
    }
   ],
   "source": [
    "sets = [[1],[0]]\n",
    "if set().union(*sets) == set([0, 1]):\n",
    "    print 'true'\n",
    "else:\n",
    "    print 'false'"
   ]
  },
  {
   "cell_type": "code",
   "execution_count": 33,
   "metadata": {
    "collapsed": false
   },
   "outputs": [
    {
     "name": "stdout",
     "output_type": "stream",
     "text": [
      "true\n"
     ]
    }
   ],
   "source": [
    "p = 1\n",
    "q = 0\n",
    "if (p or q == 1) and p != q:\n",
    "    print 'true'\n",
    "else:\n",
    "    print 'false'"
   ]
  },
  {
   "cell_type": "markdown",
   "metadata": {
    "slideshow": {
     "slide_type": "slide"
    }
   },
   "source": [
    "# Literatuur\n",
    "\n",
    "\n",
    "## [Wikipedia]\n",
    "## Python Pocket Reference\n",
    "Lutz, M. (2014). *Python pocket reference.* \" O'Reilly Media, Inc.\".\n",
    "\n",
    "\n",
    "\n",
    "[Wikipedia]: http://en.wikipedia.org/wiki/Set_(mathematics)#Definition \"Wikipedia\""
   ]
  },
  {
   "cell_type": "code",
   "execution_count": null,
   "metadata": {
    "collapsed": true
   },
   "outputs": [],
   "source": []
  }
 ],
 "metadata": {
  "celltoolbar": "Slideshow",
  "kernelspec": {
   "display_name": "Python 2",
   "language": "python",
   "name": "python2"
  },
  "language_info": {
   "codemirror_mode": {
    "name": "ipython",
    "version": 2
   },
   "file_extension": ".py",
   "mimetype": "text/x-python",
   "name": "python",
   "nbconvert_exporter": "python",
   "pygments_lexer": "ipython2",
   "version": "2.7.11"
  }
 },
 "nbformat": 4,
 "nbformat_minor": 0
}
