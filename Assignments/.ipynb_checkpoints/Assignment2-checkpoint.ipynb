{
 "cells": [
  {
   "cell_type": "markdown",
   "metadata": {
    "slideshow": {
     "slide_type": "slide"
    }
   },
   "source": [
    "\n",
    "## Notebook made by  \n",
    "\n",
    "|** Name** | **Student id** | **email**|\n",
    "|:- |:-|:-|\n",
    "|Dylan Wijman |10651012|dylanwijman@hotmail.com|\n",
    "|Eline Steensma|10589813|elinesteensma@gmail.com|\n",
    "|Sjoerd Paardekooper|10278397|sjoerd.paardekooper@gmail.com|\n",
    "\n",
    "### Pledge (taken from [Coursera's Honor Code](https://www.coursera.org/about/terms/honorcode) )\n",
    "\n",
    "\n",
    "Put here a selfie with your photo where you hold a signed paper with the following text: (if this is team work, put two selfies here). The link must be to some place on the web, not to a local file. \n",
    "\n",
    "> My answers to homework, quizzes and exams will be my own work (except for assignments that explicitly permit collaboration).\n",
    "\n",
    ">I will not make solutions to homework, quizzes or exams available to anyone else. This includes both solutions written by me, as well as any official solutions provided by the course staff.\n",
    "\n",
    ">I will not engage in any other activities that will dishonestly improve my results or dishonestly improve/hurt the results of others.\n",
    "\n",
    "<img src='https://github.com/dylanwijman/data-science/blob/master/Afbeeldingen/selfies.jpg?raw=true'/>\n",
    "\n",
    "\n",
    "### Note\n",
    "* **Assignments without the selfies or completely filled in information will not be graded and receive 0 points.**\n"
   ]
  },
  {
   "cell_type": "markdown",
   "metadata": {
    "slideshow": {
     "slide_type": "slide"
    }
   },
   "source": [
    "# Part 1: obtaining information from the web\n",
    "\n",
    "### RSS parsing\n",
    "\n",
    "Make a notebook that performs the following steps.\n",
    "\n",
    "1. Create a script that retrieves all urls of rss feeds from <http://www.volkskrant.nl/rss/feeds/>. Use urllib2 and beautifulsoup for this. Store the urls in a list.\n",
    "    * **update 2016**\n",
    "    * As all Dutch sites, Volkskrant asks whether you accept cookies. This makes simple collecting webpages a lot harder. \n",
    "    * The code in the code cell below does the trick. \n",
    "    * After running this, I could collect further files from Volkskrant without additional cookie hassle.\n",
    "2. Download all rss feeds and store them on disk.\n",
    "3. Parse all RSS feeds using `lxml`. Create a list of  dicts with fields \"channel\", \"url\", \"title\", \"date\" in which you store this information for each item.\n",
    "4. Compute some statistics about this dict: how many items, how many per channel, are there doubles (items occuring in several channels), etc.\n",
    "5. Write this list as a csv file, store on disk, and upload to Google fusion tables.\n",
    "6. Download all articles (once), parse out the text and store as pairs (date,text) in a list.\n",
    "7. Count per day the number of words, and the number of unique words. Show this in a plot."
   ]
  },
  {
   "cell_type": "code",
   "execution_count": 11,
   "metadata": {
    "collapsed": false
   },
   "outputs": [],
   "source": [
    "import cookielib # Thanks to http://stackoverflow.com/questions/29395407/enabling-cookies-with-urllib\n",
    "import urllib2\n",
    "import urllib\n",
    "import json\n",
    "import requests\n",
    "import os\n",
    "from bs4 import BeautifulSoup\n",
    "import re \n",
    "import feedparser\n",
    "from lxml import etree\n",
    "from lxml import objectify\n",
    "from itertools import chain\n",
    "import csv\n",
    "\n",
    "url = 'https://rawgit.com/maartensukel/Data-Science/master/deVolkskrant.html'\n",
    "\n",
    "# with urllib2 and handling cookies\n",
    "cookiejar= cookielib.LWPCookieJar()\n",
    "opener= urllib2.build_opener( urllib2.HTTPCookieProcessor(cookiejar) )\n",
    "response=opener.open(url)\n",
    "html_doc= ' '.join(response.readlines())\n",
    " \n",
    "rsssoup = BeautifulSoup(html_doc, \"lxml\")"
   ]
  },
  {
   "cell_type": "code",
   "execution_count": 2,
   "metadata": {
    "collapsed": false,
    "scrolled": true
   },
   "outputs": [],
   "source": [
    "from collections import Counter\n",
    "\n",
    "#Maak een lijst met alle urls van de RSSfeed van de volkskrant\n",
    "feeds = [link.get('href') for link in rsssoup.findAll(href=re.compile(\"\\.xml$\"))]\n",
    "\n",
    "rssData = []\n",
    "tags = [\"channel\", \"url\", \"title\", \"date\"]\n",
    "# Loop door de RSS feed links en sla de xml lokaal op\n",
    "for link in feeds:\n",
    "    response=opener.open(link)\n",
    "    xml_doc= ' '.join(response.readlines())\n",
    "    xmlsoup = BeautifulSoup(xml_doc, \"lxml\")\n",
    "    name = xmlsoup.title.string+'.html'\n",
    "    with open(name, 'w') as f:\n",
    "        f.write(xmlsoup.encode())\n",
    "    f.close()\n",
    "    # Maak een dictionary met keys: channel, url, title en date aan per link in de feed\n",
    "    # Dict comprehension voor 1.3\n",
    "    rssData.append({tag: xmlsoup.find_all(tag) for tag in tags})"
   ]
  },
  {
   "cell_type": "code",
   "execution_count": 16,
   "metadata": {
    "collapsed": false
   },
   "outputs": [
    {
     "name": "stdout",
     "output_type": "stream",
     "text": [
      "[{'CHANNEL:': 'VK:Voordeel', 'TITLE:': \"'Nederlandse vliegtuigen dit jaar vaker vertraagd'\", 'DATE:': 'Wed, 17 Sep 2014 09:14:00 GMT', 'URL:': 'http://www.volkskrant.nl/economie/-nederlandse-vliegtuigen-dit-jaar-vaker-vertraagd~a3749493/'}, {'CHANNEL:': 'VK:Voordeel', 'TITLE:': 'Insectenburgers binnenkort in de supermarkt?', 'DATE:': 'Wed, 17 Sep 2014 12:53:00 GMT', 'URL:': 'http://www.volkskrant.nl/buitenland/insectenburgers-binnenkort-in-de-supermarkt~a3749614/'}, {'CHANNEL:': 'VK:Voordeel', 'TITLE:': 'Pensioenfondsen gaan hypotheken verstrekken', 'DATE:': 'Fri, 19 Sep 2014 18:50:00 GMT', 'URL:': 'http://www.volkskrant.nl/voordeel/pensioenfondsen-gaan-hypotheken-verstrekken~a3751247/'}, {'CHANNEL:': 'VK:Voordeel', 'TITLE:': 'Veel jongeren hebben nu al een betalingsachterstand', 'DATE:': 'Tue, 23 Sep 2014 04:37:00 GMT', 'URL:': 'http://www.volkskrant.nl/binnenland/veel-jongeren-hebben-nu-al-een-betalingsachterstand~a3752960/'}, {'CHANNEL:': 'VK:Voordeel', 'TITLE:': 'Mogelijk lucht voor hypotheken onder water', 'DATE:': 'Thu, 25 Sep 2014 10:37:00 GMT', 'URL:': 'http://www.volkskrant.nl/voordeel/mogelijk-lucht-voor-hypotheken-onder-water~a3755029/'}, {'CHANNEL:': 'VK:Voordeel', 'TITLE:': \"Belastingbrief kent geen 'taboes', wel 'keuzes', zegt Wiebes tegen Kamer\", 'DATE:': 'Thu, 25 Sep 2014 15:34:00 GMT', 'URL:': 'http://www.volkskrant.nl/voordeel/belastingbrief-kent-geen-taboes-wel-keuzes-zegt-wiebes-tegen-kamer~a3755121/'}, {'CHANNEL:': 'VK:Voordeel', 'TITLE:': \"Aegon: 'Pensioenregels raken nabestaanden'\", 'DATE:': 'Mon, 29 Sep 2014 10:24:00 GMT', 'URL:': 'http://www.volkskrant.nl/economie/aegon-pensioenregels-raken-nabestaanden~a3758545/'}, {'CHANNEL:': 'VK:Voordeel', 'TITLE:': 'Aandelen Zalando alleen in Duitsland en Luxemburg te koop', 'DATE:': 'Tue, 30 Sep 2014 12:57:00 GMT', 'URL:': 'http://www.volkskrant.nl/economie/aandelen-zalando-alleen-in-duitsland-en-luxemburg-te-koop~a3759297/'}, {'CHANNEL:': 'VK:Voordeel', 'TITLE:': \"Gouden Windei voor 'mierzoete' Capri-Sun\", 'DATE:': 'Wed, 01 Oct 2014 03:45:00 GMT', 'URL:': 'http://www.volkskrant.nl/voordeel/gouden-windei-voor-mierzoete-capri-sun~a3759791/'}, {'CHANNEL:': 'VK:Voordeel', 'TITLE:': 'Dekkingsgraden pensioenfondsen hard gedaald', 'DATE:': 'Wed, 01 Oct 2014 15:35:00 GMT', 'URL:': 'http://www.volkskrant.nl/voordeel/dekkingsgraden-pensioenfondsen-hard-gedaald~a3760101/'}, {'CHANNEL:': 'VK:Voordeel', 'TITLE:': 'Wiebes neemt maatregelen na fraude bij Belastingdienst', 'DATE:': 'Thu, 02 Oct 2014 14:55:00 GMT', 'URL:': 'http://www.volkskrant.nl/voordeel/wiebes-neemt-maatregelen-na-fraude-bij-belastingdienst~a3760811/'}, {'CHANNEL:': 'VK:Voordeel', 'TITLE:': \"Wiebes: 'Fiets van de baas' blijft\", 'DATE:': 'Fri, 03 Oct 2014 12:47:00 GMT', 'URL:': 'http://www.volkskrant.nl/magazine/wiebes-fiets-van-de-baas-blijft~a3761406/'}, {'CHANNEL:': 'VK:Voordeel', 'TITLE:': 'Oproep toezichthouder na zaak Ordina: meldt misstanden ict', 'DATE:': 'Sat, 04 Oct 2014 00:00:00 GMT', 'URL:': 'http://www.volkskrant.nl/economie/oproep-toezichthouder-na-zaak-ordina-meldt-misstanden-ict~a3761622/'}, {'CHANNEL:': 'VK:Voordeel', 'TITLE:': \"'D-reizen moet tientallen winkels sluiten'\", 'DATE:': 'Tue, 07 Oct 2014 04:45:00 GMT', 'URL:': 'http://www.volkskrant.nl/economie/-d-reizen-moet-tientallen-winkels-sluiten~a3763375/'}, {'CHANNEL:': 'VK:Voordeel', 'TITLE:': \"'Steunpot voor startersleningen al bijna leeg'\", 'DATE:': 'Tue, 07 Oct 2014 05:24:00 GMT', 'URL:': 'http://www.volkskrant.nl/voordeel/-steunpot-voor-startersleningen-al-bijna-leeg~a3763361/'}, {'CHANNEL:': 'VK:Voordeel', 'TITLE:': u'Belgi\\xeb verhoogt pensioenleeftijd', 'DATE:': 'Tue, 07 Oct 2014 08:35:00 GMT', 'URL:': 'http://www.volkskrant.nl/economie/belgie-verhoogt-pensioenleeftijd~a3763453/'}, {'CHANNEL:': 'VK:Voordeel', 'TITLE:': \"'Ov-chipkaart maakt horendol'\", 'DATE:': 'Thu, 09 Oct 2014 05:21:00 GMT', 'URL:': 'http://www.volkskrant.nl/voordeel/-ov-chipkaart-maakt-horendol~a3764784/'}, {'CHANNEL:': 'VK:Voordeel', 'TITLE:': \"'Torenhoge' naheffingen voor transportsector\", 'DATE:': 'Sun, 12 Oct 2014 19:53:00 GMT', 'URL:': 'http://www.volkskrant.nl/economie/-torenhoge-naheffingen-voor-transportsector~a3767418/'}, {'CHANNEL:': 'VK:Voordeel', 'TITLE:': 'Nederland daalt nog verder op ranglijst pensioenstelsels', 'DATE:': 'Mon, 13 Oct 2014 07:36:00 GMT', 'URL:': 'http://www.volkskrant.nl/economie/nederland-daalt-nog-verder-op-ranglijst-pensioenstelsels~a3767929/'}, {'CHANNEL:': 'VK:Voordeel', 'TITLE:': 'Studieschuld drukt minder op hypotheek', 'DATE:': 'Mon, 13 Oct 2014 20:58:00 GMT', 'URL:': 'http://www.volkskrant.nl/economie/studieschuld-drukt-minder-op-hypotheek~a3768265/'}, {'CHANNEL:': 'VK:Voordeel', 'TITLE:': \"De zzp'ers aan de onderkant van de arbeidsmarkt bouwen geen pensioen op\", 'DATE:': 'Tue, 14 Oct 2014 00:00:00 GMT', 'URL:': 'http://www.volkskrant.nl/opinie/de-zzp-ers-aan-de-onderkant-van-de-arbeidsmarkt-bouwen-geen-pensioen-op~a3768201/'}, {'CHANNEL:': 'VK:Voordeel', 'TITLE:': 'TomTom komt met online navigatiedienst', 'DATE:': 'Tue, 14 Oct 2014 08:34:00 GMT', 'URL:': 'http://www.volkskrant.nl/voordeel/tomtom-komt-met-online-navigatiedienst~a3768651/'}, {'CHANNEL:': 'VK:Voordeel', 'TITLE:': \"'Met een belasting op het eigen huis verklein je de enorme ongelijkheid'\", 'DATE:': 'Wed, 15 Oct 2014 00:00:00 GMT', 'URL:': 'http://www.volkskrant.nl/economie/-met-een-belasting-op-het-eigen-huis-verklein-je-de-enorme-ongelijkheid~a3768972/'}, {'CHANNEL:': 'VK:Voordeel', 'TITLE:': 'Pensioenbeleggers tegen levering executiemiddel aan gevangenissen', 'DATE:': 'Wed, 15 Oct 2014 00:00:00 GMT', 'URL:': 'http://www.volkskrant.nl/binnenland/pensioenbeleggers-tegen-levering-executiemiddel-aan-gevangenissen~a3769058/'}, {'CHANNEL:': 'VK:Voordeel', 'TITLE:': 'Grote pensioenfondsen hebben weer dekkingstekort', 'DATE:': 'Wed, 15 Oct 2014 22:44:00 GMT', 'URL:': 'http://www.volkskrant.nl/voordeel/grote-pensioenfondsen-hebben-weer-dekkingstekort~a3769833/'}, {'CHANNEL:': 'VK:Voordeel', 'TITLE:': 'De strijd om het belastingstelsel: iedereen wil iets anders van Wiebes', 'DATE:': 'Thu, 16 Oct 2014 13:09:00 GMT', 'URL:': 'http://www.volkskrant.nl/politiek/de-strijd-om-het-belastingstelsel-iedereen-wil-iets-anders-van-wiebes~a3770295/'}, {'CHANNEL:': 'VK:Voordeel', 'TITLE:': \"'2,5 miljoen Nederlanders onder armoedegrens'\", 'DATE:': 'Fri, 17 Oct 2014 04:45:00 GMT', 'URL:': 'http://www.volkskrant.nl/binnenland/-2-5-miljoen-nederlanders-onder-armoedegrens~a3770723/'}, {'CHANNEL:': 'VK:Voordeel', 'TITLE:': \"'Schulden van consumenten onnodig in de hand gewerkt'\", 'DATE:': 'Fri, 17 Oct 2014 07:33:00 GMT', 'URL:': 'http://www.volkskrant.nl/economie/-schulden-van-consumenten-onnodig-in-de-hand-gewerkt~a3770832/'}, {'CHANNEL:': 'VK:Voordeel', 'TITLE:': \"'Dienstverlening banken nauwelijks verbeterd'\", 'DATE:': 'Wed, 22 Oct 2014 14:28:00 GMT', 'URL:': 'http://www.volkskrant.nl/voordeel/-dienstverlening-banken-nauwelijks-verbeterd~a3773886/'}, {'CHANNEL:': 'VK:Voordeel', 'TITLE:': 'Nederland Europees kampioen btw-innen', 'DATE:': 'Thu, 23 Oct 2014 18:26:00 GMT', 'URL:': 'http://www.volkskrant.nl/voordeel/nederland-europees-kampioen-btw-innen~a3774730/'}, {'CHANNEL:': 'VK:Voordeel', 'TITLE:': \"'Nieuwe hypotheek elke maand goedkoper'\", 'DATE:': 'Sat, 25 Oct 2014 07:03:00 GMT', 'URL:': 'http://www.volkskrant.nl/binnenland/-nieuwe-hypotheek-elke-maand-goedkoper~a3775936/'}, {'CHANNEL:': 'VK:Voordeel', 'TITLE:': 'SP en GroenLinks: fiets van de zaak behouden', 'DATE:': 'Sun, 26 Oct 2014 15:59:00 GMT', 'URL:': 'http://www.volkskrant.nl/voordeel/sp-en-groenlinks-fiets-van-de-zaak-behouden~a3776255/'}]\n"
     ]
    }
   ],
   "source": [
    "information = []\n",
    "\n",
    "rss = urllib2.urlopen(link)\n",
    "parsed = etree.parse(rss)\n",
    "root = parsed.getroot()\n",
    "\n",
    "channel = parsed.findtext('//title')\n",
    "urls = [ url.text for url in parsed.findall('//item//link')]\n",
    "titlestrings = [ t.text for t in parsed.xpath('//item//title')]\n",
    "dates = [ d.text for d in parsed.xpath('//item//pubDate')]\n",
    "    \n",
    "for i in feeds:\n",
    "    urlsea = urls.pop()\n",
    "    titlestringsea = titlestrings.pop()\n",
    "    datesea = dates.pop()\n",
    "    info = {\n",
    "    'CHANNEL:': channel,\n",
    "    'URL:': urlsea,\n",
    "    'TITLE:': titlestringsea,\n",
    "    'DATE:': datesea,\n",
    "    }\n",
    "    information.append(info)\n",
    "\n",
    "print information"
   ]
  },
  {
   "cell_type": "code",
   "execution_count": 7,
   "metadata": {
    "collapsed": false
   },
   "outputs": [
    {
     "name": "stdout",
     "output_type": "stream",
     "text": [
      "a: [40, 40, 40, 40, 40, 40, 40, 40, 40, 40, 40, 9, 40, 40, 0, 0, 40, 40, 40, 40, 40, 40, 40, 40, 40, 40, 40, 40, 40, 40, 40, 40]\n",
      "b: 1169\n",
      "c: 36\n",
      "d: 191\n"
     ]
    }
   ],
   "source": [
    "# 1.4\n",
    "# Channel is een CSS tag: <channel>. Komt een keer voor per feed vandaar.\n",
    "# a. Lijst met het aantal berichten per RSS feed\n",
    "lenItemsPerFeed = [len(channel.find_all('item')) for channel in [feed['channel'][0] for feed in rssData]]\n",
    "print \"a:\", lenItemsPerFeed\n",
    "# b. Amount of items per feed\n",
    "print \"b:\", sum(lenItemsPerFeed)\n",
    "# c. Average amount of items\n",
    "print \"c:\", sum(lenItemsPerFeed)/len(lenItemsPerFeed)\n",
    "# d. Zijn er dubbels?\n",
    "itemsPerFeed = [channel.find_all('item') for channel in [feed['channel'][0] for feed in rssData]]\n",
    "# Maak 1 lijst met alle items\n",
    "items = list(chain.from_iterable(itemsPerFeed))\n",
    "# Geeft lijst met een count van items die meer dan een keer voorkomen en len geeft het aantal items weer die dubbel voorkomen\n",
    "# http://stackoverflow.com/questions/9835762/find-and-list-duplicates-in-python-list\n",
    "# Hieronder is gecomment door lange wachttijd\n",
    "print \"d:\", len([count for item, count in Counter(items).items() if count > 1])"
   ]
  },
  {
   "cell_type": "code",
   "execution_count": 17,
   "metadata": {
    "collapsed": false
   },
   "outputs": [
    {
     "ename": "UnicodeEncodeError",
     "evalue": "'ascii' codec can't encode character u'\\xeb' in position 5: ordinal not in range(128)",
     "output_type": "error",
     "traceback": [
      "\u001b[1;31m---------------------------------------------------------------------------\u001b[0m",
      "\u001b[1;31mUnicodeEncodeError\u001b[0m                        Traceback (most recent call last)",
      "\u001b[1;32m<ipython-input-17-13d3ee26c6b4>\u001b[0m in \u001b[0;36m<module>\u001b[1;34m()\u001b[0m\n\u001b[0;32m      4\u001b[0m     \u001b[0mwriter\u001b[0m\u001b[1;33m.\u001b[0m\u001b[0mwriterow\u001b[0m\u001b[1;33m(\u001b[0m\u001b[0minformation\u001b[0m\u001b[1;33m[\u001b[0m\u001b[1;36m1\u001b[0m\u001b[1;33m]\u001b[0m\u001b[1;33m.\u001b[0m\u001b[0mkeys\u001b[0m\u001b[1;33m(\u001b[0m\u001b[1;33m)\u001b[0m\u001b[1;33m)\u001b[0m\u001b[1;33m\u001b[0m\u001b[0m\n\u001b[0;32m      5\u001b[0m     \u001b[1;32mfor\u001b[0m \u001b[0mrow\u001b[0m \u001b[1;32min\u001b[0m \u001b[0minformation\u001b[0m\u001b[1;33m:\u001b[0m\u001b[1;33m\u001b[0m\u001b[0m\n\u001b[1;32m----> 6\u001b[1;33m         \u001b[0mwriter\u001b[0m\u001b[1;33m.\u001b[0m\u001b[0mwriterow\u001b[0m\u001b[1;33m(\u001b[0m\u001b[0mrow\u001b[0m\u001b[1;33m.\u001b[0m\u001b[0mvalues\u001b[0m\u001b[1;33m(\u001b[0m\u001b[1;33m)\u001b[0m\u001b[1;33m)\u001b[0m\u001b[1;33m\u001b[0m\u001b[0m\n\u001b[0m",
      "\u001b[1;31mUnicodeEncodeError\u001b[0m: 'ascii' codec can't encode character u'\\xeb' in position 5: ordinal not in range(128)"
     ]
    }
   ],
   "source": [
    "# 1.5\n",
    "with open('eenpuntvijf.csv', 'w') as csvfile:\n",
    "    writer = csv.writer(csvfile)\n",
    "    writer.writerow(information[1].keys())\n",
    "    for row in information:\n",
    "        writer.writerow(row.values())"
   ]
  },
  {
   "cell_type": "markdown",
   "metadata": {
    "slideshow": {
     "slide_type": "slide"
    }
   },
   "source": [
    "### JSON parsing\n",
    "\n",
    "1. Download <http://maartenmarx.nl/teaching/ISatWork/NoteBooks/consuming-json-data-from-a-web-service.ipynb>, remove all code blocks, and turn it into a notebook again. \n",
    "2. Check that what you did is correct and you did not remove too much using a notebook viewer.\n",
    "3. Now extract all code from the downloaded notebook, save it to a file, and execute it as a Python script. Does it give errors? Is it syntactically correct?"
   ]
  },
  {
   "cell_type": "code",
   "execution_count": null,
   "metadata": {
    "collapsed": false
   },
   "outputs": [],
   "source": [
    "#import notebook\n",
    "url = \"http://maartenmarx.nl/teaching/ISatWork/NoteBooks/consuming-json-data-from-a-web-service.ipynb\"\n",
    "jsonfile= urllib2.urlopen(url)\n",
    "jsonfile = jsonfile.read()  # The jsonfile as a Python string\n",
    "json_as_python_object = json.loads(jsonfile) # The josnfile transformed into a Python dict\n",
    "cells = json_as_python_object['worksheets'][0]['cells']\n",
    "codeblocks = [cell['input'] for cell in cells if str(cell['cell_type']) == 'code']\n",
    "f = open(\"output.py\", \"w\")\n",
    "for x in codeblocks:\n",
    "    for y in x:\n",
    "      f.write(str(y))\n",
    "    f.write(\"\\n\")\n",
    "f.close()"
   ]
  },
  {
   "cell_type": "markdown",
   "metadata": {
    "slideshow": {
     "slide_type": "slide"
    }
   },
   "source": [
    "### PDF parsing\n",
    "\n",
    "1. Save a wordfile as PDF, open it in Python, extract all text. Describe the differences, if any. Try the same with a two column PDF file from the web. This exercise gets more interesting if you use _difficult_ PDF. Why not try <http://wch.github.io/latexsheet/latexsheet.pdf>?\n",
    "\n",
    "* Is the word order still as it should be?\n",
    "* What about the strange characters?"
   ]
  },
  {
   "cell_type": "code",
   "execution_count": null,
   "metadata": {
    "collapsed": false
   },
   "outputs": [],
   "source": [
    "!curl http://wch.github.io/latexsheet/latexsheet.pdf > latex.pdf; pdftotext  latex.pdf\n",
    "!pdftotext latex.pdf"
   ]
  },
  {
   "cell_type": "code",
   "execution_count": null,
   "metadata": {
    "collapsed": false
   },
   "outputs": [],
   "source": [
    "!curl http://www.koopman-assurantien.nl/images1/%28118%29%2008.08.pdf > koopman.pdf; pdftotext koopman.pdf\n",
    "!pdftotext koopman.pdf"
   ]
  },
  {
   "cell_type": "code",
   "execution_count": null,
   "metadata": {
    "collapsed": false
   },
   "outputs": [],
   "source": [
    "!curl https://github.com/dylanwijman/data-science/blob/master/Documenten/grondwet-voor-het-koningrijk-der-nederlanden-1815.pdf > grondwet.pdf; pdftotext grondwet.pdf\n",
    "!pdftotext grondwet.pdf"
   ]
  },
  {
   "cell_type": "markdown",
   "metadata": {},
   "source": [
    "Word document\n",
    "https://github.com/dylanwijman/data-science/blob/master/Documenten/grondwet-voor-het-koningrijk-der-nederlanden-1815.doc\n",
    "\n",
    "PDF document\n",
    "https://github.com/dylanwijman/data-science/blob/master/Documenten/grondwet-voor-het-koningrijk-der-nederlanden-1815.pdf\n",
    "\n",
    "1. Verschillen tussen .doc en .pdf text extracting files\n",
    "\n",
    "1.2 Try the same with a two column PDF file from the web.\n",
    "\n",
    "Bij de 'Koopman' PDF file met twee kolommen kan de file worden extract zonder het behouden van de layout (-layout). Op deze manier wordt er niet in de leesrichting gezocht naar tekens, van links naar rechts. Op deze manier worden de kolommen tekst bijeen gehouden. Enkele koppen in het 'Koopman' bestand zijn wel verkeerd geplaatst, in plaats van onder elkaar wordt de leesrichting hier nog wel aangehouden als koppen op dezelfde horizontale regel staan.\n",
    "\n",
    "This exercise gets more interesting if you use difficult PDF\n",
    "2 Is the word order still as it should be?\n",
    "\n",
    "In het Latex bestand worden de kolommen in kolommen niet goed onderscheiden als tekst die naast elkaar staat, ook niet met -layout. De leesvolgorde gaat na Packages naar Lists en daarna ineens naar de derde kolom naar Justification, waaronder alle informatie van Lists staat.\n",
    "\n",
    "3 What about the strange characters?\n",
    "\n",
    "De accenten zijn niet allemaal goed weergeven en vaak uit elkaar gehaald. Een Ç (c cedille) wordt niet als 1 teken weergeven maar een losse , (komma) en en c: , c."
   ]
  },
  {
   "cell_type": "markdown",
   "metadata": {
    "slideshow": {
     "slide_type": "slide"
    }
   },
   "source": [
    "# Part 2 Python recap\n",
    "\n",
    "Download [PythonRecap2.0.ipynb](PythonRecap2.0.ipynb),  and answer all questions as asked."
   ]
  }
 ],
 "metadata": {
  "celltoolbar": "Slideshow",
  "kernelspec": {
   "display_name": "Python 2",
   "language": "python",
   "name": "python2"
  },
  "language_info": {
   "codemirror_mode": {
    "name": "ipython",
    "version": 2
   },
   "file_extension": ".py",
   "mimetype": "text/x-python",
   "name": "python",
   "nbconvert_exporter": "python",
   "pygments_lexer": "ipython2",
   "version": "2.7.11"
  }
 },
 "nbformat": 4,
 "nbformat_minor": 0
}
