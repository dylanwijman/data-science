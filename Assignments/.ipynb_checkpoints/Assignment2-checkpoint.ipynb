{
 "cells": [
  {
   "cell_type": "markdown",
   "metadata": {
    "slideshow": {
     "slide_type": "slide"
    }
   },
   "source": [
    "\n",
    "## Notebook made by  \n",
    "\n",
    "|** Name** | **Student id** | **email**|\n",
    "|:- |:-|:-|\n",
    "|Dylan Wijman |10651012|dylanwijman@hotmail.com|\n",
    "|Eline Steensma|10589813|elinesteensma@gmail.com|\n",
    "|Sjoerd Paardekooper|10278397|sjoerd.paardekooper@gmail.com|\n",
    "\n",
    "### Pledge (taken from [Coursera's Honor Code](https://www.coursera.org/about/terms/honorcode) )\n",
    "\n",
    "\n",
    "Put here a selfie with your photo where you hold a signed paper with the following text: (if this is team work, put two selfies here). The link must be to some place on the web, not to a local file. \n",
    "\n",
    "> My answers to homework, quizzes and exams will be my own work (except for assignments that explicitly permit collaboration).\n",
    "\n",
    ">I will not make solutions to homework, quizzes or exams available to anyone else. This includes both solutions written by me, as well as any official solutions provided by the course staff.\n",
    "\n",
    ">I will not engage in any other activities that will dishonestly improve my results or dishonestly improve/hurt the results of others.\n",
    "\n",
    "<img src='https://github.com/dylanwijman/data-science/blob/master/Afbeeldingen/selfies.jpg?raw=true'/>\n",
    "\n",
    "\n",
    "### Note\n",
    "* **Assignments without the selfies or completely filled in information will not be graded and receive 0 points.**\n"
   ]
  },
  {
   "cell_type": "markdown",
   "metadata": {
    "slideshow": {
     "slide_type": "slide"
    }
   },
   "source": [
    "# Part 1: obtaining information from the web\n",
    "\n",
    "### RSS parsing\n",
    "\n",
    "Make a notebook that performs the following steps.\n",
    "\n",
    "1. Create a script that retrieves all urls of rss feeds from <http://www.volkskrant.nl/rss/feeds/>. Use urllib2 and beautifulsoup for this. Store the urls in a list.\n",
    "    * **update 2016**\n",
    "    * As all Dutch sites, Volkskrant asks whether you accept cookies. This makes simple collecting webpages a lot harder. \n",
    "    * The code in the code cell below does the trick. \n",
    "    * After running this, I could collect further files from Volkskrant without additional cookie hassle.\n",
    "2. Download all rss feeds and store them on disk.\n",
    "3. Parse all RSS feeds using `lxml`. Create a list of  dicts with fields \"channel\", \"url\", \"title\", \"date\" in which you store this information for each item.\n",
    "4. Compute some statistics about this dict: how many items, how many per channel, are there doubles (items occuring in several channels), etc.\n",
    "5. Write this list as a csv file, store on disk, and upload to Google fusion tables.\n",
    "6. Download all articles (once), parse out the text and store as pairs (date,text) in a list.\n",
    "7. Count per day the number of words, and the number of unique words. Show this in a plot."
   ]
  },
  {
   "cell_type": "code",
   "execution_count": null,
   "metadata": {
    "collapsed": false
   },
   "outputs": [],
   "source": []
  },
  {
   "cell_type": "code",
   "execution_count": 14,
   "metadata": {
    "collapsed": false
   },
   "outputs": [],
   "source": [
    "import cookielib # Thanks to http://stackoverflow.com/questions/29395407/enabling-cookies-with-urllib\n",
    "import urllib2\n",
    "import urllib\n",
    "import json\n",
    "import requests\n",
    "import os\n",
    "from bs4 import BeautifulSoup\n",
    "import re \n",
    "import feedparser\n",
    "from lxml import etree\n",
    "from lxml import objectify\n",
    "from itertools import chain\n",
    "\n",
    "url = 'http://www.volkskrant.nl/rss/feeds/'\n",
    "\n",
    "# with urllib2 and handling cookies\n",
    "cookiejar= cookielib.LWPCookieJar()\n",
    "opener= urllib2.build_opener( urllib2.HTTPCookieProcessor(cookiejar) )\n",
    "response=opener.open(url)\n",
    "html_doc= ' '.join(response.readlines())\n",
    " \n",
    "rsssoup = BeautifulSoup(html_doc)\n",
    "\n",
    "# test \n",
    "# list_items=rsssoup.findAll('li')\n",
    "# len(list_items), list_items[:3]\n"
   ]
  },
  {
   "cell_type": "code",
   "execution_count": 34,
   "metadata": {
    "collapsed": false,
    "scrolled": true
   },
   "outputs": [
    {
     "name": "stdout",
     "output_type": "stream",
     "text": [
      "a: [40, 40, 40, 40, 40, 40, 40, 40, 40, 40, 40, 9, 40, 40, 0, 0, 40, 40, 40, 40, 40, 40, 40, 40, 40, 40, 40, 40, 40, 40, 40, 40]\n",
      "b: 1169\n",
      "c: 36\n",
      "d: 179\n",
      "[[<url>http://www.volkskrant.nl</url>], [], [<channel>\\n<title>VK:Voorpagina</title>\\n<link/>http://www.volkskrant.nl\\r\\n     <description>Volkskrant.nl biedt het laatste nieuws, opinie en achtergronden</description>\\n<language>nl-NL</language>\\n<copyright>De Persgroep Publishing Nederland NV</copyright>\\n<pubdate>Tue, 16 Feb 2016 15:41:33 GMT</pubdate>\\n<lastbuilddate>Tue, 16 Feb 2016 15:41:33 GMT</lastbuilddate>\\n<image>\\n<title>Volkskrant.nl - laatste nieuws, opinie en achtergronden</title>\\n<url>http://www.volkskrant.nl</url>\\n<link/>http://static3.persgroep.net/volkskrant/static/img/logos/rss_logo.png?r=ae461494.xyz\\r\\n       <width>16</width>\\n<height>16</height>\\n</image>\\n<item>\\n<title>Nieuwe satelliet moet aan kleuren zeewater zien hoe aarde ervoor staat</title>\\n<link/>http://www.volkskrant.nl/wetenschap/nieuwe-satelliet-moet-aan-kleuren-zeewater-zien-hoe-aarde-ervoor-staat~a4245874/\\r\\n       <description>Groen, geel of blauw. De kleur van oceaanwater vertelt iets over de staat van het klimaat. Maar het menselijk oog kan niet alles zien. Daarom lanceert Europa een nieuwe satelliet, de Sentinel-3A. Die wordt vanavond om 18.57 uur Nederlandse tijd gelanceerd vanaf ruimtebasis Kosmodroom Plesetsk, in het hoge noorden van Rusland. De nieuwe satelliet moet dag in dag uit de kleur van het zeewater meten.</description>\\n<pubdate>Tue, 16 Feb 2016 15:13:00 GMT</pubdate>\\n<author>Door: Redactie</author>\\n<guid ispermalink=\"false\">4245874</guid>\\n<media:content type=\"image/jpeg\" url=\"http://static1.persgroep.net/volkskrant/image/3378a18f-aa65-4466-b0a8-64f7dcbba46c?width=397&amp;height=289\">\\n<media:thumbnail url=\"http://static1.persgroep.net/volkskrant/image/3378a18f-aa65-4466-b0a8-64f7dcbba46c?width=397&amp;height=289\"></media:thumbnail>\\n</media:content>\\n</item>\\n<item>\\n<title>'Kritiek Beyonc\\xe9 en Lamar moet een podium krijgen'</title>\\n<link/>http://www.volkskrant.nl/opinie/-kritiek-beyonce-en-lamar-moet-een-podium-krijgen~a4245808/\\r\\n       <description>Het zou veel verrassender zijn geweest als Kendrick Lamar de Grammy voor het beste lied had gewonnen, zegt muzikant Lucas Hamming in de Nieuwsbreak. 'Met zijn liedpresentatie wil hij echt iets zeggen. Maatschappijkritiek moet een podium krijgen.' Bent u een nieuwsjunkie?'Nee, ik volg het nieuws niet op de voet. Maar ik luister wel veel radio. Daar haal ik nieuws vandaan. En soms lees ik Het Parool</description>\\n<pubdate>Tue, 16 Feb 2016 15:00:00 GMT</pubdate>\\n<author>Door: Fleur Willemsen</author>\\n<guid ispermalink=\"false\">4245808</guid>\\n<media:content type=\"image/jpeg\" url=\"http://static1.persgroep.net/volkskrant/image/50ea0859-8c3a-4fb7-8c3c-77d4f27fe9ec?width=397&amp;height=289\">\\n<media:thumbnail url=\"http://static1.persgroep.net/volkskrant/image/50ea0859-8c3a-4fb7-8c3c-77d4f27fe9ec?width=397&amp;height=289\"></media:thumbnail>\\n</media:content>\\n</item>\\n<item>\\n<title>Crackpijp werd 'born-again Christian' Vanity alsnog fataal</title>\\n<link/>http://www.volkskrant.nl/muziek/crackpijp-werd-born-again-christian-vanity-alsnog-fataal~a4245876/\\r\\n       <description>Prince noemde haar Vanity: ijdelheid. Volgens de overlevering omdat de zanger zichzelf weerspiegeld zag in het gebeeldhouwde en ietwat hooghartige gelaat van de Canadese B-actrice Denise Matthews. Gisteren overleed Matthews aan een nierziekte: een kwaal die zij in de jaren tachtig had opgelopen door excessief drugsgebruik. In 1981 richtte Prince een damestrio op genaamd The Hookers. Prince bouwde</description>\\n<pubdate>Tue, 16 Feb 2016 14:53:00 GMT</pubdate>\\n<author>Door: Robert van Gijssel</author>\\n<guid ispermalink=\"false\">4245876</guid>\\n<media:content type=\"image/jpeg\" url=\"http://static0.persgroep.net/volkskrant/image/0c883c5e-bad1-413c-a783-3cfe359f9a14?width=397&amp;height=289\">\\n<media:thumbnail url=\"http://static0.persgroep.net/volkskrant/image/0c883c5e-bad1-413c-a783-3cfe359f9a14?width=397&amp;height=289\"></media:thumbnail>\\n</media:content>\\n</item>\\n<item>\\n<title>President: Oekra\\xefense premier heeft steun coalitiepartijen verloren</title>\\n<link/>http://www.volkskrant.nl/buitenland/president-oekraiense-premier-heeft-steun-coalitiepartijen-verloren~a4245707/\\r\\n       <description>De Oekra\\xefense president Petro Porosjenko heeft laten doorschemeren dat premier Arseni Jatsenjoek beter kan opstappen. Porosjenko zei dinsdag dat Jatsenjoek de steun van de coalitiepartijen heeft verloren. Jatsenjoek moet zich vandaag in het Oekra\\xefense parlement verantwoorden voor zijn beleid, maar het is onwaarschijnlijk dat hij het debat overleeft. Eerder op de dag was al gebleken dat er binnen d</description>\\n<pubdate>Tue, 16 Feb 2016 14:47:00 GMT</pubdate>\\n<author>Door: Redactie</author>\\n<guid ispermalink=\"false\">4245707</guid>\\n<media:content type=\"image/jpeg\" url=\"http://static0.persgroep.net/volkskrant/image/1f7b8170-e14f-48b9-9a83-53ddaff23491?width=397&amp;height=289\">\\n<media:thumbnail url=\"http://static0.persgroep.net/volkskrant/image/1f7b8170-e14f-48b9-9a83-53ddaff23491?width=397&amp;height=289\"></media:thumbnail>\\n</media:content>\\n</item>\\n<item>\\n<title>Sporen van zika-virus gevonden  in brein misvormde baby's</title>\\n<link/>http://www.volkskrant.nl/wetenschap/sporen-van-zika-virus-gevonden-in-brein-misvormde-baby-s~a4245853/\\r\\n       <description>Speelt het zika-virus een rol bij het veroorzaken van hersenafwijkingen bij ongeboren baby's? De bewijzen daarvoor zijn weer wat sterker geworden, nu wetenschappers het virus ook in de hersenen van misvormde baby's hebben gevonden. Een team van PUC-Parana University in Brazili\\xeb vond het virus in de hersenen van baby's die 48 uur na de geboorte overleden, zo meldt BBC. Eerder schreef het wetenschap</description>\\n<pubdate>Tue, 16 Feb 2016 14:36:00 GMT</pubdate>\\n<author>Door: Tonie Mudde</author>\\n<guid ispermalink=\"false\">4245853</guid>\\n<media:content type=\"image/jpeg\" url=\"http://static1.persgroep.net/volkskrant/image/f8b2c59c-5e3b-497f-8971-172ed7e2b222?width=397&amp;height=289\">\\n<media:thumbnail url=\"http://static1.persgroep.net/volkskrant/image/f8b2c59c-5e3b-497f-8971-172ed7e2b222?width=397&amp;height=289\"></media:thumbnail>\\n</media:content>\\n</item>\\n<item>\\n<title>Dick Advocaat gaat technische staf Feyenoord helpen</title>\\n<link/>http://www.volkskrant.nl/sport/dick-advocaat-gaat-technische-staf-feyenoord-helpen~a4245857/\\r\\n       <description>Oud-bondscoach Dick Advocaat gaat de technische staf van Feyenoord-trainer Giovanni van Bronckhorst ondersteunen. Dit heeft Feyenoord dinsdag bekendgemaakt. Vanochtend berichtte Voetbal International al dat de Rotterdamse club Advocaat wilde strikken voor een rol als adviseur van de voetbalploeg in crisis. De 68-jarige Hagenaar gaat per direct en tot het einde van het seizoen de staf van Van Bronc</description>\\n<pubdate>Tue, 16 Feb 2016 14:29:00 GMT</pubdate>\\n<author>Door: Redactie</author>\\n<guid ispermalink=\"false\">4245857</guid>\\n<media:content type=\"image/jpeg\" url=\"http://static0.persgroep.net/volkskrant/image/90bb65d7-97e2-41b8-b1e5-e7bb533ff2b5?width=397&amp;height=289\">\\n<media:thumbnail url=\"http://static0.persgroep.net/volkskrant/image/90bb65d7-97e2-41b8-b1e5-e7bb533ff2b5?width=397&amp;height=289\"></media:thumbnail>\\n</media:content>\\n</item>\\n<item>\\n<title>Techblog -  Reclamefilmpje Galaxy S7 uitgelekt</title>\\n<link/>http://www.volkskrant.nl/tech/techblog-reclamefilmpje-galaxy-s7-uitgelekt~a4219697/\\r\\n       <description>Nieuws, geruchten, tweets en andere tijdingen uit de wereld van de technologie, bij elkaar geblogd door de specialisten van de Volkskrant.</description>\\n<pubdate>Tue, 16 Feb 2016 14:24:00 GMT</pubdate>\\n<author>Door: Peter van Ammelrooy, Bard van de Weijer, Thomas van der Kolk, Laurens Verhagen, Heleen van Lier, Lisa van der Velden</author>\\n<guid ispermalink=\"false\">4219697</guid>\\n<media:content type=\"image/jpeg\" url=\"http://static0.persgroep.net/volkskrant/image/6789762c-5ed3-4e40-b6da-122de61fd42f?width=397&amp;height=289\">\\n<media:thumbnail url=\"http://static0.persgroep.net/volkskrant/image/6789762c-5ed3-4e40-b6da-122de61fd42f?width=397&amp;height=289\"></media:thumbnail>\\n</media:content>\\n</item>\\n<item>\\n<title>'Na vijftig jaar gaan er weer Amerikaanse vluchten naar Cuba'</title>\\n<link/>http://www.volkskrant.nl/buitenland/-na-vijftig-jaar-gaan-er-weer-amerikaanse-vluchten-naar-cuba~a4245843/\\r\\n       <description>Het commerci\\xeble luchtverkeer tussen Cuba en de Verenigde Staten wordt dit jaar na meer dan vijftig jaar hervat. De VS onderteken dinsdag een overeenkomst die dagelijks dertig vluchten tussen het communistische eiland en Amerikaanse steden mogelijk maakt. Dit meldt The New York Times dinsdag. De handtekening die minister van transport Anthony Foxx dinsdag zet in Havana is een volgende stap in het u</description>\\n<pubdate>Tue, 16 Feb 2016 14:13:00 GMT</pubdate>\\n<author>Door: Redactie</author>\\n<guid ispermalink=\"false\">4245843</guid>\\n<media:content type=\"image/jpeg\" url=\"http://static0.persgroep.net/volkskrant/image/096c5846-17fc-4ad2-90b1-e3a04ed967de?width=397&amp;height=289\">\\n<media:thumbnail url=\"http://static0.persgroep.net/volkskrant/image/096c5846-17fc-4ad2-90b1-e3a04ed967de?width=397&amp;height=289\"></media:thumbnail>\\n</media:content>\\n</item>\\n<item>\\n<title>ChristenUnie lokt meerderheid voor NIP-test uit de kast</title>\\n<link/>http://www.volkskrant.nl/politiek/christenunie-lokt-meerderheid-voor-nip-test-uit-de-kast~a4198448/\\r\\n       <description>#binnenskamers brengt u de scherpste observaties vanaf het Binnenhof, waargenomen en opgetekend door de verslaggevers van onze parlementaire redactie.</description>\\n<pubdate>Tue, 16 Feb 2016 14:00:00 GMT</pubdate>\\n<author>Door: Robert Giebels, Maartje Bakker, Raoul du Pr\\xe9, Ariejan Korteweg, Frank Hendrickx, Martin Sommer, Gijs Herdersche\\xea, Natalie Righton, Joost de Vries</author>\\n<guid ispermalink=\"false\">4198448</guid>\\n<media:content type=\"image/jpeg\" url=\"http://static1.persgroep.net/volkskrant/image/c303d426-363f-446b-b502-113c1692f9d2?width=397&amp;height=289\">\\n<media:thumbnail url=\"http://static1.persgroep.net/volkskrant/image/c303d426-363f-446b-b502-113c1692f9d2?width=397&amp;height=289\"></media:thumbnail>\\n</media:content>\\n</item>\\n<item>\\n<title>Treincrash Beieren veroorzaakt door menselijke fout</title>\\n<link/>http://www.volkskrant.nl/buitenland/treincrash-beieren-veroorzaakt-door-menselijke-fout~a4245819/\\r\\n       <description>De frontale botsing vorige week dinsdag tussen twee regionale treinen in het zuiden van Duitsland is veroorzaakt door een menselijke fout. Dat hebben onderzoekers vastgesteld, aldus de Duitse justitie dinsdag. Justitie is een vooronderzoek begonnen naar de dienstdoende verkeersleider. Door de botsing ter hoogte van Bad Aibling in de deelstaat Beieren kwamen elf mensen om het leven en raakten meer</description>\\n<pubdate>Tue, 16 Feb 2016 13:55:00 GMT</pubdate>\\n<author>Door: Redactie</author>\\n<guid ispermalink=\"false\">4245819</guid>\\n<media:content type=\"image/jpeg\" url=\"http://static0.persgroep.net/volkskrant/image/ab6ec7c9-22b4-46fa-99ab-e12b97fc1a12?width=397&amp;height=289\">\\n<media:thumbnail url=\"http://static0.persgroep.net/volkskrant/image/ab6ec7c9-22b4-46fa-99ab-e12b97fc1a12?width=397&amp;height=289\"></media:thumbnail>\\n</media:content>\\n</item>\\n<item>\\n<title>Handbalster Polman opgenomen met hartklachten</title>\\n<link/>http://www.volkskrant.nl/sport/handbalster-polman-opgenomen-met-hartklachten~a4245838/\\r\\n       <description>Handbalster Estavana Polman is in het ziekenhuis opgenomen met hartklachten. De spelverdeelster van de Deense club Esbjerg kreeg maandagavond tijdens de competitiewedstrijd tegen Viborg last van haar hart en kon niet verder. 'Ik heb al een aantal jaar soms last van hartritmestoornissen', verklaart Polman op de website van haar Deense club. 'Meestal gaat dat vanzelf over, maar nu niet.' Het boegbee</description>\\n<pubdate>Tue, 16 Feb 2016 13:45:00 GMT</pubdate>\\n<author>Door: Redactie</author>\\n<guid ispermalink=\"false\">4245838</guid>\\n<media:content type=\"image/jpeg\" url=\"http://static1.persgroep.net/volkskrant/image/19a7d0fc-0729-4d37-bd88-8873e75f812b?width=397&amp;height=289\">\\n<media:thumbnail url=\"http://static1.persgroep.net/volkskrant/image/19a7d0fc-0729-4d37-bd88-8873e75f812b?width=397&amp;height=289\"></media:thumbnail>\\n</media:content>\\n</item>\\n<item>\\n<title>Moeder doodde haar twee kinderen 'in een waan'</title>\\n<link/>http://www.volkskrant.nl/binnenland/moeder-doodde-haar-twee-kinderen-in-een-waan~a4245794/\\r\\n       <description>De vrouw die haar twee kinderen in 2013 vermoordde zegt dit te hebben gedaan in een waan. 'Ik handelde als een robot. Ik deed het, maar dacht er niet bij na', verklaarde de Apeldoornse Aur\\xe9lie V. dinsdag in de rechtbank van Zutphen. De vader van de kinderen zei in een reactie 20 duizend euro 'affectieschade' van haar te willen ontvangen, omdat hij werd geconfronteerd met foto's van zijn dode kinde</description>\\n<pubdate>Tue, 16 Feb 2016 13:23:00 GMT</pubdate>\\n<author>Door: Redactie</author>\\n<guid ispermalink=\"false\">4245794</guid>\\n<media:content type=\"image/jpeg\" url=\"http://static0.persgroep.net/volkskrant/image/edce0cf7-18be-45a9-89d4-80d56ec4f9f7?width=397&amp;height=289\">\\n<media:thumbnail url=\"http://static0.persgroep.net/volkskrant/image/edce0cf7-18be-45a9-89d4-80d56ec4f9f7?width=397&amp;height=289\"></media:thumbnail>\\n</media:content>\\n</item>\\n<item>\\n<title>Turkije stuurt nu ook aan op grondtroepen in Syri\\xeb</title>\\n<link/>http://www.volkskrant.nl/buitenland/turkije-stuurt-nu-ook-aan-op-grondtroepen-in-syrie~a4245785/\\r\\n       <description>Turkije wil samen met bondgenoten een gezamenlijke operatie op de grond in Syri\\xeb opzetten. Net als Saoedi-Arabi\\xeb is het land nu voor grondtroepen in de strijd tegen IS. Dat heeft een Turkse overheidsfunctionaris dinsdag bevestigd aan verslaggevers, aldus persbureau AP. Zonder militairen op Syrische bodem is het volgens hem inmiddels 'onmogelijk de slepende burgeroorlog in Syri\\xeb te beslechten'. Toc</description>\\n<pubdate>Tue, 16 Feb 2016 13:16:00 GMT</pubdate>\\n<author>Door: Redactie</author>\\n<guid ispermalink=\"false\">4245785</guid>\\n<media:content type=\"image/jpeg\" url=\"http://static0.persgroep.net/volkskrant/image/7545c1f4-d944-4875-8bae-701496797acb?width=397&amp;height=289\">\\n<media:thumbnail url=\"http://static0.persgroep.net/volkskrant/image/7545c1f4-d944-4875-8bae-701496797acb?width=397&amp;height=289\"></media:thumbnail>\\n</media:content>\\n</item>\\n<item>\\n<title>Huppakee, weg!</title>\\n<link/>http://www.volkskrant.nl/opinie/huppakee-weg~a4245747/\\r\\n       <description>De documentaire over de Levenseindekliniek die gisteravond werd uitgezonden door de NTR laat volgens Victor Lamme, hoogleraar Cognitieve Neurowetenschap, zien dat de Nederlandse euthanasiepraktijk zich op een hellend vlak bevindt. Vol trots presenteerde de Levenseindekliniek drie gevallen van euthanasie in een maandag door de NTR uitgezonden documentaire. Al eerder waren er fragmenten vertoond in</description>\\n<pubdate>Tue, 16 Feb 2016 13:05:00 GMT</pubdate>\\n<author>Victor Lamme is hoogleraar Cognitieve Neurowetenschap aan de Universiteit van Amsterdam (UvA) en auteur van onder andere 'De Vrije Wil Bestaat Niet'.</author>\\n<guid ispermalink=\"false\">4245747</guid>\\n<media:content type=\"image/jpeg\" url=\"http://static0.persgroep.net/volkskrant/image/295cbc89-4207-440c-b1a5-e15a180eb4a3?width=397&amp;height=289\">\\n<media:thumbnail url=\"http://static0.persgroep.net/volkskrant/image/295cbc89-4207-440c-b1a5-e15a180eb4a3?width=397&amp;height=289\"></media:thumbnail>\\n</media:content>\\n</item>\\n<item>\\n<title>Geen Tour du Jour dit jaar op RTL</title>\\n<link/>http://www.volkskrant.nl/sport/geen-tour-du-jour-dit-jaar-op-rtl~a4245784/\\r\\n       <description>De wielertalkshow Tour du Jour, dat tijdens de vorige Tour de France op RTL 7 werd uitgezonden, gaat komende zomer niet door. 'Ik vind het wel jammer, maar toen ik het thuis vertelde werd er met gejuich gereageerd', zei presentator Wilfred Genee bij Shownieuws. Tour du Jour werd iedere avond uitgezonden vanaf een camping, als volkse tegenhanger van de Avondetappe van de NOS, dat afgelopen zomer pl</description>\\n<pubdate>Tue, 16 Feb 2016 13:02:00 GMT</pubdate>\\n<author>Door: redactie</author>\\n<guid ispermalink=\"false\">4245784</guid>\\n<media:content type=\"image/jpeg\" url=\"http://static0.persgroep.net/volkskrant/image/02b854d7-25b0-44a3-8bda-2796da227e6e?width=397&amp;height=289\">\\n<media:thumbnail url=\"http://static0.persgroep.net/volkskrant/image/02b854d7-25b0-44a3-8bda-2796da227e6e?width=397&amp;height=289\"></media:thumbnail>\\n</media:content>\\n</item>\\n<item>\\n<title>Belangrijk advies aan Hoge Raad: belasting op vermogen moet van tafel</title>\\n<link/>http://www.volkskrant.nl/binnenland/belangrijk-advies-aan-hoge-raad-belasting-op-vermogen-moet-van-tafel~a4245781/\\r\\n       <description>Als u minder dan 1,2 procent rendement haalt over uw spaargeld of vermogen, moet u naar de rechter stappen. Dat is het advies van advocaat-generaal Ren\\xe9 Niessen. In een zogenoemde conclusie voor de Hoge Raad schrijft Niessen dat meer belasting betalen dan rendement behalen in strijd is met het recht van eigendom zoals geformuleerd in het Europees Verdrag voor de Rechten van de Mens (EVRM). De Hoge</description>\\n<pubdate>Tue, 16 Feb 2016 12:54:00 GMT</pubdate>\\n<author>Door: Robert Giebels</author>\\n<guid ispermalink=\"false\">4245781</guid>\\n<media:content type=\"image/jpeg\" url=\"http://static0.persgroep.net/volkskrant/image/d5d72a01-db8f-4174-8b73-af44ea0ae074?width=397&amp;height=289\">\\n<media:thumbnail url=\"http://static0.persgroep.net/volkskrant/image/d5d72a01-db8f-4174-8b73-af44ea0ae074?width=397&amp;height=289\"></media:thumbnail>\\n</media:content>\\n</item>\\n<item>\\n<title>Liveblog - VN veroordelen aanvallen op burgers: 'Mogelijk oorlogsmisdaden'</title>\\n<link/>http://www.volkskrant.nl/buitenland/liveblog-vn-veroordelen-aanvallen-op-burgers-mogelijk-oorlogsmisdaden~a4245659/\\r\\n       <description>Het Syrische conflict wordt met de dag onoverzichtelijker. De wapenstilstand moet eind deze week ingaan, maar geen van de partijen maakt aanstalten om het geweld te minderen. Sinds zaterdag schiet Turkije op Koerdische stellingen in Noord-Syri\\xeb. Het Syrische regime diende bij de VN een klacht in tegen de Turkse inmenging op Syrisch grondgebied.</description>\\n<pubdate>Tue, 16 Feb 2016 12:10:00 GMT</pubdate>\\n<author>Door: Redactie</author>\\n<guid ispermalink=\"false\">4245659</guid>\\n<media:content type=\"image/jpeg\" url=\"http://static0.persgroep.net/volkskrant/image/a8455a3c-570d-43aa-a670-93591a42636b?width=397&amp;height=289\">\\n<media:thumbnail url=\"http://static0.persgroep.net/volkskrant/image/a8455a3c-570d-43aa-a670-93591a42636b?width=397&amp;height=289\"></media:thumbnail>\\n</media:content>\\n</item>\\n<item>\\n<title>Sarkozy verhoord over schaduwboekhouding campagne 2012</title>\\n<link/>http://www.volkskrant.nl/buitenland/sarkozy-verhoord-over-schaduwboekhouding-campagne-2012~a4245718/\\r\\n       <description>Nicolas Sarkozy is dinsdag verhoord over de financiering van zijn mislukte herverkiezingscampagne in 2012. Ondanks dat weinigen hem geloven, houdt de Franse oud-president vol dat hij niets wist van de schaduwboekhouding die zijn campagneteam erop nahield. Zo schreef Bygmalion, een extern campagnebureau, onder meer voor 18 miljoen euro aan valse facturen. Die moesten verdoezelen dat Sarkozy's verki</description>\\n<pubdate>Tue, 16 Feb 2016 10:51:00 GMT</pubdate>\\n<author>Door: Redactie</author>\\n<guid ispermalink=\"false\">4245718</guid>\\n<media:content type=\"image/jpeg\" url=\"http://static0.persgroep.net/volkskrant/image/67aa2410-56ec-4a5f-bd54-4ee77c0ae27f?width=397&amp;height=289\">\\n<media:thumbnail url=\"http://static0.persgroep.net/volkskrant/image/67aa2410-56ec-4a5f-bd54-4ee77c0ae27f?width=397&amp;height=289\"></media:thumbnail>\\n</media:content>\\n</item>\\n<item>\\n<title>Verdachten aanslag Bangkok ontkennen schuld</title>\\n<link/>http://www.volkskrant.nl/buitenland/verdachten-aanslag-bangkok-ontkennen-schuld~a4245715/\\r\\n       <description>De twee Chinese Oeigoeren die terechtstaan voor de bomaanslag in Bangkok vorig jaar ontkennen schuld. Dat bleek dinsdag op de eerste zittingsdag van het proces in de rechtszaal. Bij de aanslag op 17 augustus vielen 20 doden, voornamelijk buitenlanders. Het was de grootste aanslag in de Thaise hoofdstad in lange tijd. De bom ontplofte bij de Erawan-tempel, een belangrijke toeristische trekpleister</description>\\n<pubdate>Tue, 16 Feb 2016 10:25:00 GMT</pubdate>\\n<author>Door: Redactie</author>\\n<guid ispermalink=\"false\">4245715</guid>\\n<media:content type=\"image/jpeg\" url=\"http://static0.persgroep.net/volkskrant/image/cce6faa6-c29e-4140-b1e2-6e281f2a6ae2?width=397&amp;height=289\">\\n<media:thumbnail url=\"http://static0.persgroep.net/volkskrant/image/cce6faa6-c29e-4140-b1e2-6e281f2a6ae2?width=397&amp;height=289\"></media:thumbnail>\\n</media:content>\\n</item>\\n<item>\\n<title>Sportblog - Bokser Pacquaio: homo's zijn erger dan beesten</title>\\n<link/>http://www.volkskrant.nl/sport/sportblog-bokser-pacquaio-homo-s-zijn-erger-dan-beesten~a4245028/\\r\\n       <description>Van fabelachtige doelpunten tot nieuwe sporthelden. Nieuws over transfers, records en opvallende tweets uit de sportwereld. Hier bij elkaar geblogd door de specialisten van de Volkskrant.</description>\\n<pubdate>Tue, 16 Feb 2016 09:52:00 GMT</pubdate>\\n<guid ispermalink=\"false\">4245028</guid>\\n<media:content type=\"image/jpeg\" url=\"http://static1.persgroep.net/volkskrant/image/5fbe0218-74c4-4774-a3dd-a1664552e5c5?width=397&amp;height=289\">\\n<media:thumbnail url=\"http://static1.persgroep.net/volkskrant/image/5fbe0218-74c4-4774-a3dd-a1664552e5c5?width=397&amp;height=289\"></media:thumbnail>\\n</media:content>\\n</item>\\n<item>\\n<title>Zeker zes doden door ingestorte flat na gasexplosie</title>\\n<link/>http://www.volkskrant.nl/buitenland/zeker-zes-doden-door-ingestorte-flat-na-gasexplosie~a4245576/\\r\\n       <description>Er zijn dinsdagochtend zeker zes doden, waaronder twee kinderen, gevallen nadat een flat in Rusland instortte na een gasexplosie. Ook zijn er zeker negen gewonden. De andere 130 bewoners van het woongebouw met vijf verdiepingen in de West-Russische stad Jaroslavl werden ge\\xebvacueerd. Volgens de autoriteiten zijn zo'n tien appartementen ingestort. Hoeveel mensen er in het gebouw woonden en op het mo</description>\\n<pubdate>Tue, 16 Feb 2016 09:44:00 GMT</pubdate>\\n<author>Bewerkt door: Redactie</author>\\n<guid ispermalink=\"false\">4245576</guid>\\n<media:content type=\"image/jpeg\" url=\"http://static0.persgroep.net/volkskrant/image/4353c61a-17ed-472e-83f7-80bc55d25052?width=397&amp;height=289\">\\n<media:thumbnail url=\"http://static0.persgroep.net/volkskrant/image/4353c61a-17ed-472e-83f7-80bc55d25052?width=397&amp;height=289\"></media:thumbnail>\\n</media:content>\\n</item>\\n<item>\\n<title>Ruiten gemeentehuis Westland ingegooid op dag van vergadering asielopvang</title>\\n<link/>http://www.volkskrant.nl/binnenland/ruiten-gemeentehuis-westland-ingegooid-op-dag-van-vergadering-asielopvang~a4245701/\\r\\n       <description>Bij het gemeentehuis van Westland in 's-Gravenzande zijn vier ruiten ingegooid. Dit meldt Omroep West dinsdag. De gemeenteraad van Westland vergadert dinsdagavond over de opvang van asielzoekers in een hotel in Wateringen. Het is onduidelijk of er een verband bestaat tussen het vandalisme en de bijeenkomst. Op de agenda van de gemeente staat de opvang van 275 asielzoekers in een hotel aan de de Li</description>\\n<pubdate>Tue, 16 Feb 2016 09:43:00 GMT</pubdate>\\n<author>Door: Redactie</author>\\n<guid ispermalink=\"false\">4245701</guid>\\n<media:content type=\"image/jpeg\" url=\"http://static0.persgroep.net/volkskrant/image/197e19b5-4c9b-4761-b3ac-d161fcbee1d2?width=397&amp;height=289\">\\n<media:thumbnail url=\"http://static0.persgroep.net/volkskrant/image/197e19b5-4c9b-4761-b3ac-d161fcbee1d2?width=397&amp;height=289\"></media:thumbnail>\\n</media:content>\\n</item>\\n<item>\\n<title>Zes jaar cel voor 'studentengluurder' Nijmegen</title>\\n<link/>http://www.volkskrant.nl/binnenland/zes-jaar-cel-voor-studentengluurder-nijmegen~a4245681/\\r\\n       <description>De 39-jarige 'studentengluurder' Kas van R. uit Nijmegen is dinsdag in Arnhem veroordeeld tot zes jaar cel. De man zou tussen 2012 en 2014 zeven jonge vrouwen hebben betast, aangerand, mishandeld en bedreigd. De politie herkende zijn werkwijze, omdat hij al tweemaal eerder veroordeeld was voor aanrandingen. Sinds 2008 liep hij meerdere boetes op voor het begluren van tientallen studentes. De man i</description>\\n<pubdate>Tue, 16 Feb 2016 09:36:00 GMT</pubdate>\\n<author>Door: Redactie</author>\\n<guid ispermalink=\"false\">4245681</guid>\\n<media:content type=\"image/jpeg\" url=\"http://static1.persgroep.net/volkskrant/image/0f7b9da7-1407-4100-b936-f10af1ad764a?width=397&amp;height=289\">\\n<media:thumbnail url=\"http://static1.persgroep.net/volkskrant/image/0f7b9da7-1407-4100-b936-f10af1ad764a?width=397&amp;height=289\"></media:thumbnail>\\n</media:content>\\n</item>\\n<item>\\n<title>Tien verdachten opgepakt bij huiszoekingen Belgi\\xeb</title>\\n<link/>http://www.volkskrant.nl/buitenland/tien-verdachten-opgepakt-bij-huiszoekingen-belgie~a4245664/\\r\\n       <description>Bij huiszoekingen in Belgi\\xeb zijn dinsdagochtend tien mensen gearresteerd. De onderzoeksrechter van Luik heeft opdracht gegeven tot de huiszoekingen om rekruteerders voor Islamitische Staat op te sporen, meldt Het Nieuwsblad. In Belgi\\xeb is een rekruteringsnetwerk met banden met de terreurgroep Islamitische Staat actief. Er zijn aanwijzingen dat Belgen naar Syri\\xeb zijn afgereisd om zich bij de terreur</description>\\n<pubdate>Tue, 16 Feb 2016 09:11:00 GMT</pubdate>\\n<author>Door: Redactie</author>\\n<guid ispermalink=\"false\">4245664</guid>\\n<media:content type=\"image/jpeg\" url=\"http://static1.persgroep.net/volkskrant/image/33eeefde-e70c-4d54-97aa-655bb54dbb33?width=397&amp;height=289\">\\n<media:thumbnail url=\"http://static1.persgroep.net/volkskrant/image/33eeefde-e70c-4d54-97aa-655bb54dbb33?width=397&amp;height=289\"></media:thumbnail>\\n</media:content>\\n</item>\\n<item>\\n<title>Kwaad Prado weigert twee doeken voor expositie Bosch</title>\\n<link/>http://www.volkskrant.nl/beeldende-kunst/kwaad-prado-weigert-twee-doeken-voor-expositie-bosch~a4245666/\\r\\n       <description>Het Spaanse museum Prado heeft twee schilderijen die het had toegezegd uit te lenen aan Het Noordbrabants Museum voor de tentoonstelling over Jheronimus Bosch toch in Madrid gehouden. Het museum uit Madrid zou kwaad zijn omdat Nederlandse experts de twee doeken hadden beoordeeld als niet van de hand van Bosch zelf. De werken, De verzoeking van de heilige Antonius en De Keisnijding, zouden door het</description>\\n<pubdate>Tue, 16 Feb 2016 09:09:00 GMT</pubdate>\\n<author>Door: Redactie</author>\\n<guid ispermalink=\"false\">4245666</guid>\\n<media:content type=\"image/jpeg\" url=\"http://static1.persgroep.net/volkskrant/image/86b44b4e-3705-4478-a476-9211f5222664?width=397&amp;height=289\">\\n<media:thumbnail url=\"http://static1.persgroep.net/volkskrant/image/86b44b4e-3705-4478-a476-9211f5222664?width=397&amp;height=289\"></media:thumbnail>\\n</media:content>\\n</item>\\n<item>\\n<title>De Grammy's in vijf momenten: Kendrick Lamar legendarisch en excuses van Adele voor optreden</title>\\n<link/>http://www.volkskrant.nl/muziek/de-grammy-s-in-vijf-momenten-kendrick-lamar-legendarisch-en-excuses-van-adele-voor-optreden~a4245636/\\r\\n       <description>Een mega-awardshow als de Grammy's levert altijd memorabele momenten op. Zoals de sneer van Taylor Swift naar Kanye West of het nu al legendarische optreden van Kendrick Lamar. Hier een overzicht van de avond. Een overzicht met de winnaars vindt u hier. Achter Kendrick Lamar wordt groot het continent Afrika geprojecteerd met in het midden 'Compton'. Zo eindigt het nu al legendarische optreden van</description>\\n<pubdate>Tue, 16 Feb 2016 08:24:00 GMT</pubdate>\\n<author>Door: Just Fontein</author>\\n<guid ispermalink=\"false\">4245636</guid>\\n<media:content type=\"image/jpeg\" url=\"http://static1.persgroep.net/volkskrant/image/bacf3c42-79e0-453f-9044-083560ba345f?width=397&amp;height=289\">\\n<media:thumbnail url=\"http://static1.persgroep.net/volkskrant/image/bacf3c42-79e0-453f-9044-083560ba345f?width=397&amp;height=289\"></media:thumbnail>\\n</media:content>\\n</item>\\n<item>\\n<title>FC Twente bevestigt: transfer Tadic is omgeven met mysteries</title>\\n<link/>http://www.volkskrant.nl/sport/fc-twente-bevestigt-transfer-tadic-is-omgeven-met-mysteries~a4245631/\\r\\n       <description>De huidige leiding van FC Twente weet dat de transfer van Dusan Tadic in 2014 is omgeven met mysteries. De club heeft alle papieren daarom voorgelegd aan een onafhankelijk advocatenkantoor, dat onderzoek doet. Dat benadrukte interim-directeur Onno Jacobs in een reactie op een verhaal in Tubantia. De krant meldde dinsdag dat FC Twente bij de verkoop van Tadic aan Southampton bewust 1,8 miljoen euro</description>\\n<pubdate>Tue, 16 Feb 2016 08:05:00 GMT</pubdate>\\n<author>Door: Redactie</author>\\n<guid ispermalink=\"false\">4245631</guid>\\n<media:content type=\"image/jpeg\" url=\"http://static1.persgroep.net/volkskrant/image/9b2f74ba-873c-4de5-a5e1-43a69e0be60b?width=397&amp;height=289\">\\n<media:thumbnail url=\"http://static1.persgroep.net/volkskrant/image/9b2f74ba-873c-4de5-a5e1-43a69e0be60b?width=397&amp;height=289\"></media:thumbnail>\\n</media:content>\\n</item>\\n<item>\\n<title>Vodafone en Ziggo gaan samen in Nederland</title>\\n<link/>http://www.volkskrant.nl/tech/vodafone-en-ziggo-gaan-samen-in-nederland~a4245580/\\r\\n       <description>Vodafone en Liberty Global, het moederconcern van kabelbedrijf Ziggo, fuseren hun Nederlandse activiteiten. Dat werd dinsdag bekendgemaakt. Er werd al langere tijd over een samengaan gesproken. Topman John Malone van Liberty Global liet halverwege vorig jaar al doorschemeren dat hij strategische voordelen in een samengaan ziet. Malone zei dat met name de activiteiten van de twee bedrijven in Neder</description>\\n<pubdate>Tue, 16 Feb 2016 05:44:00 GMT</pubdate>\\n<author>Door: Redactie</author>\\n<guid ispermalink=\"false\">4245580</guid>\\n<media:content type=\"image/jpeg\" url=\"http://static1.persgroep.net/volkskrant/image/220be791-5905-40d6-8f2d-2aeda3261108?width=397&amp;height=289\">\\n<media:thumbnail url=\"http://static1.persgroep.net/volkskrant/image/220be791-5905-40d6-8f2d-2aeda3261108?width=397&amp;height=289\"></media:thumbnail>\\n</media:content>\\n</item>\\n<item>\\n<title>Belangrijkste Grammy's voor Ed Sheeran en Taylor Swift</title>\\n<link/>http://www.volkskrant.nl/muziek/belangrijkste-grammy-s-voor-ed-sheeran-en-taylor-swift~a4245578/\\r\\n       <description>Thinking Out Loud van Ed Sheeran is het beste liedje van het jaar en Taylor Swift maakte met 1989 het beste album. Het was de eerste Grammy-award voor de 24-jarige Sheeran. In het Staples Center in Los Angeles werden maandagavond (lokale tijd) voor de 58ste keer de prestigieuze Grammy's uitgereikt. Rapper en acteur LL Cool J presenteerde de ceremonie voor de vijfde keer. Sheeran won twee keer, hij</description>\\n<pubdate>Tue, 16 Feb 2016 05:35:00 GMT</pubdate>\\n<author>Door: Redactie</author>\\n<guid ispermalink=\"false\">4245578</guid>\\n<media:content type=\"image/jpeg\" url=\"http://static0.persgroep.net/volkskrant/image/1dfdcb22-34c2-425f-9bc6-6defe01d914f?width=397&amp;height=289\">\\n<media:thumbnail url=\"http://static0.persgroep.net/volkskrant/image/1dfdcb22-34c2-425f-9bc6-6defe01d914f?width=397&amp;height=289\"></media:thumbnail>\\n</media:content>\\n</item>\\n<item>\\n<title>Volkswagenclaim in Nederland voor de rechter</title>\\n<link/>http://www.volkskrant.nl/economie/volkswagenclaim-in-nederland-voor-de-rechter~a4245378/\\r\\n       <description>Nederland wordt mogelijk het belangrijkste slagveld voor de strijd om schadevergoeding voor benadeelde beleggers in autoproducent Volkswagen. Het bekende Amerikaanse claimkantoor BLB&amp;G wil met de Duitse autofabrikant, die vorig jaar een groot dieselschandaal veroorzaakte , een schikking treffen. Die schikking zou bij het gerechtshof van Amsterdam wereldwijd verbindend moeten worden verklaard. De a</description>\\n<pubdate>Tue, 16 Feb 2016 05:00:00 GMT</pubdate>\\n<author>Door: Gerard Reijn, Marc van den Eerenbeemt</author>\\n<guid ispermalink=\"false\">4245378</guid>\\n<media:content type=\"image/jpeg\" url=\"http://static1.persgroep.net/volkskrant/image/ee6641ed-a086-4d23-aa88-d62158512fb5?width=397&amp;height=289\">\\n<media:thumbnail url=\"http://static1.persgroep.net/volkskrant/image/ee6641ed-a086-4d23-aa88-d62158512fb5?width=397&amp;height=289\"></media:thumbnail>\\n</media:content>\\n</item>\\n<item>\\n<title>EU-parlement waarschuwt voor overhaaste toenadering tot Turkije</title>\\n<link/>http://www.volkskrant.nl/buitenland/eu-parlement-waarschuwt-voor-overhaaste-toenadering-tot-turkije~a4245317/\\r\\n       <description>Het Europees Parlement bespreekt dinsdag een ongekend kritisch rapport over de handel en wandel van de Turkse regering, juist op een moment dat de EU steeds nauwer met Ankara samenwerkt om de migratiecrisis te bezweren. Het jaarlijkse voortgangsrapport over een mogelijk Turkse toetreding tot de EU neemt dan ook flink afstand van de Europese Commissie en de Europese regeringsleiders. Het rapport ge</description>\\n<pubdate>Tue, 16 Feb 2016 05:00:00 GMT</pubdate>\\n<author>Door: Kees Elenbaas</author>\\n<guid ispermalink=\"false\">4245317</guid>\\n<media:content type=\"image/jpeg\" url=\"http://static1.persgroep.net/volkskrant/image/5321ae09-44c0-43fb-99e3-62c9d023e4d7?width=397&amp;height=289\">\\n<media:thumbnail url=\"http://static1.persgroep.net/volkskrant/image/5321ae09-44c0-43fb-99e3-62c9d023e4d7?width=397&amp;height=289\"></media:thumbnail>\\n</media:content>\\n</item>\\n<item>\\n<title>Canada scherpt visumregels aan voor Europeanen</title>\\n<link/>http://www.volkskrant.nl/buitenland/canada-scherpt-visumregels-aan-voor-europeanen~a4245574/\\r\\n       <description>Canada gaat vanaf 15 maart zijn visumregels verscherpen. Onder meer de vrijstelling voor inwoners uit Europese landen valt weg: voortaan zullen zij zogeheten elektronische reisautorisatie (eTA) moeten aanvragen, vergelijkbaar met het Amerikaanse Esta. De eTA kost 7 Canadese dollar (zo'n 4,50 euro). De eTA is van toepassing op inwoners uit vijftig landen, waaronder Nederland en Belgi\\xeb. Jaarlijks za</description>\\n<pubdate>Tue, 16 Feb 2016 01:51:00 GMT</pubdate>\\n<author>Bewerkt door: Redactie</author>\\n<guid ispermalink=\"false\">4245574</guid>\\n<media:content type=\"image/jpeg\" url=\"http://static0.persgroep.net/volkskrant/image/3681ea11-d3e7-4470-bab6-27faaffa01ff?width=397&amp;height=289\">\\n<media:thumbnail url=\"http://static0.persgroep.net/volkskrant/image/3681ea11-d3e7-4470-bab6-27faaffa01ff?width=397&amp;height=289\"></media:thumbnail>\\n</media:content>\\n</item>\\n<item>\\n<title>Spektakel Champions League gaat verder</title>\\n<link/>http://www.volkskrant.nl/sport/spektakel-champions-league-gaat-verder~a4245323/\\r\\n       <description>De hervatting van de Champions League is spetterend, met vandaag Paris Saint-Germain - Chelsea. Hiddink - Zlatan, de 'oude baas' tegen de 'oude vedette'. Het lekkerst, voor Nederland althans, blijft het langst bewaard bij de hervatting van de Champions League na de winterstop, met de alles of niets wedstrijden. PSV - Atletico Madrid is pas op woensdag 24 februari, de return op 15 maart. Gelukkig i</description>\\n<pubdate>Tue, 16 Feb 2016 01:02:00 GMT</pubdate>\\n<author>Door: Willem Vissers</author>\\n<guid ispermalink=\"false\">4245323</guid>\\n<media:content type=\"image/jpeg\" url=\"http://static1.persgroep.net/volkskrant/image/51b630f1-945a-455b-b0d4-827a8bcf1fd2?width=397&amp;height=289\">\\n<media:thumbnail url=\"http://static1.persgroep.net/volkskrant/image/51b630f1-945a-455b-b0d4-827a8bcf1fd2?width=397&amp;height=289\"></media:thumbnail>\\n</media:content>\\n</item>\\n<item>\\n<title>Terug naar Ethiopi\\xeb, waar er wel waardering is</title>\\n<link/>http://www.volkskrant.nl/economie/terug-naar-ethiopie-waar-er-wel-waardering-is~a4245275/\\r\\n       <description>Maak kennis met de repats in Ethiopi\\xeb: Emebet Dejene en Daniel Truneh. Ethiopie\\xebrs die zijn gevlucht naar Nederland keren terug naar hun geboorteland. Daar worden zij niet met een schuin oog aangekeken en kunnen zij iets voor hun land betekenen. Steeds vaker gaan Nederlandse Ethiopi\\xebrs terug naar hun geboorteland om er een nieuw bestaan op te bouwen. In Ethiopi\\xeb groeit de economie al jaren rond de</description>\\n<pubdate>Tue, 16 Feb 2016 01:00:00 GMT</pubdate>\\n<author>Door: Wim Bossema</author>\\n<guid ispermalink=\"false\">4245275</guid>\\n<media:content type=\"image/jpeg\" url=\"http://static0.persgroep.net/volkskrant/image/be6cc1b1-a6e6-4cd1-a42f-368d13c0b3d3?width=397&amp;height=289\">\\n<media:thumbnail url=\"http://static0.persgroep.net/volkskrant/image/be6cc1b1-a6e6-4cd1-a42f-368d13c0b3d3?width=397&amp;height=289\"></media:thumbnail>\\n</media:content>\\n</item>\\n<item>\\n<title>Waarom gaat de VW-claim via Nederland?</title>\\n<link/>http://www.volkskrant.nl/economie/waarom-gaat-de-vw-claim-via-nederland~a4245372/\\r\\n       <description>Een groot Amerikaans advocatenkantoor gaat de strijd om schadevergoeding voor door VW gedupeerde beleggers aan via Nederland. Waarom? En wie moet het gaan doen? Het is geen toeval dat de Amerikanen voor hun claim tegen VW in Nederland uitkwamen. En ook niet dat ze daarbij op Huub Willems stuitten, legt hij zelf uit.Oud-rechter Huub Willems heeft op verzoek van het Amerikaanse advocatenkantoor BLB&amp;</description>\\n<pubdate>Tue, 16 Feb 2016 01:00:00 GMT</pubdate>\\n<author>Door: Marc van den Eerenbeemt</author>\\n<guid ispermalink=\"false\">4245372</guid>\\n<media:content type=\"image/jpeg\" url=\"http://static0.persgroep.net/volkskrant/image/4a43cdac-3df8-48b6-af50-7602e225ee25?width=397&amp;height=289\">\\n<media:thumbnail url=\"http://static0.persgroep.net/volkskrant/image/4a43cdac-3df8-48b6-af50-7602e225ee25?width=397&amp;height=289\"></media:thumbnail>\\n</media:content>\\n</item>\\n<item>\\n<title>Wordt Deutsche Bank de nieuwe Lehman?</title>\\n<link/>http://www.volkskrant.nl/opinie/wordt-deutsche-bank-de-nieuwe-lehman~a4245345/\\r\\n       <description>Wat de bank House of Morgan voor de oorlog was in de VS, was Deutsche Bank na de oorlog voor (West-)Duitsland en later ook Europa. Het had de macht dankzij de financi\\xeble slagkracht en het enorme netwerk een hele economie naar zijn hand te zetten. De House of Morgan werd in de jaren dertig op last van hogerhand opgesplitst in kleinere onderdelen. Vijftig jaar later verwierf Deutsche Bank de Londens</description>\\n<pubdate>Tue, 16 Feb 2016 01:00:00 GMT</pubdate>\\n<author>Door: Peter de Waard</author>\\n<guid ispermalink=\"false\">4245345</guid>\\n<media:content type=\"image/jpeg\" url=\"http://static1.persgroep.net/volkskrant/image/36c13669-06e3-436a-ab90-cc97ece4e10c?width=397&amp;height=289\">\\n<media:thumbnail url=\"http://static1.persgroep.net/volkskrant/image/36c13669-06e3-436a-ab90-cc97ece4e10c?width=397&amp;height=289\"></media:thumbnail>\\n</media:content>\\n</item>\\n<item>\\n<title>'Als Georgi\\xeb kan veranderen, dan kan Oekra\\xefne dat zeker'</title>\\n<link/>http://www.volkskrant.nl/buitenland/-als-georgie-kan-veranderen-dan-kan-oekraine-dat-zeker~a4245312/\\r\\n       <description>Als gouverneur van Odessa groeide Miche\\xefl Saakasjvili in korte tijd uit tot de populairste politicus van Oekra\\xefne door de corruptie te bestrijden. De oud-president van Georgi\\xeb en aartsvijand van Poetin kan vandaag zelfs premier van het land worden. De gouverneur van de Oekra\\xefense provincie Odessa belt met twee iPhones tegelijk, een zilveren en een gouden. Aan de zilveren iPhone hangt de plaatsverv</description>\\n<pubdate>Tue, 16 Feb 2016 01:00:00 GMT</pubdate>\\n<author>Door: Tom Vennink</author>\\n<guid ispermalink=\"false\">4245312</guid>\\n<media:content type=\"image/jpeg\" url=\"http://static1.persgroep.net/volkskrant/image/63790ac5-3c12-4215-b63c-b72cb7eac56e?width=397&amp;height=289\">\\n<media:thumbnail url=\"http://static1.persgroep.net/volkskrant/image/63790ac5-3c12-4215-b63c-b72cb7eac56e?width=397&amp;height=289\"></media:thumbnail>\\n</media:content>\\n</item>\\n<item>\\n<title>'Meneer D. wordt met de dag een leveltje agressiever'</title>\\n<link/>http://www.volkskrant.nl/opinie/-meneer-d-wordt-met-de-dag-een-leveltje-agressiever~a4245335/\\r\\n       <description>Meneer D. sloeg eind januari zijn interieur weer kort en klein en nu deed hij ook een zelfmoordpoging. De ambulance kreeg politiebegeleiding. Toch was hij een dag later alweer thuis, schreeuwend en huilend om hulp. Meneer D. woont in een appartement in het centrum van Hardenberg. Daar krijgt hij zo'n drie keer per week bezoek van een begeleider, Gerald Schuurman, die eigenlijk is opgeleid als rijw</description>\\n<pubdate>Tue, 16 Feb 2016 01:00:00 GMT</pubdate>\\n<author>Door: Margriet Oostveen</author>\\n<guid ispermalink=\"false\">4245335</guid>\\n<media:content type=\"image/jpeg\" url=\"http://static1.persgroep.net/volkskrant/image/c0770701-e676-4012-8761-0a09277299a2?width=397&amp;height=289\">\\n<media:thumbnail url=\"http://static1.persgroep.net/volkskrant/image/c0770701-e676-4012-8761-0a09277299a2?width=397&amp;height=289\"></media:thumbnail>\\n</media:content>\\n</item>\\n<item>\\n<title>Ik ben geen konijn dat je kunt aaien</title>\\n<link/>http://www.volkskrant.nl/magazine/ik-ben-geen-konijn-dat-je-kunt-aaien~a4245235/\\r\\n       <description>Welke rol speelt afkomst in Nederland? Dat onderzoekt Robert Vuijsje in een reeks interviews. Advocate Samantha Ebecilio: 'De afwijzingen bleven komen, soms wel vijf op een dag.' De broer van Samantha Ebecilio heet Kyle en hij is profvoetballer bij ADO Den Haag. In de meeste families is het uitzonderlijk als een kind profvoetballer wordt. 'Tegen mij zeggen ze allemaal: wow, je bent advocaat, de ee</description>\\n<pubdate>Tue, 16 Feb 2016 01:00:00 GMT</pubdate>\\n<author>Door: Robert Vuijsje</author>\\n<guid ispermalink=\"false\">4245235</guid>\\n<media:content type=\"image/jpeg\" url=\"http://static1.persgroep.net/volkskrant/image/a79288a9-ffc4-40e6-b736-698cba9e6939?width=397&amp;height=289\">\\n<media:thumbnail url=\"http://static1.persgroep.net/volkskrant/image/a79288a9-ffc4-40e6-b736-698cba9e6939?width=397&amp;height=289\"></media:thumbnail>\\n</media:content>\\n</item>\\n<item>\\n<title>Wie zitten er achter de uitvoering van de VW-claim?</title>\\n<link/>http://www.volkskrant.nl/economie/wie-zitten-er-achter-de-uitvoering-van-de-vw-claim~a4245355/\\r\\n       <description>Een groot Amerikaans advocatenkantoor gaat de strijd om schadevergoeding voor door VW gedupeerde beleggers aan via Nederland. Wie moet het gaan doen? Het meest opvallende lid van het A-Team is Huub Willems, voormalig vice-president van het Amsterdamse Gerechtshof. Willems trok met zijn uitspraken in en buiten de rechtbank regelmatig de aandacht. Maar van zijn vonnissen had er niet \\xe9\\xe9n zo vergaande</description>\\n<pubdate>Tue, 16 Feb 2016 01:00:00 GMT</pubdate>\\n<author>Door: Gerard Reijn</author>\\n<guid ispermalink=\"false\">4245355</guid>\\n<media:content type=\"image/jpeg\" url=\"http://static1.persgroep.net/volkskrant/image/ccb65f68-71f2-48fc-879b-546dc4ecbe40?width=397&amp;height=289\">\\n<media:thumbnail url=\"http://static1.persgroep.net/volkskrant/image/ccb65f68-71f2-48fc-879b-546dc4ecbe40?width=397&amp;height=289\"></media:thumbnail>\\n</media:content>\\n</item>\\n</channel>], [<title>VK:Voorpagina</title>, <title>Volkskrant.nl - laatste nieuws, opinie en achtergronden</title>, <title>Nieuwe satelliet moet aan kleuren zeewater zien hoe aarde ervoor staat</title>, <title>'Kritiek Beyonc\\xe9 en Lamar moet een podium krijgen'</title>, <title>Crackpijp werd 'born-again Christian' Vanity alsnog fataal</title>, <title>President: Oekra\\xefense premier heeft steun coalitiepartijen verloren</title>, <title>Sporen van zika-virus gevonden  in brein misvormde baby's</title>, <title>Dick Advocaat gaat technische staf Feyenoord helpen</title>, <title>Techblog -  Reclamefilmpje Galaxy S7 uitgelekt</title>, <title>'Na vijftig jaar gaan er weer Amerikaanse vluchten naar Cuba'</title>, <title>ChristenUnie lokt meerderheid voor NIP-test uit de kast</title>, <title>Treincrash Beieren veroorzaakt door menselijke fout</title>, <title>Handbalster Polman opgenomen met hartklachten</title>, <title>Moeder doodde haar twee kinderen 'in een waan'</title>, <title>Turkije stuurt nu ook aan op grondtroepen in Syri\\xeb</title>, <title>Huppakee, weg!</title>, <title>Geen Tour du Jour dit jaar op RTL</title>, <title>Belangrijk advies aan Hoge Raad: belasting op vermogen moet van tafel</title>, <title>Liveblog - VN veroordelen aanvallen op burgers: 'Mogelijk oorlogsmisdaden'</title>, <title>Sarkozy verhoord over schaduwboekhouding campagne 2012</title>, <title>Verdachten aanslag Bangkok ontkennen schuld</title>, <title>Sportblog - Bokser Pacquaio: homo's zijn erger dan beesten</title>, <title>Zeker zes doden door ingestorte flat na gasexplosie</title>, <title>Ruiten gemeentehuis Westland ingegooid op dag van vergadering asielopvang</title>, <title>Zes jaar cel voor 'studentengluurder' Nijmegen</title>, <title>Tien verdachten opgepakt bij huiszoekingen Belgi\\xeb</title>, <title>Kwaad Prado weigert twee doeken voor expositie Bosch</title>, <title>De Grammy's in vijf momenten: Kendrick Lamar legendarisch en excuses van Adele voor optreden</title>, <title>FC Twente bevestigt: transfer Tadic is omgeven met mysteries</title>, <title>Vodafone en Ziggo gaan samen in Nederland</title>, <title>Belangrijkste Grammy's voor Ed Sheeran en Taylor Swift</title>, <title>Volkswagenclaim in Nederland voor de rechter</title>, <title>EU-parlement waarschuwt voor overhaaste toenadering tot Turkije</title>, <title>Canada scherpt visumregels aan voor Europeanen</title>, <title>Spektakel Champions League gaat verder</title>, <title>Terug naar Ethiopi\\xeb, waar er wel waardering is</title>, <title>Waarom gaat de VW-claim via Nederland?</title>, <title>Wordt Deutsche Bank de nieuwe Lehman?</title>, <title>'Als Georgi\\xeb kan veranderen, dan kan Oekra\\xefne dat zeker'</title>, <title>'Meneer D. wordt met de dag een leveltje agressiever'</title>, <title>Ik ben geen konijn dat je kunt aaien</title>, <title>Wie zitten er achter de uitvoering van de VW-claim?</title>]]\n"
     ]
    },
    {
     "ename": "AttributeError",
     "evalue": "'list' object has no attribute 'keys'",
     "output_type": "error",
     "traceback": [
      "\u001b[0;31m---------------------------------------------------------------------------\u001b[0m",
      "\u001b[0;31mAttributeError\u001b[0m                            Traceback (most recent call last)",
      "\u001b[0;32m<ipython-input-34-2828c8276fae>\u001b[0m in \u001b[0;36m<module>\u001b[0;34m()\u001b[0m\n\u001b[1;32m     44\u001b[0m \u001b[0;32mwith\u001b[0m \u001b[0mopen\u001b[0m\u001b[0;34m(\u001b[0m\u001b[0;34m'eenpuntvijf.csv'\u001b[0m\u001b[0;34m,\u001b[0m \u001b[0;34m'w'\u001b[0m\u001b[0;34m)\u001b[0m \u001b[0;32mas\u001b[0m \u001b[0mcsvfile\u001b[0m\u001b[0;34m:\u001b[0m\u001b[0;34m\u001b[0m\u001b[0m\n\u001b[1;32m     45\u001b[0m     \u001b[0mwriter\u001b[0m \u001b[0;34m=\u001b[0m \u001b[0mcsv\u001b[0m\u001b[0;34m.\u001b[0m\u001b[0mwriter\u001b[0m\u001b[0;34m(\u001b[0m\u001b[0mcsvfile\u001b[0m\u001b[0;34m)\u001b[0m\u001b[0;34m\u001b[0m\u001b[0m\n\u001b[0;32m---> 46\u001b[0;31m     \u001b[0mwriter\u001b[0m\u001b[0;34m.\u001b[0m\u001b[0mwriterow\u001b[0m\u001b[0;34m(\u001b[0m\u001b[0mrssData\u001b[0m\u001b[0;34m.\u001b[0m\u001b[0mkeys\u001b[0m\u001b[0;34m(\u001b[0m\u001b[0;34m)\u001b[0m\u001b[0;34m)\u001b[0m\u001b[0;34m\u001b[0m\u001b[0m\n\u001b[0m\u001b[1;32m     47\u001b[0m     \u001b[0;32mfor\u001b[0m \u001b[0mrow\u001b[0m \u001b[0;32min\u001b[0m \u001b[0mrssData\u001b[0m\u001b[0;34m:\u001b[0m\u001b[0;34m\u001b[0m\u001b[0m\n\u001b[1;32m     48\u001b[0m         \u001b[0mwriter\u001b[0m\u001b[0;34m.\u001b[0m\u001b[0mwriterow\u001b[0m\u001b[0;34m(\u001b[0m\u001b[0mrssData\u001b[0m\u001b[0;34m.\u001b[0m\u001b[0mvalues\u001b[0m\u001b[0;34m(\u001b[0m\u001b[0;34m)\u001b[0m\u001b[0;34m)\u001b[0m\u001b[0;34m\u001b[0m\u001b[0m\n",
      "\u001b[0;31mAttributeError\u001b[0m: 'list' object has no attribute 'keys'"
     ]
    }
   ],
   "source": [
    "from collections import Counter\n",
    "import csv\n",
    "\n",
    "#Maak een lijst met alle urls van de RSSfeed van de volkskrant\n",
    "feeds = [link.get('href') for link in rsssoup.findAll(href=re.compile(\"\\.xml$\"))]\n",
    "\n",
    "rssData = []\n",
    "tags = [\"channel\", \"url\", \"title\", \"date\"]\n",
    "# Loop door de RSS feed links en sla de xml lokaal op\n",
    "for link in feeds:\n",
    "    response=opener.open(link)\n",
    "    xml_doc= ' '.join(response.readlines())\n",
    "    xmlsoup = BeautifulSoup(xml_doc, \"lxml\")\n",
    "    name = xmlsoup.title.string+'.html'\n",
    "    #with open(name, 'w') as f:\n",
    "        #f.write(xmlsoup.encode())\n",
    "    #f.close()\n",
    "    # Maak een dictionary met keys: channel, url, title en date aan per link in de feed\n",
    "    # Dict comprehension voor 1.3\n",
    "    rssData.append({tag: xmlsoup.find_all(tag) for tag in tags})\n",
    "\n",
    "\n",
    "# 1.4\n",
    "# Channel is een CSS tag: <channel>. Komt een keer voor per feed vandaar.\n",
    "# a. Lijst met het aantal berichten per RSS feed\n",
    "lenItemsPerFeed = [len(channel.find_all('item')) for channel in [feed['channel'][0] for feed in rssData]]\n",
    "print \"a:\", lenItemsPerFeed\n",
    "# b. Amount of items per feed\n",
    "print \"b:\", sum(lenItemsPerFeed)\n",
    "# c. Average amount of items\n",
    "print \"c:\", sum(lenItemsPerFeed)/len(lenItemsPerFeed)\n",
    "# d. Zijn er dubbels?\n",
    "itemsPerFeed = [channel.find_all('item') for channel in [feed['channel'][0] for feed in rssData]]\n",
    "# Maak 1 lijst met alle items\n",
    "items = list(chain.from_iterable(itemsPerFeed))\n",
    "# Geeft lijst met een count van items die meer dan een keer voorkomen en len geeft het aantal items weer die dubbel voorkomen\n",
    "# http://stackoverflow.com/questions/9835762/find-and-list-duplicates-in-python-list\n",
    "# Hieronder is gecomment door lange wachttijd\n",
    "print \"d:\", len([count for item, count in Counter(items).items() if count > 1])\n",
    "\n",
    "# 1.5\n",
    "\n",
    "with open('eenpuntvijf.csv', 'w') as csvfile:\n",
    "    writer = csv.writer(csvfile)\n",
    "    writer.writerow(rssData.keys())\n",
    "    for row in rssData:\n",
    "        writer.writerow(rssData.values())\n"
   ]
  },
  {
   "cell_type": "markdown",
   "metadata": {
    "slideshow": {
     "slide_type": "slide"
    }
   },
   "source": [
    "### JSON parsing\n",
    "\n",
    "1. Download <http://maartenmarx.nl/teaching/ISatWork/NoteBooks/consuming-json-data-from-a-web-service.ipynb>, remove all code blocks, and turn it into a notebook again. \n",
    "2. Check that what you did is correct and you did not remove too much using a notebook viewer.\n",
    "3. Now extract all code from the downloaded notebook, save it to a file, and execute it as a Python script. Does it give errors? Is it syntactically correct?"
   ]
  },
  {
   "cell_type": "code",
   "execution_count": 16,
   "metadata": {
    "collapsed": false
   },
   "outputs": [],
   "source": [
    "#import notebook\n",
    "url = \"http://maartenmarx.nl/teaching/ISatWork/NoteBooks/consuming-json-data-from-a-web-service.ipynb\"\n",
    "jsonfile= urllib2.urlopen(url)\n",
    "jsonfile = jsonfile.read()  # The jsonfile as a Python string\n",
    "json_as_python_object = json.loads(jsonfile) # The josnfile transformed into a Python dict\n",
    "cells = json_as_python_object['worksheets'][0]['cells']\n",
    "codeblocks = [cell['input'] for cell in cells if str(cell['cell_type']) == 'code']\n",
    "f = open(\"output.py\", \"w\")\n",
    "for x in codeblocks:\n",
    "    for y in x:\n",
    "      f.write(str(y))\n",
    "    f.write(\"\\n\")\n",
    "f.close()"
   ]
  },
  {
   "cell_type": "markdown",
   "metadata": {
    "slideshow": {
     "slide_type": "slide"
    }
   },
   "source": [
    "### PDF parsing\n",
    "\n",
    "1. Save a wordfile as PDF, open it in Python, extract all text. Describe the differences, if any. Try the same with a two column PDF file from the web. This exercise gets more interesting if you use _difficult_ PDF. Why not try <http://wch.github.io/latexsheet/latexsheet.pdf>?\n",
    "\n",
    "* Is the word order still as it should be?\n",
    "* What about the strange characters?"
   ]
  },
  {
   "cell_type": "code",
   "execution_count": 22,
   "metadata": {
    "collapsed": false
   },
   "outputs": [
    {
     "name": "stdout",
     "output_type": "stream",
     "text": [
      "  % Total    % Received % Xferd  Average Speed   Time    Time     Time  Current\n",
      "                                 Dload  Upload   Total   Spent    Left  Speed\n",
      "100  292k  100  292k    0     0   480k      0 --:--:-- --:--:-- --:--:--  504k\n"
     ]
    }
   ],
   "source": [
    "!curl http://wch.github.io/latexsheet/latexsheet.pdf > latex.pdf; pdftotext  latex.pdf\n",
    "!pdftotext latex.pdf"
   ]
  },
  {
   "cell_type": "code",
   "execution_count": 23,
   "metadata": {
    "collapsed": false
   },
   "outputs": [
    {
     "name": "stdout",
     "output_type": "stream",
     "text": [
      "  % Total    % Received % Xferd  Average Speed   Time    Time     Time  Current\n",
      "                                 Dload  Upload   Total   Spent    Left  Speed\n",
      "100  480k  100  480k    0     0  1064k      0 --:--:-- --:--:-- --:--:-- 1146k\n"
     ]
    }
   ],
   "source": [
    "!curl http://www.koopman-assurantien.nl/images1/%28118%29%2008.08.pdf > koopman.pdf; pdftotext koopman.pdf\n",
    "!pdftotext koopman.pdf"
   ]
  },
  {
   "cell_type": "markdown",
   "metadata": {
    "slideshow": {
     "slide_type": "slide"
    }
   },
   "source": [
    "# Part 2 Python recap\n",
    "\n",
    "Download [PythonRecap2.0.ipynb](PythonRecap2.0.ipynb),  and answer all questions as asked."
   ]
  }
 ],
 "metadata": {
  "celltoolbar": "Slideshow",
  "kernelspec": {
   "display_name": "Python 2",
   "language": "python",
   "name": "python2"
  },
  "language_info": {
   "codemirror_mode": {
    "name": "ipython",
    "version": 2
   },
   "file_extension": ".py",
   "mimetype": "text/x-python",
   "name": "python",
   "nbconvert_exporter": "python",
   "pygments_lexer": "ipython2",
   "version": "2.7.11"
  }
 },
 "nbformat": 4,
 "nbformat_minor": 0
}
