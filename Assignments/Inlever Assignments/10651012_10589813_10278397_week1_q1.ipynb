{
 "cells": [
  {
   "cell_type": "markdown",
   "metadata": {
    "slideshow": {
     "slide_type": "slide"
    }
   },
   "source": [
    "# Assignment1\n",
    "\n",
    "## Notebook made by  \n",
    "\n",
    "|** Name** | **Student id** | **email**|\n",
    "|:- |:-|:-|\n",
    "|Dylan Wijman |10651012|dylanwijman@hotmail.com|\n",
    "|Eline Steensma|10589813|elinesteensma@gmail.com|\n",
    "|Sjoerd Paardekooper|10278397|sjoerd.paardekooper@gmail.com|\n",
    "\n",
    "\n",
    "### Pledge (taken from [Coursera's Honor Code](https://www.coursera.org/about/terms/honorcode) )\n",
    "\n",
    "\n",
    "\n",
    "Put here a selfie with your photo where you hold a signed paper with the following text: (if this is team work, put two selfies here). The link must be to some place on the web, not to a local file. \n",
    "\n",
    "> My answers to homework, quizzes and exams will be my own work (except for assignments that explicitly permit collaboration).\n",
    "\n",
    ">I will not make solutions to homework, quizzes or exams available to anyone else. This includes both solutions written by me, as well as any official solutions provided by the course staff.\n",
    "\n",
    ">I will not engage in any other activities that will dishonestly improve my results or dishonestly improve/hurt the results of others.\n",
    "\n",
    "<img src='https://github.com/dylanwijman/data-science/blob/master/pledge.jpg?raw=true'/>\n",
    "\n",
    "### Note\n",
    "* **Assignments without the selfies or completely filled in information will not be graded and receive 0 points.**\n"
   ]
  },
  {
   "cell_type": "markdown",
   "metadata": {
    "slideshow": {
     "slide_type": "slide"
    }
   },
   "source": [
    "# Q1 (Monty Hall problem)\n",
    "\n",
    "This is the part you hand in from the [warm up notebook](MontyHall.ipynb).\n",
    "\n",
    "##  This counts for your mark\n",
    "\n",
    "Generalize your simulation code to handle the case of `n` doors.\n",
    "\n",
    "\n",
    "This sentence can be read in two ways, giving very different outcomes! You must program both, and understand that it all makes sense.\n",
    "\n",
    "\n",
    "### Your work\n",
    "For both interpretations, give a plot with the number of doors on the x-axis and the win_percentage on the y-axis, and plot that value for the two strategies for numbers of doors between 3 and 20. \n",
    "\n",
    "Describe briefly what is going on here, and why the plots makes sense.\n",
    "\n",
    "\n",
    "### Interpretation  1\n",
    "* There are _n_ doors.\n",
    "* You have chosen one door.\n",
    "* The host opens one door as before (it is not the door you have chosen and not a door with the prize)\n",
    "* Now you switch or not."
   ]
  },
  {
   "cell_type": "code",
   "execution_count": 19,
   "metadata": {
    "collapsed": false,
    "slideshow": {
     "slide_type": "slide"
    }
   },
   "outputs": [
    {
     "name": "stdout",
     "output_type": "stream",
     "text": [
      "guesses =  [1 0 1 ..., 1 1 2] <type 'numpy.ndarray'>\n",
      "prizedoors =  [0 0 2 ..., 1 0 1] <type 'numpy.ndarray'>\n",
      "goatdoor =  [2 1 0 ..., 0 2 0] <type 'numpy.ndarray'>\n",
      "switched_guess =  [0 2 2 ..., 2 0 1] <type 'numpy.ndarray'>\n",
      "If the contestant does not switch doors the win percentage is 32.74 %\n",
      "If the contestant switches doors the win percentage is 67.26 %\n",
      "The contestant should switch doors\n"
     ]
    }
   ],
   "source": [
    "import random\n",
    "import numpy as np\n",
    "    \n",
    "def simulate_prizedoor(nsim):\n",
    "    answer = np.array([random.randint(0,2) for i in range (nsim)])\n",
    "    return answer\n",
    "    \n",
    "def simulate_guess(nsim):\n",
    "    guesses = np.array([random.randint(0,2) for guess in range (nsim)])\n",
    "    return guesses\n",
    "\n",
    "    \n",
    "def goat_door(prizedoors, guesses):\n",
    "    fh = []\n",
    "    for simulation in range(len(prizedoors)):\n",
    "        sett = {0,1,2}\n",
    "        deuren = sett - {prizedoors[simulation] , guesses[simulation]}\n",
    "        goat = random.sample(deuren, 1)\n",
    "        fh.append(goat[0])\n",
    "    goatdoors = np.array(fh)\n",
    "    return goatdoors\n",
    "    \n",
    "    goat_door(np.array([0, 1, 2]), np.array([1, 1, 1]))\n",
    "\n",
    "def switch_guess(goatdoor, guesses):\n",
    "        lastdoors = []\n",
    "        goatdoor = np.array(goatdoor).tolist()\n",
    "        guesses = np.array(guesses).tolist()\n",
    "        for simulation in range(len(guesses)):\n",
    "            options = {0,1,2}\n",
    "            option_doors = options - {goatdoor[simulation], guesses[simulation]}\n",
    "            door = random.sample(option_doors, 1)\n",
    "            lastdoors.append(door[0])\n",
    "        the_door = np.array(lastdoors)\n",
    "        return the_door\n",
    "\n",
    "def win_percentage(guesses, prizedoors):\n",
    "    win_perc = (prizedoors == guesses).mean() * 100\n",
    "    return win_perc\n",
    "\n",
    "\n",
    "n_sim = 10000\n",
    "guesses = simulate_guess(n_sim)\n",
    "print \"guesses = \", guesses, type(guesses)\n",
    "prizedoors = simulate_prizedoor(n_sim)\n",
    "print \"prizedoors = \", prizedoors, type(prizedoors)\n",
    "goatdoor = goat_door(prizedoors, guesses)\n",
    "print \"goatdoor = \", goatdoor, type(goatdoor)\n",
    "switched_guess = switch_guess(goatdoor, guesses)\n",
    "print \"switched_guess = \", switched_guess, type(switched_guess)\n",
    "\n",
    "print \"If the contestant does not switch doors the win percentage is\", win_percentage(guesses, prizedoors), \"%\"\n",
    "print \"If the contestant switches doors the win percentage is\", win_percentage(switched_guess, prizedoors), \"%\"\n",
    "\n",
    "if win_percentage(guesses, prizedoors) > win_percentage(switched_guess, prizedoors):\n",
    "    print \"The contestant should not switch doors\"\n",
    "else:\n",
    "    print \"The contestant should switch doors\"\n"
   ]
  },
  {
   "cell_type": "markdown",
   "metadata": {
    "slideshow": {
     "slide_type": "slide"
    }
   },
   "source": [
    "# Interpretation 2\n",
    "* There are _n_ doors.\n",
    "* You have chosen one door.\n",
    "* The host opens _all except two doors_, namely your door, and a random other door.  Behind none of the opened doors lies the prize."
   ]
  },
  {
   "cell_type": "code",
   "execution_count": 20,
   "metadata": {
    "collapsed": false,
    "scrolled": false,
    "slideshow": {
     "slide_type": "slide"
    }
   },
   "outputs": [
    {
     "name": "stdout",
     "output_type": "stream",
     "text": [
      "simulate_prizedoor(nsim = 1000, n = 30)= [0 5 5 0 7 6 1 9 9 1 7 7 0 7 0]\n",
      "simulate_guess(nsim = 1000, n = 30)= [8 5 2 5 9 2 4 8 6 7 3 7 5 1 5]\n",
      "simulate_switch(simulate_prizedoor(nsim = 10, n), simulate_guess(10, n), n) = [4 3 6 9 2 8 3 9 2 4 6 9 1 5 0]\n",
      "If the contestant does not switch doors the win percentage is 10.3 %\n",
      "If the contestant switches doors the win percentage is 10.9 %\n",
      "The contestant should switch doors\n",
      "*** PLOT Intepr 1 ***\n"
     ]
    },
    {
     "data": {
      "text/plain": [
       "<matplotlib.text.Text at 0xaa6e588>"
      ]
     },
     "execution_count": 20,
     "metadata": {},
     "output_type": "execute_result"
    },
    {
     "data": {
      "image/png": "[encoded data removed]",
      "text/plain": [
       "<matplotlib.figure.Figure at 0xa5362e8>"
      ]
     },
     "metadata": {},
     "output_type": "display_data"
    }
   ],
   "source": [
    "import random\n",
    "import numpy as np\n",
    "\n",
    "import matplotlib.pyplot as plt\n",
    "%matplotlib inline\n",
    "\n",
    "nsim = 1000 # aantal simulaties\n",
    "n = 10 # Aantal deuren\n",
    "\n",
    "\n",
    "def simulate_prizedoor(nsim, n):\n",
    "    return np.random.randint(n, size=nsim)\n",
    "\n",
    "prizedoors = simulate_prizedoor(nsim, n)\n",
    "print \"simulate_prizedoor(nsim = 1000, n = 30)=\", prizedoors[:15]\n",
    "    \n",
    "    \n",
    "def simulate_guess(nsim, n):\n",
    "    return np.random.randint(n, size=nsim)\n",
    "\n",
    "guesses = simulate_guess(nsim, n)\n",
    "print \"simulate_guess(nsim = 1000, n = 30)=\", guesses[:15]\n",
    "\n",
    "\n",
    "def simulate_switch(prizedoor, guess, n):\n",
    "    switched_list = []\n",
    "    for sim in range(prizedoor.shape[0]):\n",
    "        # Nieuw gekozen deur is een deur waar de prijs niet achter zit\n",
    "        if prizedoor[sim] == guess[sim]:\n",
    "            numbers = range(0,int(prizedoor[sim])) + range(int(prizedoor[sim]),int(n))\n",
    "            switched_list.append(random.choice(numbers))\n",
    "        # Niew gekozen deur is de deur waar wel de prijs achter zit            \n",
    "        else:\n",
    "            switched_list.append(prizedoor[sim])\n",
    "    return np.array(switched_list)\n",
    "            \n",
    "            \n",
    "\n",
    "print \"simulate_switch(simulate_prizedoor(nsim = 10, n), simulate_guess(10, n), n) =\", simulate_switch(simulate_prizedoor(nsim, n), simulate_guess(nsim, n), n)[:15]\n",
    "\n",
    "\n",
    "def win_percentage(guesses, prizedoors):\n",
    "    win = float(0)\n",
    "    for sim in range(len(guesses)):\n",
    "        if guesses[sim] == prizedoors[sim]:\n",
    "            win += 1\n",
    "    win_perc = (win / len(guesses)) * 100\n",
    "    return win_perc\n",
    "\n",
    "def win_array(x):\n",
    "    return int(win_percentage(simulate_switch(simulate_prizedoor(nsim, x), simulate_guess(nsim, x), x), simulate_prizedoor(nsim,x)))\n",
    "\n",
    "\n",
    "print \"If the contestant does not switch doors the win percentage is\", win_percentage(simulate_guess(nsim, n), simulate_prizedoor(nsim,n)), \"%\"\n",
    "print \"If the contestant switches doors the win percentage is\", win_percentage(simulate_switch(simulate_prizedoor(nsim, n), simulate_guess(nsim, n), n), simulate_prizedoor(nsim,n)), \"%\"\n",
    "\n",
    "if win_percentage(simulate_guess(nsim, n), simulate_prizedoor(nsim,n)) >  win_percentage(simulate_switch(simulate_prizedoor(nsim, n), simulate_guess(nsim, n), n), simulate_prizedoor(nsim,n)):\n",
    "    print \"The contestant should not switch doors\"\n",
    "else:\n",
    "    print \"The contestant should switch doors\"\n",
    "\n",
    "print \"*** PLOT Intepr 1 ***\"\n",
    "\n",
    "\n",
    "x = np.linspace(3, 20, 18)\n",
    "y = [win_percentage(simulate_switch(simulate_prizedoor(nsim, i), simulate_guess(nsim, i), i), simulate_prizedoor(nsim,i)) for i in x]\n",
    "plt.plot(x, y)\n",
    "\n",
    "plt.xlabel(\"X axis\")\n",
    "plt.ylabel(\"Y axis\") \n"
   ]
  },
  {
   "cell_type": "markdown",
   "metadata": {
    "slideshow": {
     "slide_type": "slide"
    }
   },
   "source": [
    "# Uitleg \n",
    "\n",
    "* hier komt jullie uitleg"
   ]
  },
  {
   "cell_type": "markdown",
   "metadata": {
    "slideshow": {
     "slide_type": "slide"
    }
   },
   "source": [
    "# Q2 Notebook assignment\n",
    "\n",
    "\n",
    "### [Go to the lecture slides here](https://github.com/dylanwijman/data-science/blob/master/Assignments/Inlever%20Assignments/10651012_10589813_10278397_week1_q2.ipynb)\n",
    "\n",
    "\n",
    "[https://github.com/dylanwijman/data-science/blob/master/Assignments/Inlever%20Assignments/10651012_10589813_10278397_week1_q2.ipynb](https://github.com/dylanwijman/data-science/blob/master/Assignments/Inlever%20Assignments/10651012_10589813_10278397_week1_q2.ipynb)"
   ]
  },
  {
   "cell_type": "code",
   "execution_count": null,
   "metadata": {
    "collapsed": true
   },
   "outputs": [],
   "source": [
    "\n"
   ]
  }
 ],
 "metadata": {
  "celltoolbar": "Slideshow",
  "kernelspec": {
   "display_name": "Python 2",
   "language": "python",
   "name": "python2"
  },
  "language_info": {
   "codemirror_mode": {
    "name": "ipython",
    "version": 2
   },
   "file_extension": ".py",
   "mimetype": "text/x-python",
   "name": "python",
   "nbconvert_exporter": "python",
   "pygments_lexer": "ipython2",
   "version": "2.7.11"
  }
 },
 "nbformat": 4,
 "nbformat_minor": 0
}
