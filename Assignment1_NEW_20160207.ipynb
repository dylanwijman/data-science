{
 "cells": [
  {
   "cell_type": "markdown",
   "metadata": {
    "slideshow": {
     "slide_type": "slide"
    }
   },
   "source": [
    "# Assignment1\n",
    "\n",
    "## Notebook made by  \n",
    "\n",
    "|** Name** | **Student id** | **email**|\n",
    "|:- |:-|:-|\n",
    "|Dylan Wijman |10651012|dylanwijman@hotmail.com|\n",
    "|Eline Steensma|10589813|elinesteensma@gmail.com|\n",
    "|Sjoerd Paardekooper|10278397|sjoerd.paardekooper@gmail.com|\n",
    "\n",
    "\n",
    "### Pledge (taken from [Coursera's Honor Code](https://www.coursera.org/about/terms/honorcode) )\n",
    "\n",
    "\n",
    "\n",
    "Put here a selfie with your photo where you hold a signed paper with the following text: (if this is team work, put two selfies here). The link must be to some place on the web, not to a local file. \n",
    "\n",
    "> My answers to homework, quizzes and exams will be my own work (except for assignments that explicitly permit collaboration).\n",
    "\n",
    ">I will not make solutions to homework, quizzes or exams available to anyone else. This includes both solutions written by me, as well as any official solutions provided by the course staff.\n",
    "\n",
    ">I will not engage in any other activities that will dishonestly improve my results or dishonestly improve/hurt the results of others.\n",
    "\n",
    "<img src='https://github.com/dylanwijman/data-science/blob/master/pledge.jpg?raw=true'/>\n",
    "\n",
    "### Note\n",
    "* **Assignments without the selfies or completely filled in information will not be graded and receive 0 points.**\n"
   ]
  },
  {
   "cell_type": "markdown",
   "metadata": {
    "slideshow": {
     "slide_type": "slide"
    }
   },
   "source": [
    "# Q1 (Monty Hall problem)\n",
    "\n",
    "This is the part you hand in from the [warm up notebook](MontyHall.ipynb).\n",
    "\n",
    "##  This counts for your mark\n",
    "\n",
    "Generalize your simulation code to handle the case of `n` doors.\n",
    "\n",
    "\n",
    "This sentence can be read in two ways, giving very different outcomes! You must program both, and understand that it all makes sense.\n",
    "\n",
    "\n",
    "### Your work\n",
    "For both interpretations, give a plot with the number of doors on the x-axis and the win_percentage on the y-axis, and plot that value for the two strategies for numbers of doors between 3 and 20. \n",
    "\n",
    "Describe briefly what is going on here, and why the plots makes sense.\n",
    "\n",
    "\n",
    "### Interpretation  1\n",
    "* There are _n_ doors.\n",
    "* You have chosen one door.\n",
    "* The host opens one door as before (it is not the door you have chosen and not a door with the prize)\n",
    "* Now you switch or not."
   ]
  },
  {
   "cell_type": "code",
   "execution_count": 34,
   "metadata": {
    "collapsed": false,
    "slideshow": {
     "slide_type": "slide"
    }
   },
   "outputs": [
    {
     "name": "stdout",
     "output_type": "stream",
     "text": [
      "33.3333333333\n",
      "If the contestant does not switch doors the win percentage is 0.0\n",
      "If the contestant switches doors the win percentage is 0.01\n"
     ]
    }
   ],
   "source": [
    "import random\n",
    "import numpy as np\n",
    "    \n",
    "def simulate_prizedoor(nsim):\n",
    "    answer = [random.randint(0,2) for i in range (nsim)]\n",
    "    return answer\n",
    "    \n",
    "def simulate_guess(nsim):\n",
    "    guesses = [random.randint(0,2) for guess in range (nsim)]\n",
    "    return guesses\n",
    "\n",
    "    \n",
    "def goat_door(prizedoors, guesses):\n",
    "    fh = []\n",
    "    for simulation in range(len(prizedoors)):\n",
    "        sett = {0,1,2}\n",
    "        deuren = sett - {prizedoors[simulation] , guesses[simulation]}\n",
    "        goat = random.sample(deuren, 1)\n",
    "        fh.append(goat[0])\n",
    "    goatdoors = np.array(fh)\n",
    "    return goatdoors\n",
    "    \n",
    "    goat_door(np.array([0, 1, 2]), np.array([1, 1, 1]))\n",
    "\n",
    "    \n",
    "    doors = []\n",
    "    for simulation in range (len(prizedoors)):\n",
    "        if doors.append(door):\n",
    "            print goat_door(np.array([0, 1, 2]), np.array([1, 1, 1]))\n",
    "\n",
    "\"\"\"\n",
    "Function\n",
    "--------\n",
    "switch_guess\n",
    "\n",
    "The strategy that always switches a guess after the goat door is opened\n",
    "\n",
    "Parameters\n",
    "----------\n",
    "guesses : array\n",
    "     Array of original guesses, for each simulation\n",
    "goatdoors : array\n",
    "     Array of revealed goat doors for each simulation\n",
    "\n",
    "Returns\n",
    "-------\n",
    "The new door after switching. Should be different from both guesses and goatdoors\n",
    "\n",
    "Examples\n",
    "--------\n",
    ">>> print switch_guess(np.array([0, 1, 2]), np.array([1, 2, 1]))\n",
    ">>> array([2, 0, 0])\n",
    "\"\"\"\n",
    "\n",
    "def switch_guess(goatdoor, guesses):\n",
    "        lastdoors = []\n",
    "        goatdoor = np.array(goatdoor).tolist()\n",
    "        guesses = np.array(guesses).tolist()\n",
    "        for simulation in range(len(guesses)):\n",
    "            options = {0,1,2}\n",
    "            option_doors = options - {goatdoor[simulation], guesses[simulation]}\n",
    "            door = random.sample(option_doors, 1)\n",
    "            lastdoors.append(door[0])\n",
    "        the_door = np.array(lastdoors)\n",
    "        return the_door\n",
    "    \n",
    "switch_guess(np.array([0, 1, 2]), np.array([1, 2, 1]))\n",
    "\n",
    "\"\"\"\n",
    "Function\n",
    "--------\n",
    "win_percentage\n",
    "\n",
    "Calculate the percent of times that a simulation of guesses is correct\n",
    "\n",
    "Parameters\n",
    "-----------\n",
    "guesses : array\n",
    "    Guesses for each simulation\n",
    "prizedoors : array\n",
    "    Location of prize for each simulation\n",
    "\n",
    "Returns\n",
    "--------\n",
    "percentage : number between 0 and 100\n",
    "    The win percentage\n",
    "\n",
    "Examples\n",
    "---------\n",
    ">>> print win_percentage(np.array([0, 1, 2]), np.array([0, 0, 0]))\n",
    "33.333\n",
    "\"\"\"\n",
    "\n",
    "def win_percentage(guesses, prizedoors):\n",
    "    win = 0.0\n",
    "    for sim in range(len(guesses)):\n",
    "        if guesses[sim] == prizedoors[sim]:\n",
    "            win += 1\n",
    "        win_perc = (win / len(guesses)) * 100\n",
    "        return win_perc\n",
    "    \n",
    "print win_percentage(np.array([0, 1, 2]), np.array([0, 0, 0]))\n",
    "\n",
    "\"\"\"\n",
    "Now, put it together. Simulate 10000 games where contestant keeps his original guess,\n",
    "and 10000 games where the contestant switches his door after a goat door is revealed.\n",
    "Compute the percentage of time the contestant wins under either strategy. Is one strategy better than the other?\n",
    "\"\"\"\n",
    "n_sim = 10000\n",
    "\n",
    "guesses = simulate_guess(n_sim)\n",
    "prizedoors = simulate_prizedoor(n_sim)\n",
    "goatdoor = goat_door(prizedoors, guesses)\n",
    "\n",
    "switched_guess = switch_guess(goatdoor, guesses)\n",
    "\n",
    "print \"If the contestant does not switch doors the win percentage is\", win_percentage(guesses, prizedoors)\n",
    "print \"If the contestant switches doors the win percentage is\", win_percentage(switched_guess, prizedoors)\n"
   ]
  },
  {
   "cell_type": "markdown",
   "metadata": {
    "slideshow": {
     "slide_type": "slide"
    }
   },
   "source": [
    "### Interpretation 2\n",
    "* There are _n_ doors.\n",
    "* You have chosen one door.\n",
    "* The host opens _all except two doors_, namely your door, and a random other door.  Behind none of the opened doors lies the prize."
   ]
  },
  {
   "cell_type": "code",
   "execution_count": null,
   "metadata": {
    "collapsed": true,
    "slideshow": {
     "slide_type": "slide"
    }
   },
   "outputs": [],
   "source": [
    "# your code here"
   ]
  },
  {
   "cell_type": "markdown",
   "metadata": {
    "slideshow": {
     "slide_type": "slide"
    }
   },
   "source": [
    "# Uitleg \n",
    "\n",
    "* hier komt jullie uitleg"
   ]
  },
  {
   "cell_type": "markdown",
   "metadata": {
    "slideshow": {
     "slide_type": "slide"
    }
   },
   "source": [
    "# Q2 Notebook assignment\n",
    "\n",
    "See [Getting familiar with the notebook](../../LectureNotes/lecture_notes_week1.html#ass)\n",
    "\n",
    "Put your lecture as a slideshow here. "
   ]
  }
 ],
 "metadata": {
  "celltoolbar": "Slideshow",
  "kernelspec": {
   "display_name": "Python 2",
   "language": "python",
   "name": "python2"
  },
  "language_info": {
   "codemirror_mode": {
    "name": "ipython",
    "version": 2
   },
   "file_extension": ".py",
   "mimetype": "text/x-python",
   "name": "python",
   "nbconvert_exporter": "python",
   "pygments_lexer": "ipython2",
   "version": "2.7.11"
  }
 },
 "nbformat": 4,
 "nbformat_minor": 0
}
