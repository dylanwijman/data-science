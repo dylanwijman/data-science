








<!DOCTYPE html>
<html lang="en">

<head>
  <meta charset="utf-8">
  <title>Jupyter Notebook Viewer</title>
  <meta name="viewport" content="width=device-width, initial-scale=1.0">
  <meta name="description" content="">
  <meta name="author" content="">
  
  <meta name="robots" content="noindex,nofollow">
  

  <!--NEW RELIC Start Perf Measurement-->
  
  <!--NREND-->

  <!-- Le styles -->
  <script type="text/javascript">
//<![CDATA[
try{if (!window.CloudFlare) {var CloudFlare=[{verbose:0,p:0,byc:0,owlid:"cf",bag2:1,mirage2:0,oracle:0,paths:{cloudflare:"/cdn-cgi/nexp/dok3v=1613a3a185/"},atok:"96eac07c23d7fe102c3b16084e7e6348",petok:"e978da001d4dad000278253335aed056d9a371e4-1454596813-1800",zone:"jupyter.org",rocket:"0",apps:{"ga_key":{"ua":"UA-52617120-5","ga_bs":"2"}},sha2test:0}];!function(a,b){a=document.createElement("script"),b=document.getElementsByTagName("script")[0],a.async=!0,a.src="//ajax.cloudflare.com/cdn-cgi/nexp/dok3v=38857570ac/cloudflare.min.js",b.parentNode.insertBefore(a,b)}()}}catch(e){};
//]]>
</script>
<link href="/static/build/styles.css" rel="stylesheet">

  <!-- Le HTML5 shim, for IE6-8 support of HTML5 elements -->
  <!--[if lt IE 9]>
    <script src="http://html5shim.googlecode.com/svn/trunk/html5.js"></script>
  <![endif]-->

  <!-- Le fav and touch icons -->
  <link rel="shortcut icon" href="/static/ico/ipynb_icon_16x16.png">
  <link rel="apple-touch-icon-precomposed" sizes="144x144"
        href="/static/ico/apple-touch-icon-144-precomposed.png">
  <link rel="apple-touch-icon-precomposed" sizes="114x114"
        href="/static/ico/apple-touch-icon-114-precomposed.png">
  <link rel="apple-touch-icon-precomposed" sizes="72x72"
        href="/static/ico/apple-touch-icon-72-precomposed.png">
  <link rel="apple-touch-icon-precomposed"
        href="/static/ico/apple-touch-icon-57-precomposed.png">
  
  

  

  
  <meta name="twitter:card" content="summary">
  <meta name="twitter:title" content="Notebook on nbviewer">
  <meta name="twitter:description" content="Check out this Jupyter notebook!">

  
  <meta name="twitter:domain" content="nbviewer.ipython.org">
  <meta name="twitter:image:src" content="http://ipython.org/ipython-doc/dev/_images/ipynb_icon_128x128.png">

  
    <link href="/static/build/notebook.css" rel="stylesheet">
  

  

  
    <script src="https://cdn.mathjax.org/mathjax/latest/MathJax.js?config=TeX-AMS_HTML" type="text/javascript">
    </script>
    <script type="text/javascript">
      init_mathjax = function() {
        if (window.MathJax) {
          // MathJax loaded
          MathJax.Hub.Config({
            TeX: {
              equationNumbers: {
                autoNumber: "AMS",
                useLabelIds: true
              }
            },
            tex2jax: {
              inlineMath: [ ['$','$'], ["\\(","\\)"] ],
              displayMath: [ ['$$','$$'], ["\\[","\\]"] ],
              processEscapes: true,
              processEnvironments: true
            },
            displayAlign: 'center',
            "HTML-CSS": {
              styles: {'.MathJax_Display': {"margin": 0}},
              linebreaks: { automatic: true }
            }
          });
          MathJax.Hub.Queue(["Typeset", MathJax.Hub]);
        }
      }
      init_mathjax();
    </script>
  

<script type="text/javascript">
/* <![CDATA[ */
var _gaq = _gaq || [];
_gaq.push(['_setAccount', 'UA-52617120-5']);
_gaq.push(['_trackPageview']);

(function() {
var ga = document.createElement('script'); ga.type = 'text/javascript'; ga.async = true;
ga.src = ('https:' == document.location.protocol ? 'https://ssl' : 'http://www') + '.google-analytics.com/ga.js';
var s = document.getElementsByTagName('script')[0]; s.parentNode.insertBefore(ga, s);
})();

(function(b){(function(a){"__CF"in b&&"DJS"in b.__CF?b.__CF.DJS.push(a):"addEventListener"in b?b.addEventListener("load",a,!1):b.attachEvent("onload",a)})(function(){"FB"in b&&"Event"in FB&&"subscribe"in FB.Event&&(FB.Event.subscribe("edge.create",function(a){_gaq.push(["_trackSocial","facebook","like",a])}),FB.Event.subscribe("edge.remove",function(a){_gaq.push(["_trackSocial","facebook","unlike",a])}),FB.Event.subscribe("message.send",function(a){_gaq.push(["_trackSocial","facebook","send",a])}));"twttr"in b&&"events"in twttr&&"bind"in twttr.events&&twttr.events.bind("tweet",function(a){if(a){var b;if(a.target&&a.target.nodeName=="IFRAME")a:{if(a=a.target.src){a=a.split("#")[0].match(/[^?=&]+=([^&]*)?/g);b=0;for(var c;c=a[b];++b)if(c.indexOf("url")===0){b=unescape(c.split("=")[1]);break a}}b=void 0}_gaq.push(["_trackSocial","twitter","tweet",b])}})})})(window);
/* ]]> */
</script>
</head>

<body>

  <!-- These are loaded at the top of the body so they are available to
       notebook cells when they are loaded below. -->
  <script src="/static/components/jquery/dist/jquery.min.js"></script>
  <script src="/static/components/requirejs/require.js"></script>
  <script src="/static/components/moment/min/moment.min.js"></script>

<!-- Navbar
================================================== -->
  <nav id="menubar" class="navbar navbar-default navbar-fixed-top" data-spy="affix">
    <div class="container">
      <div class="navbar-header">
        <button type="button" class="navbar-toggle collapsed" data-toggle="collapse" data-target=".navbar-collapse">
          <span class="sr-only">Toggle navigation</span>
          <i class="fa fa-bars"></i>
        </button>
        <a class="navbar-brand" href="/">
          <img src="/static/img/nav_logo.svg" width="159"/>
        </a>
      </div>

      <div class="collapse navbar-collapse">
        <ul class="nav navbar-nav navbar-right">
          <li>
            <a class="active" href="http://jupyter.org">JUPYTER</a>
          </li>
          <li>
    <a href="/faq" title="FAQ" >
      
        <span>FAQ</span>
      
    </a>
  </li>

          
  
    
      
        <li>
    <a href="/format/slides/url/maartenmarx.nl/teaching/ISatWork/Slides/Week1_slides.ipynb" title="View as Slides" >
      <span class="fa fa-gift fa-2x menu-icon"></span>
      <span class="menu-text">View as Slides</span>
    </a>
  </li>
      
    
  
    
  

  
    <li>
    <a href="#" title="Python 2 Kernel" >
      <span class="fa fa-server fa-2x menu-icon"></span>
      <span class="menu-text">Python 2 Kernel</span>
    </a>
  </li>
  

  

  <li>
    <a href="http://maartenmarx.nl/teaching/ISatWork/Slides/Week1_slides.ipynb" title="Download Notebook" download>
      <span class="fa fa-download fa-2x menu-icon"></span>
      <span class="menu-text">Download Notebook</span>
    </a>
  </li>

        </ul>
      </div><!-- /.navbar-collapse -->
      
      
    </div>
  </nav>

  <div class="container container-main">
    
  
  <div id="notebook">
    <div id="notebook-container">
      
<div class="cell border-box-sizing text_cell rendered">
<div class="prompt input_prompt">
</div>
<div class="inner_cell">
<div class="text_cell_render border-box-sizing rendered_html">
<h1 id="Introduction-Data-Science">Introduction Data Science<a class="anchor-link" href="#Introduction-Data-Science">&#182;</a></h1><ul>
<li><strong>literature</strong>: Wes McKenney: Python for Data Analysis Chapter 2<ul>
<li>In the literature folder</li>
</ul>
</li>
<li>Accompanying notebook: <a href="https://github.com/pydata/pydata-book">https://github.com/pydata/pydata-book</a> (also locally in our Notebook folder)</li>
</ul>

</div>
</div>
</div>
<div class="cell border-box-sizing text_cell rendered">
<div class="prompt input_prompt">
</div>
<div class="inner_cell">
<div class="text_cell_render border-box-sizing rendered_html">
<h2 id="Data-Science-&quot;steps&quot;">Data Science "steps"<a class="anchor-link" href="#Data-Science-&quot;steps&quot;">&#182;</a></h2><ul>
<li>“Interacting with the outside world<ul>
<li>Reading and writing with a variety of file formats and databases.</li>
</ul>
</li>
<li>Preparation<ul>
<li>Cleaning, munging, combining, normalizing, reshaping, slicing and dicing, and transforming data for analysis.</li>
</ul>
</li>
<li>Transformation<ul>
<li>Applying mathematical and statistical operations to groups of data sets to derive new data sets. </li>
<li>For example, aggregating a large table by group variables.</li>
</ul>
</li>
<li>Modeling and computation<ul>
<li>Connecting your data to statistical models, machine learning algorithms, or other computational tools</li>
</ul>
</li>
<li>Presentation<ul>
<li>Creating interactive or static graphical visualizations or textual summaries”</li>
</ul>
</li>
</ul>
<p>Excerpt From: Wes McKinney. “Python for Data Analysis.”</p>
<h3 id="Python">Python<a class="anchor-link" href="#Python">&#182;</a></h3><ul>
<li>Python is great for data science, as it let you do all these steps inside one programming framework.</li>
<li>Using notebooks, you can in fact do all these steps inside one notebook for a small project. </li>
</ul>

</div>
</div>
</div>
<div class="cell border-box-sizing text_cell rendered">
<div class="prompt input_prompt">
</div>
<div class="inner_cell">
<div class="text_cell_render border-box-sizing rendered_html">
<h1 id="3-examples">3 examples<a class="anchor-link" href="#3-examples">&#182;</a></h1><ul>
<li>We go through 3 examples from Chapter 2, highlighting what can be done in pandas.</li>
</ul>
<h3 id="Examples">Examples<a class="anchor-link" href="#Examples">&#182;</a></h3><ol>
<li>usa.gov data<ul>
<li>reading JSON format</li>
<li>data cleaning</li>
<li>"Who looks at .gov sites?" : counting time zones</li>
</ul>
</li>
<li>Movielens<ul>
<li>SQL join</li>
<li>pivot tables</li>
</ul>
</li>
<li>Baby names<ul>
<li>concatenating data files</li>
<li>more pivots</li>
</ul>
</li>
</ol>

</div>
</div>
</div>
<div class="cell border-box-sizing text_cell rendered">
<div class="prompt input_prompt">
</div>
<div class="inner_cell">
<div class="text_cell_render border-box-sizing rendered_html">
<h1 id="usa.gov-data">usa.gov data<a class="anchor-link" href="#usa.gov-data">&#182;</a></h1><ul>
<li>More information: <a href="https://github.com/usagov/1.USA.gov-Data">https://github.com/usagov/1.USA.gov-Data</a></li>
<li>Follow the code in the notebook</li>
</ul>
<h2 id="Schema-(i.e.-json-data-dictionary):">Schema (i.e. json data dictionary):<a class="anchor-link" href="#Schema-(i.e.-json-data-dictionary):">&#182;</a></h2>
<pre><code>{
        "a": USER_AGENT, 
        "c": COUNTRY_CODE, # 2-character iso code
        "nk": KNOWN_USER,  # 1 or 0\. 0=this is the first time we've seen this browser
        "g": GLOBAL_BITLY_HASH, 
        "h": ENCODING_USER_BITLY_HASH,
        "l": ENCODING_USER_LOGIN,
        "hh": SHORT_URL_CNAME,
        "r": REFERRING_URL,
        "u": LONG_URL,
        "t": TIMESTAMP,
        "gr": GEO_REGION,
        "ll": [LATITUDE, LONGITUDE],
        "cy": GEO_CITY_NAME,
        "tz": TIMEZONE # in http://en.wikipedia.org/wiki/Zoneinfo format
        "hc": TIMESTAMP OF TIME HASH WAS CREATED, 
        "al": ACCEPT_LANGUAGE http://www.w3.org/Protocols/rfc2616/rfc2616-sec14.html#sec14.4 
    }</code></pre>

</div>
</div>
</div>
<div class="cell border-box-sizing text_cell rendered">
<div class="prompt input_prompt">
</div>
<div class="inner_cell">
<div class="text_cell_render border-box-sizing rendered_html">
<h1 id="Exercise">Exercise<a class="anchor-link" href="#Exercise">&#182;</a></h1>
<pre><code>records = [json.loads(line) for line in open(path)]  # list comprehension!</code></pre>
<ol>
<li>What kind of object is <code>records</code>?<ul>
<li>Describe it as clearly as possible</li>
</ul>
</li>
<li>Give code for the following:<ol>
<li>How many records are there?</li>
<li>Make a list of  the  different cities are mentioned in the data?<ol>
<li>How often is each city mentioned (histogram)?</li>
</ol>
</li>
<li>Remove all fields in the records except "c" and "tz", and rename these to <code>COUNTRY_CODE</code> and <code>TIMEZONE</code>.</li>
</ol>
</li>
</ol>

</div>
</div>
</div>
<div class="cell border-box-sizing text_cell rendered">
<div class="prompt input_prompt">
</div>
<div class="inner_cell">
<div class="text_cell_render border-box-sizing rendered_html">
<h1 id="Answers">Answers<a class="anchor-link" href="#Answers">&#182;</a></h1>
</div>
</div>
</div>
<div class="cell border-box-sizing code_cell rendered">
<div class="input">
<div class="prompt input_prompt">In&nbsp;[1]:</div>
<div class="inner_cell">
    <div class="input_area">
<div class=" highlight hl-ipython2"><pre><span class="kn">import</span> <span class="nn">json</span>
<span class="n">path</span> <span class="o">=</span> <span class="s1">&#39;/Users/admin/Documents/work/onderwijs/teaching/ISatWork/NoteBooks/pydata-book/ch02/usagov_bitly_data2012-03-16-1331923249.txt&#39;</span>
<span class="n">records</span> <span class="o">=</span> <span class="p">[</span><span class="n">json</span><span class="o">.</span><span class="n">loads</span><span class="p">(</span><span class="n">line</span><span class="p">)</span> <span class="k">for</span> <span class="n">line</span> <span class="ow">in</span> <span class="nb">open</span><span class="p">(</span><span class="n">path</span><span class="p">)]</span>  <span class="c1"># list comprehension!</span>
</pre></div>

</div>
</div>
</div>

</div>
<div class="cell border-box-sizing code_cell rendered">
<div class="input">
<div class="prompt input_prompt">In&nbsp;[2]:</div>
<div class="inner_cell">
    <div class="input_area">
<div class=" highlight hl-ipython2"><pre><span class="k">print</span> <span class="nb">len</span><span class="p">(</span><span class="n">records</span><span class="p">)</span>
</pre></div>

</div>
</div>
</div>

<div class="output_wrapper">
<div class="output">


<div class="output_area"><div class="prompt"></div>
<div class="output_subarea output_stream output_stdout output_text">
<pre>3560
</pre>
</div>
</div>

</div>
</div>

</div>
<div class="cell border-box-sizing code_cell rendered">
<div class="input">
<div class="prompt input_prompt">In&nbsp;[28]:</div>
<div class="inner_cell">
    <div class="input_area">
<div class=" highlight hl-ipython2"><pre><span class="c1"># The first item in records: He&#39; this looks like a row in a spreadsheet!</span>
<span class="n">records</span><span class="p">[</span><span class="mi">0</span><span class="p">]</span>
</pre></div>

</div>
</div>
</div>

<div class="output_wrapper">
<div class="output">


<div class="output_area"><div class="prompt output_prompt">Out[28]:</div>


<div class="output_text output_subarea output_execute_result">
<pre>{u&apos;a&apos;: u&apos;Mozilla/5.0 (Windows NT 6.1; WOW64) AppleWebKit/535.11 (KHTML, like Gecko) Chrome/17.0.963.78 Safari/535.11&apos;,
 u&apos;al&apos;: u&apos;en-US,en;q=0.8&apos;,
 u&apos;c&apos;: u&apos;US&apos;,
 u&apos;cy&apos;: u&apos;Danvers&apos;,
 u&apos;g&apos;: u&apos;A6qOVH&apos;,
 u&apos;gr&apos;: u&apos;MA&apos;,
 u&apos;h&apos;: u&apos;wfLQtf&apos;,
 u&apos;hc&apos;: 1331822918,
 u&apos;hh&apos;: u&apos;1.usa.gov&apos;,
 u&apos;l&apos;: u&apos;orofrog&apos;,
 u&apos;ll&apos;: [42.576698, -70.954903],
 u&apos;nk&apos;: 1,
 u&apos;r&apos;: u&apos;http://www.facebook.com/l/7AQEFzjSi/1.usa.gov/wfLQtf&apos;,
 u&apos;t&apos;: 1331923247,
 u&apos;tz&apos;: u&apos;America/New_York&apos;,
 u&apos;u&apos;: u&apos;http://www.ncbi.nlm.nih.gov/pubmed/22415991&apos;}</pre>
</div>

</div>

</div>
</div>

</div>
<div class="cell border-box-sizing code_cell rendered">
<div class="input">
<div class="prompt input_prompt">In&nbsp;[3]:</div>
<div class="inner_cell">
    <div class="input_area">
<div class=" highlight hl-ipython2"><pre><span class="n">cities</span><span class="o">=</span> <span class="p">[</span><span class="n">r</span><span class="p">[</span><span class="s1">&#39;cy&#39;</span><span class="p">]</span> <span class="k">for</span> <span class="n">r</span> <span class="ow">in</span> <span class="n">records</span> <span class="k">if</span> <span class="s1">&#39;cy&#39;</span> <span class="ow">in</span> <span class="n">r</span><span class="p">]</span> <span class="c1"># note the test whether the field exists. This is JSON= semi structured data</span>
<span class="k">print</span> <span class="n">cities</span><span class="p">[:</span><span class="mi">3</span><span class="p">],</span> <span class="nb">len</span><span class="p">(</span><span class="n">cities</span><span class="p">)</span>
</pre></div>

</div>
</div>
</div>

<div class="output_wrapper">
<div class="output">


<div class="output_area"><div class="prompt"></div>
<div class="output_subarea output_stream output_stdout output_text">
<pre>[u&apos;Danvers&apos;, u&apos;Provo&apos;, u&apos;Washington&apos;] 2919
</pre>
</div>
</div>

</div>
</div>

</div>
<div class="cell border-box-sizing code_cell rendered">
<div class="input">
<div class="prompt input_prompt">In&nbsp;[4]:</div>
<div class="inner_cell">
    <div class="input_area">
<div class=" highlight hl-ipython2"><pre><span class="kn">from</span> <span class="nn">collections</span> <span class="kn">import</span> <span class="n">Counter</span>

<span class="n">cities</span><span class="o">=</span> <span class="n">Counter</span><span class="p">(</span><span class="n">cities</span><span class="p">)</span>
<span class="n">cities</span><span class="o">.</span><span class="n">most_common</span><span class="p">(</span><span class="mi">10</span><span class="p">)</span>
</pre></div>

</div>
</div>
</div>

<div class="output_wrapper">
<div class="output">


<div class="output_area"><div class="prompt output_prompt">Out[4]:</div>


<div class="output_text output_subarea output_execute_result">
<pre>[(u&apos;Provo&apos;, 121),
 (u&apos;White Plains&apos;, 104),
 (u&apos;Washington&apos;, 98),
 (u&apos;Palo Alto&apos;, 68),
 (u&apos;Shrewsbury&apos;, 46),
 (u&apos;Acworth&apos;, 38),
 (u&apos;Dallas&apos;, 33),
 (u&apos;Paramus&apos;, 32),
 (u&apos;Nogata&apos;, 29),
 (u&apos;Los Angeles&apos;, 28)]</pre>
</div>

</div>

</div>
</div>

</div>
<div class="cell border-box-sizing code_cell rendered">
<div class="input">
<div class="prompt input_prompt">In&nbsp;[25]:</div>
<div class="inner_cell">
    <div class="input_area">
<div class=" highlight hl-ipython2"><pre><span class="kn">import</span> <span class="nn">pandas</span> <span class="kn">as</span> <span class="nn">pd</span>
<span class="o">%</span><span class="k">matplotlib</span> inline

<span class="n">cit</span><span class="o">=</span> <span class="n">pd</span><span class="o">.</span><span class="n">DataFrame</span><span class="o">.</span><span class="n">from_dict</span><span class="p">(</span><span class="n">cities</span><span class="p">,</span> <span class="n">orient</span><span class="o">=</span><span class="s1">&#39;index&#39;</span><span class="p">)</span>  <span class="c1"># maak er een spreadsheet van</span>
<span class="n">cit</span><span class="o">.</span><span class="n">columns</span><span class="o">=</span><span class="p">[</span><span class="s1">&#39;aantal&#39;</span><span class="p">]</span>  <span class="c1"># geef de kolom een naam</span>
<span class="n">cit</span><span class="o">.</span><span class="n">sort_values</span><span class="p">(</span><span class="s1">&#39;aantal&#39;</span><span class="p">,</span><span class="n">ascending</span><span class="o">=</span><span class="bp">False</span><span class="p">,</span> <span class="n">inplace</span><span class="o">=</span><span class="bp">True</span><span class="p">)</span>  <span class="c1"># sorteer</span>
<span class="n">cit</span><span class="o">.</span><span class="n">head</span><span class="p">()</span> <span class="c1"># laat de top van het spreadsheet zien</span>
</pre></div>

</div>
</div>
</div>

<div class="output_wrapper">
<div class="output">


<div class="output_area"><div class="prompt output_prompt">Out[25]:</div>

<div class="output_html rendered_html output_subarea output_execute_result">
<div>
<table border="1" class="dataframe">
  <thead>
    <tr style="text-align: right;">
      <th></th>
      <th>aantal</th>
    </tr>
  </thead>
  <tbody>
    <tr>
      <th>Provo</th>
      <td>121</td>
    </tr>
    <tr>
      <th>White Plains</th>
      <td>104</td>
    </tr>
    <tr>
      <th>Washington</th>
      <td>98</td>
    </tr>
    <tr>
      <th>Palo Alto</th>
      <td>68</td>
    </tr>
    <tr>
      <th>Shrewsbury</th>
      <td>46</td>
    </tr>
  </tbody>
</table>
</div>
</div>

</div>

</div>
</div>

</div>
<div class="cell border-box-sizing code_cell rendered">
<div class="input">
<div class="prompt input_prompt">In&nbsp;[26]:</div>
<div class="inner_cell">
    <div class="input_area">
<div class=" highlight hl-ipython2"><pre><span class="n">cit</span><span class="o">.</span><span class="n">head</span><span class="p">(</span><span class="mi">10</span><span class="p">)</span><span class="o">.</span><span class="n">plot</span><span class="p">(</span><span class="n">kind</span><span class="o">=</span><span class="s1">&#39;barh&#39;</span><span class="p">);</span>
</pre></div>

</div>
</div>
</div>

<div class="output_wrapper">
<div class="output">


<div class="output_area"><div class="prompt"></div>


<div class="output_png output_subarea ">
<img src="data:image/png;base64,iVBORw0KGgoAAAANSUhEUgAAAacAAAD7CAYAAADO1FugAAAABHNCSVQICAgIfAhkiAAAAAlwSFlz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"
>
</div>

</div>

</div>
</div>

</div>
<div class="cell border-box-sizing code_cell rendered">
<div class="input">
<div class="prompt input_prompt">In&nbsp;[27]:</div>
<div class="inner_cell">
    <div class="input_area">
<div class=" highlight hl-ipython2"><pre><span class="c1"># Remove all fields in the records except &quot;c&quot; and &quot;tz&quot;, and rename these to COUNTRY_CODE and TIMEZONE.</span>
<span class="n">short_records</span><span class="o">=</span> <span class="p">[</span> <span class="p">{</span><span class="s1">&#39;COUNTRY_CODE&#39;</span><span class="p">:</span> <span class="n">r</span><span class="p">[</span><span class="s1">&#39;c&#39;</span><span class="p">],</span> <span class="s1">&#39;TIMEZONE&#39;</span><span class="p">:</span> <span class="n">r</span><span class="p">[</span><span class="s1">&#39;tz&#39;</span><span class="p">]}</span> <span class="k">for</span> <span class="n">r</span> <span class="ow">in</span> <span class="n">records</span> <span class="k">if</span> <span class="s1">&#39;tz&#39;</span> <span class="ow">in</span> <span class="n">r</span> <span class="ow">and</span> <span class="s1">&#39;c&#39;</span> <span class="ow">in</span> <span class="n">r</span><span class="p">]</span>
<span class="n">short_records</span><span class="p">[:</span><span class="mi">4</span><span class="p">]</span>
</pre></div>

</div>
</div>
</div>

<div class="output_wrapper">
<div class="output">


<div class="output_area"><div class="prompt output_prompt">Out[27]:</div>


<div class="output_text output_subarea output_execute_result">
<pre>[{&apos;COUNTRY_CODE&apos;: u&apos;US&apos;, &apos;TIMEZONE&apos;: u&apos;America/New_York&apos;},
 {&apos;COUNTRY_CODE&apos;: u&apos;US&apos;, &apos;TIMEZONE&apos;: u&apos;America/Denver&apos;},
 {&apos;COUNTRY_CODE&apos;: u&apos;US&apos;, &apos;TIMEZONE&apos;: u&apos;America/New_York&apos;},
 {&apos;COUNTRY_CODE&apos;: u&apos;BR&apos;, &apos;TIMEZONE&apos;: u&apos;America/Sao_Paulo&apos;}]</pre>
</div>

</div>

</div>
</div>

</div>
<div class="cell border-box-sizing text_cell rendered">
<div class="prompt input_prompt">
</div>
<div class="inner_cell">
<div class="text_cell_render border-box-sizing rendered_html">
<h1 id="Exercise">Exercise<a class="anchor-link" href="#Exercise">&#182;</a></h1><ul>
<li>From the book. </li>
<li>The book has several solutions.</li>
<li>Count how often each time zone occurs in the data.</li>
</ul>

</div>
</div>
</div>
<div class="cell border-box-sizing code_cell rendered">
<div class="input">
<div class="prompt input_prompt">In&nbsp;[10]:</div>
<div class="inner_cell">
    <div class="input_area">
<div class=" highlight hl-ipython2"><pre><span class="n">time_zones</span><span class="o">=</span> <span class="n">Counter</span><span class="p">([</span><span class="n">r</span><span class="p">[</span><span class="s1">&#39;tz&#39;</span><span class="p">]</span> <span class="k">for</span> <span class="n">r</span> <span class="ow">in</span> <span class="n">records</span> <span class="k">if</span> <span class="s1">&#39;tz&#39;</span> <span class="ow">in</span> <span class="n">r</span><span class="p">])</span>
<span class="n">time_zones</span><span class="o">.</span><span class="n">most_common</span><span class="p">(</span><span class="mi">10</span><span class="p">)</span>
</pre></div>

</div>
</div>
</div>

<div class="output_wrapper">
<div class="output">


<div class="output_area"><div class="prompt output_prompt">Out[10]:</div>


<div class="output_text output_subarea output_execute_result">
<pre>[(u&apos;America/New_York&apos;, 1251),
 (u&apos;&apos;, 521),
 (u&apos;America/Chicago&apos;, 400),
 (u&apos;America/Los_Angeles&apos;, 382),
 (u&apos;America/Denver&apos;, 191),
 (u&apos;Europe/London&apos;, 74),
 (u&apos;Asia/Tokyo&apos;, 37),
 (u&apos;Pacific/Honolulu&apos;, 36),
 (u&apos;Europe/Madrid&apos;, 35),
 (u&apos;America/Sao_Paulo&apos;, 33)]</pre>
</div>

</div>

</div>
</div>

</div>
<div class="cell border-box-sizing text_cell rendered">
<div class="prompt input_prompt">
</div>
<div class="inner_cell">
<div class="text_cell_render border-box-sizing rendered_html">
<h1 id="Same-question-solved-in-pandas">Same question solved in pandas<a class="anchor-link" href="#Same-question-solved-in-pandas">&#182;</a></h1>
</div>
</div>
</div>
<div class="cell border-box-sizing code_cell rendered">
<div class="input">
<div class="prompt input_prompt">In&nbsp;[11]:</div>
<div class="inner_cell">
    <div class="input_area">
<div class=" highlight hl-ipython2"><pre><span class="o">%</span><span class="k">matplotlib</span> inline
<span class="kn">import</span> <span class="nn">pandas</span> <span class="kn">as</span> <span class="nn">pd</span>

<span class="c1"># load the records as a dataframe, and show the first 10 &quot;lines&quot;</span>
<span class="n">frame</span> <span class="o">=</span> <span class="n">pd</span><span class="o">.</span><span class="n">DataFrame</span><span class="p">(</span><span class="n">records</span><span class="p">)</span>
<span class="n">frame</span><span class="o">.</span><span class="n">head</span><span class="p">()</span>
</pre></div>

</div>
</div>
</div>

<div class="output_wrapper">
<div class="output">


<div class="output_area"><div class="prompt output_prompt">Out[11]:</div>

<div class="output_html rendered_html output_subarea output_execute_result">
<div>
<table border="1" class="dataframe">
  <thead>
    <tr style="text-align: right;">
      <th></th>
      <th>_heartbeat_</th>
      <th>a</th>
      <th>al</th>
      <th>c</th>
      <th>cy</th>
      <th>g</th>
      <th>gr</th>
      <th>h</th>
      <th>hc</th>
      <th>hh</th>
      <th>kw</th>
      <th>l</th>
      <th>ll</th>
      <th>nk</th>
      <th>r</th>
      <th>t</th>
      <th>tz</th>
      <th>u</th>
    </tr>
  </thead>
  <tbody>
    <tr>
      <th>0</th>
      <td>NaN</td>
      <td>Mozilla/5.0 (Windows NT 6.1; WOW64) AppleWebKi...</td>
      <td>en-US,en;q=0.8</td>
      <td>US</td>
      <td>Danvers</td>
      <td>A6qOVH</td>
      <td>MA</td>
      <td>wfLQtf</td>
      <td>1331822918</td>
      <td>1.usa.gov</td>
      <td>NaN</td>
      <td>orofrog</td>
      <td>[42.576698, -70.954903]</td>
      <td>1</td>
      <td>http://www.facebook.com/l/7AQEFzjSi/1.usa.gov/...</td>
      <td>1331923247</td>
      <td>America/New_York</td>
      <td>http://www.ncbi.nlm.nih.gov/pubmed/22415991</td>
    </tr>
    <tr>
      <th>1</th>
      <td>NaN</td>
      <td>GoogleMaps/RochesterNY</td>
      <td>NaN</td>
      <td>US</td>
      <td>Provo</td>
      <td>mwszkS</td>
      <td>UT</td>
      <td>mwszkS</td>
      <td>1308262393</td>
      <td>j.mp</td>
      <td>NaN</td>
      <td>bitly</td>
      <td>[40.218102, -111.613297]</td>
      <td>0</td>
      <td>http://www.AwareMap.com/</td>
      <td>1331923249</td>
      <td>America/Denver</td>
      <td>http://www.monroecounty.gov/etc/911/rss.php</td>
    </tr>
    <tr>
      <th>2</th>
      <td>NaN</td>
      <td>Mozilla/4.0 (compatible; MSIE 8.0; Windows NT ...</td>
      <td>en-US</td>
      <td>US</td>
      <td>Washington</td>
      <td>xxr3Qb</td>
      <td>DC</td>
      <td>xxr3Qb</td>
      <td>1331919941</td>
      <td>1.usa.gov</td>
      <td>NaN</td>
      <td>bitly</td>
      <td>[38.9007, -77.043098]</td>
      <td>1</td>
      <td>http://t.co/03elZC4Q</td>
      <td>1331923250</td>
      <td>America/New_York</td>
      <td>http://boxer.senate.gov/en/press/releases/0316...</td>
    </tr>
    <tr>
      <th>3</th>
      <td>NaN</td>
      <td>Mozilla/5.0 (Macintosh; Intel Mac OS X 10_6_8)...</td>
      <td>pt-br</td>
      <td>BR</td>
      <td>Braz</td>
      <td>zCaLwp</td>
      <td>27</td>
      <td>zUtuOu</td>
      <td>1331923068</td>
      <td>1.usa.gov</td>
      <td>NaN</td>
      <td>alelex88</td>
      <td>[-23.549999, -46.616699]</td>
      <td>0</td>
      <td>direct</td>
      <td>1331923249</td>
      <td>America/Sao_Paulo</td>
      <td>http://apod.nasa.gov/apod/ap120312.html</td>
    </tr>
    <tr>
      <th>4</th>
      <td>NaN</td>
      <td>Mozilla/5.0 (Windows NT 6.1; WOW64) AppleWebKi...</td>
      <td>en-US,en;q=0.8</td>
      <td>US</td>
      <td>Shrewsbury</td>
      <td>9b6kNl</td>
      <td>MA</td>
      <td>9b6kNl</td>
      <td>1273672411</td>
      <td>bit.ly</td>
      <td>NaN</td>
      <td>bitly</td>
      <td>[42.286499, -71.714699]</td>
      <td>0</td>
      <td>http://www.shrewsbury-ma.gov/selco/</td>
      <td>1331923251</td>
      <td>America/New_York</td>
      <td>http://www.shrewsbury-ma.gov/egov/gallery/1341...</td>
    </tr>
  </tbody>
</table>
</div>
</div>

</div>

</div>
</div>

</div>
<div class="cell border-box-sizing code_cell rendered">
<div class="input">
<div class="prompt input_prompt">In&nbsp;[12]:</div>
<div class="inner_cell">
    <div class="input_area">
<div class=" highlight hl-ipython2"><pre><span class="n">tz_counts</span> <span class="o">=</span> <span class="n">frame</span><span class="o">.</span><span class="n">tz</span><span class="o">.</span><span class="n">value_counts</span><span class="p">()</span>
<span class="n">tz_counts</span><span class="p">[:</span><span class="mi">10</span><span class="p">]</span>
</pre></div>

</div>
</div>
</div>

<div class="output_wrapper">
<div class="output">


<div class="output_area"><div class="prompt output_prompt">Out[12]:</div>


<div class="output_text output_subarea output_execute_result">
<pre>America/New_York       1251
                        521
America/Chicago         400
America/Los_Angeles     382
America/Denver          191
Europe/London            74
Asia/Tokyo               37
Pacific/Honolulu         36
Europe/Madrid            35
America/Sao_Paulo        33
dtype: int64</pre>
</div>

</div>

</div>
</div>

</div>
<div class="cell border-box-sizing code_cell rendered">
<div class="input">
<div class="prompt input_prompt">In&nbsp;[13]:</div>
<div class="inner_cell">
    <div class="input_area">
<div class=" highlight hl-ipython2"><pre><span class="n">tz_counts</span><span class="p">[:</span><span class="mi">10</span><span class="p">]</span><span class="o">.</span><span class="n">plot</span><span class="p">(</span><span class="n">kind</span><span class="o">=</span><span class="s1">&#39;bar&#39;</span><span class="p">);</span> <span class="c1"># or try barh</span>
</pre></div>

</div>
</div>
</div>

<div class="output_wrapper">
<div class="output">


<div class="output_area"><div class="prompt"></div>


<div class="output_png output_subarea ">
<img src="data:image/png;base64,iVBORw0KGgoAAAANSUhEUgAAAXgAAAFgCAYAAACxGGJQAAAABHNCSVQICAgIfAhkiAAAAAlwSFlz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"
>
</div>

</div>

</div>
</div>

</div>
<div class="cell border-box-sizing text_cell rendered">
<div class="prompt input_prompt">
</div>
<div class="inner_cell">
<div class="text_cell_render border-box-sizing rendered_html">
<h1 id="Almost-the-same-exercise....">Almost the same exercise....<a class="anchor-link" href="#Almost-the-same-exercise....">&#182;</a></h1><ul>
<li><p>Make the same histogram, but now for the browsers used in the data.</p>
<p>### steps</p>
</li>
<li>Inspect the data</li>
<li>Clean it up, using Python's string manipulation.</li>
<li>remove missing values</li>
<li>turm into a dataframe (now actually series) pandas object and act as before</li>
</ul>

</div>
</div>
</div>
<div class="cell border-box-sizing code_cell rendered">
<div class="input">
<div class="prompt input_prompt">In&nbsp;[14]:</div>
<div class="inner_cell">
    <div class="input_area">
<div class=" highlight hl-ipython2"><pre><span class="c1"># Ispect the data</span>
<span class="n">frame</span><span class="o">.</span><span class="n">a</span><span class="o">.</span><span class="n">head</span><span class="p">()</span>
 
</pre></div>

</div>
</div>
</div>

<div class="output_wrapper">
<div class="output">


<div class="output_area"><div class="prompt output_prompt">Out[14]:</div>


<div class="output_text output_subarea output_execute_result">
<pre>0    Mozilla/5.0 (Windows NT 6.1; WOW64) AppleWebKi...
1                               GoogleMaps/RochesterNY
2    Mozilla/4.0 (compatible; MSIE 8.0; Windows NT ...
3    Mozilla/5.0 (Macintosh; Intel Mac OS X 10_6_8)...
4    Mozilla/5.0 (Windows NT 6.1; WOW64) AppleWebKi...
Name: a, dtype: object</pre>
</div>

</div>

</div>
</div>

</div>
<div class="cell border-box-sizing text_cell rendered">
<div class="prompt input_prompt">
</div>
<div class="inner_cell">
<div class="text_cell_render border-box-sizing rendered_html">
<h1 id="Remove-missing-values">Remove missing values<a class="anchor-link" href="#Remove-missing-values">&#182;</a></h1>
</div>
</div>
</div>
<div class="cell border-box-sizing code_cell rendered">
<div class="input">
<div class="prompt input_prompt">In&nbsp;[15]:</div>
<div class="inner_cell">
    <div class="input_area">
<div class=" highlight hl-ipython2"><pre><span class="nb">len</span><span class="p">(</span><span class="n">frame</span><span class="o">.</span><span class="n">a</span><span class="p">),</span> <span class="nb">len</span><span class="p">(</span><span class="n">frame</span><span class="o">.</span><span class="n">a</span><span class="o">.</span><span class="n">dropna</span><span class="p">()),</span> <span class="nb">len</span><span class="p">(</span><span class="n">frame</span><span class="o">.</span><span class="n">a</span><span class="p">)</span>
</pre></div>

</div>
</div>
</div>

<div class="output_wrapper">
<div class="output">


<div class="output_area"><div class="prompt output_prompt">Out[15]:</div>


<div class="output_text output_subarea output_execute_result">
<pre>(3560, 3440, 3560)</pre>
</div>

</div>

</div>
</div>

</div>
<div class="cell border-box-sizing text_cell rendered">
<div class="prompt input_prompt">
</div>
<div class="inner_cell">
<div class="text_cell_render border-box-sizing rendered_html">
<h1 id="Only-keep-the-operating-system">Only keep the operating system<a class="anchor-link" href="#Only-keep-the-operating-system">&#182;</a></h1><ul>
<li>Python can split strings easily! </li>
</ul>

</div>
</div>
</div>
<div class="cell border-box-sizing code_cell rendered">
<div class="input">
<div class="prompt input_prompt">In&nbsp;[16]:</div>
<div class="inner_cell">
    <div class="input_area">
<div class=" highlight hl-ipython2"><pre><span class="n">opssys</span><span class="o">=</span> <span class="p">[</span><span class="n">r</span><span class="o">.</span><span class="n">split</span><span class="p">()[</span><span class="mi">0</span><span class="p">]</span> <span class="k">for</span> <span class="n">r</span> <span class="ow">in</span> <span class="n">frame</span><span class="o">.</span><span class="n">a</span><span class="o">.</span><span class="n">dropna</span><span class="p">()</span> <span class="p">]</span>
<span class="n">opssys</span><span class="p">[:</span><span class="mi">5</span><span class="p">]</span>
</pre></div>

</div>
</div>
</div>

<div class="output_wrapper">
<div class="output">


<div class="output_area"><div class="prompt output_prompt">Out[16]:</div>


<div class="output_text output_subarea output_execute_result">
<pre>[u&apos;Mozilla/5.0&apos;,
 u&apos;GoogleMaps/RochesterNY&apos;,
 u&apos;Mozilla/4.0&apos;,
 u&apos;Mozilla/5.0&apos;,
 u&apos;Mozilla/5.0&apos;]</pre>
</div>

</div>

</div>
</div>

</div>
<div class="cell border-box-sizing text_cell rendered">
<div class="prompt input_prompt">
</div>
<div class="inner_cell">
<div class="text_cell_render border-box-sizing rendered_html">
<h1 id="Back-to-pandas">Back to pandas<a class="anchor-link" href="#Back-to-pandas">&#182;</a></h1>
</div>
</div>
</div>
<div class="cell border-box-sizing code_cell rendered">
<div class="input">
<div class="prompt input_prompt">In&nbsp;[17]:</div>
<div class="inner_cell">
    <div class="input_area">
<div class=" highlight hl-ipython2"><pre><span class="n">opssys_series</span> <span class="o">=</span> <span class="n">pd</span><span class="o">.</span><span class="n">Series</span><span class="p">(</span><span class="n">opssys</span><span class="p">)</span>
<span class="n">opssys_series</span><span class="o">.</span><span class="n">value_counts</span><span class="p">()[:</span><span class="mi">10</span><span class="p">]</span> <span class="c1"># .plot(type=&#39;barh&#39;)</span>
</pre></div>

</div>
</div>
</div>

<div class="output_wrapper">
<div class="output">


<div class="output_area"><div class="prompt output_prompt">Out[17]:</div>


<div class="output_text output_subarea output_execute_result">
<pre>Mozilla/5.0                 2594
Mozilla/4.0                  601
GoogleMaps/RochesterNY       121
Opera/9.80                    34
TEST_INTERNET_AGENT           24
GoogleProducer                21
Mozilla/6.0                    5
BlackBerry8520/5.0.0.681       4
Dalvik/1.4.0                   3
BlackBerry8520/5.0.0.592       3
dtype: int64</pre>
</div>

</div>

</div>
</div>

</div>
<div class="cell border-box-sizing text_cell rendered">
<div class="prompt input_prompt">
</div>
<div class="inner_cell">
<div class="text_cell_render border-box-sizing rendered_html">
<h1 id="Movielens-data">Movielens data<a class="anchor-link" href="#Movielens-data">&#182;</a></h1><ol>
<li>Merging/joining/fusing csv files</li>
<li>Favorite movies grouped by gender</li>
</ol>

</div>
</div>
</div>
<div class="cell border-box-sizing text_cell rendered">
<div class="prompt input_prompt">
</div>
<div class="inner_cell">
<div class="text_cell_render border-box-sizing rendered_html">
<h1 id="Step-1">Step 1<a class="anchor-link" href="#Step-1">&#182;</a></h1><ul>
<li>inspect your data files using command line tools</li>
</ul>

</div>
</div>
</div>
<div class="cell border-box-sizing code_cell rendered">
<div class="input">
<div class="prompt input_prompt">In&nbsp;[30]:</div>
<div class="inner_cell">
    <div class="input_area">
<div class=" highlight hl-ipython2"><pre><span class="c1"># How big?   </span>
<span class="c1"># only works for mac and linux</span>
<span class="o">!</span>ls -lh ../NoteBooks/pydata-book/ch02/movielens/
</pre></div>

</div>
</div>
</div>

<div class="output_wrapper">
<div class="output">


<div class="output_area"><div class="prompt"></div>
<div class="output_subarea output_stream output_stdout output_text">
<pre>total 196136
-rw-r--r--  1 admin  staff   5.1K Jan 14  2015 README
-rw-r--r--  1 admin  staff    72M Jan 28 11:49 mergeddata.csv
-rw-r--r--  1 admin  staff   167K Jan 14  2015 movies.dat
-rw-r--r--  1 admin  staff    23M Jan 14  2015 ratings.dat
-rw-r--r--  1 admin  staff   131K Jan 14  2015 users.dat
</pre>
</div>
</div>

</div>
</div>

</div>
<div class="cell border-box-sizing code_cell rendered">
<div class="input">
<div class="prompt input_prompt">In&nbsp;[31]:</div>
<div class="inner_cell">
    <div class="input_area">
<div class=" highlight hl-ipython2"><pre><span class="c1"># also works for windows. </span>
<span class="c1"># Can you spot the difference?</span>
<span class="c1"># only works for mac and linux</span>
<span class="o">%</span><span class="k">ls</span> -lh ../NoteBooks/pydata-book/ch02/movielens/
</pre></div>

</div>
</div>
</div>

<div class="output_wrapper">
<div class="output">


<div class="output_area"><div class="prompt"></div>
<div class="output_subarea output_stream output_stdout output_text">
<pre>total 196136
-rw-r--r--  1 admin  staff   5.1K Jan 14  2015 README
-rw-r--r--  1 admin  staff    72M Jan 28 11:49 mergeddata.csv
-rw-r--r--  1 admin  staff   167K Jan 14  2015 movies.dat
-rw-r--r--  1 admin  staff    23M Jan 14  2015 ratings.dat
-rw-r--r--  1 admin  staff   131K Jan 14  2015 users.dat
</pre>
</div>
</div>

</div>
</div>

</div>
<div class="cell border-box-sizing code_cell rendered">
<div class="input">
<div class="prompt input_prompt">In&nbsp;[33]:</div>
<div class="inner_cell">
    <div class="input_area">
<div class=" highlight hl-ipython2"><pre><span class="c1"># How many lines?</span>
<span class="o">!</span>wc -l ../NoteBooks/pydata-book/ch02/movielens/*.dat
</pre></div>

</div>
</div>
</div>

<div class="output_wrapper">
<div class="output">


<div class="output_area"><div class="prompt"></div>
<div class="output_subarea output_stream output_stdout output_text">
<pre>    3883 ../NoteBooks/pydata-book/ch02/movielens/movies.dat
 1000209 ../NoteBooks/pydata-book/ch02/movielens/ratings.dat
    6040 ../NoteBooks/pydata-book/ch02/movielens/users.dat
 1010132 total
</pre>
</div>
</div>

</div>
</div>

</div>
<div class="cell border-box-sizing code_cell rendered">
<div class="input">
<div class="prompt input_prompt">In&nbsp;[35]:</div>
<div class="inner_cell">
    <div class="input_area">
<div class=" highlight hl-ipython2"><pre><span class="c1"># Show the top 5 lines </span>

<span class="o">!</span>head -5 ../NoteBooks/pydata-book/ch02/movielens/*.dat
</pre></div>

</div>
</div>
</div>

<div class="output_wrapper">
<div class="output">


<div class="output_area"><div class="prompt"></div>
<div class="output_subarea output_stream output_stdout output_text">
<pre>==&gt; ../NoteBooks/pydata-book/ch02/movielens/movies.dat &lt;==
1::Toy Story (1995)::Animation|Children&apos;s|Comedy
2::Jumanji (1995)::Adventure|Children&apos;s|Fantasy
3::Grumpier Old Men (1995)::Comedy|Romance
4::Waiting to Exhale (1995)::Comedy|Drama
5::Father of the Bride Part II (1995)::Comedy

==&gt; ../NoteBooks/pydata-book/ch02/movielens/ratings.dat &lt;==
1::1193::5::978300760
1::661::3::978302109
1::914::3::978301968
1::3408::4::978300275
1::2355::5::978824291

==&gt; ../NoteBooks/pydata-book/ch02/movielens/users.dat &lt;==
1::F::1::10::48067
2::M::56::16::70072
3::M::25::15::55117
4::M::45::7::02460
5::M::25::20::55455
</pre>
</div>
</div>

</div>
</div>

</div>
<div class="cell border-box-sizing text_cell rendered">
<div class="prompt input_prompt">
</div>
<div class="inner_cell">
<div class="text_cell_render border-box-sizing rendered_html">
<h1 id="Step-2">Step 2<a class="anchor-link" href="#Step-2">&#182;</a></h1><ul>
<li>Understand technical format<ul>
<li>csv files separated by '::' in <code>latin1</code> encoding</li>
</ul>
</li>
<li>Understand semantics<ul>
<li>What do the values in the columns mean?</li>
<li>Here hard, as there are no headers.</li>
</ul>
</li>
</ul>
<h2 id="Then-import-into-pandas">Then import into pandas<a class="anchor-link" href="#Then-import-into-pandas">&#182;</a></h2><ul>
<li>use <code>pd.read_csv</code></li>
</ul>

</div>
</div>
</div>
<div class="cell border-box-sizing code_cell rendered">
<div class="input">
<div class="prompt input_prompt">In&nbsp;[37]:</div>
<div class="inner_cell">
    <div class="input_area">
<div class=" highlight hl-ipython2"><pre><span class="kn">import</span> <span class="nn">os</span>
<span class="c1"># import pandas as pd</span>
<span class="n">encoding</span> <span class="o">=</span> <span class="s1">&#39;latin1&#39;</span>

 
<span class="n">upath</span> <span class="o">=</span> <span class="n">os</span><span class="o">.</span><span class="n">path</span><span class="o">.</span><span class="n">expanduser</span><span class="p">(</span><span class="s1">&#39;../NoteBooks/pydata-book/ch02/movielens/users.dat&#39;</span><span class="p">)</span>
<span class="n">rpath</span> <span class="o">=</span> <span class="n">os</span><span class="o">.</span><span class="n">path</span><span class="o">.</span><span class="n">expanduser</span><span class="p">(</span><span class="s1">&#39;../NoteBooks/pydata-book/ch02/movielens/ratings.dat&#39;</span><span class="p">)</span>
<span class="n">mpath</span> <span class="o">=</span> <span class="n">os</span><span class="o">.</span><span class="n">path</span><span class="o">.</span><span class="n">expanduser</span><span class="p">(</span><span class="s1">&#39;../NoteBooks/pydata-book/ch02/movielens/movies.dat&#39;</span><span class="p">)</span>

<span class="n">unames</span> <span class="o">=</span> <span class="p">[</span><span class="s1">&#39;user_id&#39;</span><span class="p">,</span> <span class="s1">&#39;gender&#39;</span><span class="p">,</span> <span class="s1">&#39;age&#39;</span><span class="p">,</span> <span class="s1">&#39;occupation&#39;</span><span class="p">,</span> <span class="s1">&#39;zip&#39;</span><span class="p">]</span>
<span class="n">rnames</span> <span class="o">=</span> <span class="p">[</span><span class="s1">&#39;user_id&#39;</span><span class="p">,</span> <span class="s1">&#39;movie_id&#39;</span><span class="p">,</span> <span class="s1">&#39;rating&#39;</span><span class="p">,</span> <span class="s1">&#39;timestamp&#39;</span><span class="p">]</span>
<span class="n">mnames</span> <span class="o">=</span> <span class="p">[</span><span class="s1">&#39;movie_id&#39;</span><span class="p">,</span> <span class="s1">&#39;title&#39;</span><span class="p">,</span> <span class="s1">&#39;genres&#39;</span><span class="p">]</span>

<span class="n">users</span> <span class="o">=</span> <span class="n">pd</span><span class="o">.</span><span class="n">read_csv</span><span class="p">(</span><span class="n">upath</span><span class="p">,</span> <span class="n">sep</span><span class="o">=</span><span class="s1">&#39;::&#39;</span><span class="p">,</span> <span class="n">header</span><span class="o">=</span><span class="bp">None</span><span class="p">,</span> <span class="n">names</span><span class="o">=</span><span class="n">unames</span><span class="p">,</span> <span class="n">encoding</span><span class="o">=</span><span class="n">encoding</span><span class="p">)</span>
<span class="n">ratings</span> <span class="o">=</span> <span class="n">pd</span><span class="o">.</span><span class="n">read_csv</span><span class="p">(</span><span class="n">rpath</span><span class="p">,</span> <span class="n">sep</span><span class="o">=</span><span class="s1">&#39;::&#39;</span><span class="p">,</span> <span class="n">header</span><span class="o">=</span><span class="bp">None</span><span class="p">,</span> <span class="n">names</span><span class="o">=</span><span class="n">rnames</span><span class="p">,</span> <span class="n">encoding</span><span class="o">=</span><span class="n">encoding</span><span class="p">)</span>
<span class="n">movies</span> <span class="o">=</span> <span class="n">pd</span><span class="o">.</span><span class="n">read_csv</span><span class="p">(</span><span class="n">mpath</span><span class="p">,</span> <span class="n">sep</span><span class="o">=</span><span class="s1">&#39;::&#39;</span><span class="p">,</span> <span class="n">header</span><span class="o">=</span><span class="bp">None</span><span class="p">,</span> <span class="n">names</span><span class="o">=</span><span class="n">mnames</span><span class="p">,</span> <span class="n">encoding</span><span class="o">=</span><span class="n">encoding</span><span class="p">,</span> <span class="n">engine</span><span class="o">=</span><span class="s1">&#39;python&#39;</span><span class="p">)</span>
</pre></div>

</div>
</div>
</div>

<div class="output_wrapper">
<div class="output">


<div class="output_area"><div class="prompt"></div>
<div class="output_subarea output_stream output_stderr output_text">
<pre>/Users/admin/anaconda/lib/python2.7/site-packages/ipykernel/__main__.py:14: ParserWarning: Falling back to the &apos;python&apos; engine because the &apos;c&apos; engine does not support regex separators; you can avoid this warning by specifying engine=&apos;python&apos;.
/Users/admin/anaconda/lib/python2.7/site-packages/ipykernel/__main__.py:15: ParserWarning: Falling back to the &apos;python&apos; engine because the &apos;c&apos; engine does not support regex separators; you can avoid this warning by specifying engine=&apos;python&apos;.
</pre>
</div>
</div>

</div>
</div>

</div>
<div class="cell border-box-sizing text_cell rendered">
<div class="prompt input_prompt">
</div>
<div class="inner_cell">
<div class="text_cell_render border-box-sizing rendered_html">
<h1 id="Inspect-your-data">Inspect your data<a class="anchor-link" href="#Inspect-your-data">&#182;</a></h1>
</div>
</div>
</div>
<div class="cell border-box-sizing code_cell rendered">
<div class="input">
<div class="prompt input_prompt">In&nbsp;[22]:</div>
<div class="inner_cell">
    <div class="input_area">
<div class=" highlight hl-ipython2"><pre><span class="n">users</span><span class="o">.</span><span class="n">head</span><span class="p">()</span>
</pre></div>

</div>
</div>
</div>

<div class="output_wrapper">
<div class="output">


<div class="output_area"><div class="prompt output_prompt">Out[22]:</div>

<div class="output_html rendered_html output_subarea output_execute_result">
<div>
<table border="1" class="dataframe">
  <thead>
    <tr style="text-align: right;">
      <th></th>
      <th>user_id</th>
      <th>gender</th>
      <th>age</th>
      <th>occupation</th>
      <th>zip</th>
    </tr>
  </thead>
  <tbody>
    <tr>
      <th>0</th>
      <td>1</td>
      <td>F</td>
      <td>1</td>
      <td>10</td>
      <td>48067</td>
    </tr>
    <tr>
      <th>1</th>
      <td>2</td>
      <td>M</td>
      <td>56</td>
      <td>16</td>
      <td>70072</td>
    </tr>
    <tr>
      <th>2</th>
      <td>3</td>
      <td>M</td>
      <td>25</td>
      <td>15</td>
      <td>55117</td>
    </tr>
    <tr>
      <th>3</th>
      <td>4</td>
      <td>M</td>
      <td>45</td>
      <td>7</td>
      <td>02460</td>
    </tr>
    <tr>
      <th>4</th>
      <td>5</td>
      <td>M</td>
      <td>25</td>
      <td>20</td>
      <td>55455</td>
    </tr>
  </tbody>
</table>
</div>
</div>

</div>

</div>
</div>

</div>
<div class="cell border-box-sizing code_cell rendered">
<div class="input">
<div class="prompt input_prompt">In&nbsp;[23]:</div>
<div class="inner_cell">
    <div class="input_area">
<div class=" highlight hl-ipython2"><pre><span class="n">ratings</span><span class="o">.</span><span class="n">describe</span><span class="p">()</span>
</pre></div>

</div>
</div>
</div>

<div class="output_wrapper">
<div class="output">


<div class="output_area"><div class="prompt output_prompt">Out[23]:</div>

<div class="output_html rendered_html output_subarea output_execute_result">
<div>
<table border="1" class="dataframe">
  <thead>
    <tr style="text-align: right;">
      <th></th>
      <th>user_id</th>
      <th>movie_id</th>
      <th>rating</th>
      <th>timestamp</th>
    </tr>
  </thead>
  <tbody>
    <tr>
      <th>count</th>
      <td>1000209.000000</td>
      <td>1000209.000000</td>
      <td>1000209.000000</td>
      <td>1.000209e+06</td>
    </tr>
    <tr>
      <th>mean</th>
      <td>3024.512348</td>
      <td>1865.539898</td>
      <td>3.581564</td>
      <td>9.722437e+08</td>
    </tr>
    <tr>
      <th>std</th>
      <td>1728.412695</td>
      <td>1096.040689</td>
      <td>1.117102</td>
      <td>1.215256e+07</td>
    </tr>
    <tr>
      <th>min</th>
      <td>1.000000</td>
      <td>1.000000</td>
      <td>1.000000</td>
      <td>9.567039e+08</td>
    </tr>
    <tr>
      <th>25%</th>
      <td>1506.000000</td>
      <td>1030.000000</td>
      <td>3.000000</td>
      <td>9.653026e+08</td>
    </tr>
    <tr>
      <th>50%</th>
      <td>3070.000000</td>
      <td>1835.000000</td>
      <td>4.000000</td>
      <td>9.730180e+08</td>
    </tr>
    <tr>
      <th>75%</th>
      <td>4476.000000</td>
      <td>2770.000000</td>
      <td>4.000000</td>
      <td>9.752209e+08</td>
    </tr>
    <tr>
      <th>max</th>
      <td>6040.000000</td>
      <td>3952.000000</td>
      <td>5.000000</td>
      <td>1.046455e+09</td>
    </tr>
  </tbody>
</table>
</div>
</div>

</div>

</div>
</div>

</div>
<div class="cell border-box-sizing text_cell rendered">
<div class="prompt input_prompt">
</div>
<div class="inner_cell">
<div class="text_cell_render border-box-sizing rendered_html">
<h1 id="Now-merge">Now merge<a class="anchor-link" href="#Now-merge">&#182;</a></h1><ul>
<li><code>pd.merge?</code><ul>
<li>Do a join on the shared column names</li>
</ul>
</li>
<li>Default is SQL's inner join:<ul>
<li>use intersection of join-values from both frames (SQL: inner join) </li>
</ul>
</li>
</ul>

</div>
</div>
</div>
<div class="cell border-box-sizing code_cell rendered">
<div class="input">
<div class="prompt input_prompt">In&nbsp;[24]:</div>
<div class="inner_cell">
    <div class="input_area">
<div class=" highlight hl-ipython2"><pre><span class="n">pd</span><span class="o">.</span><span class="n">merge</span><span class="p">(</span><span class="n">movies</span><span class="p">,</span><span class="n">ratings</span><span class="p">)</span><span class="o">.</span><span class="n">head</span><span class="p">()</span>
</pre></div>

</div>
</div>
</div>

<div class="output_wrapper">
<div class="output">


<div class="output_area"><div class="prompt output_prompt">Out[24]:</div>

<div class="output_html rendered_html output_subarea output_execute_result">
<div>
<table border="1" class="dataframe">
  <thead>
    <tr style="text-align: right;">
      <th></th>
      <th>movie_id</th>
      <th>title</th>
      <th>genres</th>
      <th>user_id</th>
      <th>rating</th>
      <th>timestamp</th>
    </tr>
  </thead>
  <tbody>
    <tr>
      <th>0</th>
      <td>1</td>
      <td>Toy Story (1995)</td>
      <td>Animation|Children's|Comedy</td>
      <td>1</td>
      <td>5</td>
      <td>978824268</td>
    </tr>
    <tr>
      <th>1</th>
      <td>1</td>
      <td>Toy Story (1995)</td>
      <td>Animation|Children's|Comedy</td>
      <td>6</td>
      <td>4</td>
      <td>978237008</td>
    </tr>
    <tr>
      <th>2</th>
      <td>1</td>
      <td>Toy Story (1995)</td>
      <td>Animation|Children's|Comedy</td>
      <td>8</td>
      <td>4</td>
      <td>978233496</td>
    </tr>
    <tr>
      <th>3</th>
      <td>1</td>
      <td>Toy Story (1995)</td>
      <td>Animation|Children's|Comedy</td>
      <td>9</td>
      <td>5</td>
      <td>978225952</td>
    </tr>
    <tr>
      <th>4</th>
      <td>1</td>
      <td>Toy Story (1995)</td>
      <td>Animation|Children's|Comedy</td>
      <td>10</td>
      <td>5</td>
      <td>978226474</td>
    </tr>
  </tbody>
</table>
</div>
</div>

</div>

</div>
</div>

</div>
<div class="cell border-box-sizing code_cell rendered">
<div class="input">
<div class="prompt input_prompt">In&nbsp;[38]:</div>
<div class="inner_cell">
    <div class="input_area">
<div class=" highlight hl-ipython2"><pre><span class="n">data</span> <span class="o">=</span> <span class="n">pd</span><span class="o">.</span><span class="n">merge</span><span class="p">(</span><span class="n">pd</span><span class="o">.</span><span class="n">merge</span><span class="p">(</span><span class="n">movies</span><span class="p">,</span> <span class="n">ratings</span> <span class="p">),</span> <span class="n">users</span><span class="p">)</span>
<span class="n">data</span><span class="o">.</span><span class="n">head</span><span class="p">()</span>
</pre></div>

</div>
</div>
</div>

<div class="output_wrapper">
<div class="output">


<div class="output_area"><div class="prompt output_prompt">Out[38]:</div>

<div class="output_html rendered_html output_subarea output_execute_result">
<div>
<table border="1" class="dataframe">
  <thead>
    <tr style="text-align: right;">
      <th></th>
      <th>movie_id</th>
      <th>title</th>
      <th>genres</th>
      <th>user_id</th>
      <th>rating</th>
      <th>timestamp</th>
      <th>gender</th>
      <th>age</th>
      <th>occupation</th>
      <th>zip</th>
    </tr>
  </thead>
  <tbody>
    <tr>
      <th>0</th>
      <td>1</td>
      <td>Toy Story (1995)</td>
      <td>Animation|Children's|Comedy</td>
      <td>1</td>
      <td>5</td>
      <td>978824268</td>
      <td>F</td>
      <td>1</td>
      <td>10</td>
      <td>48067</td>
    </tr>
    <tr>
      <th>1</th>
      <td>48</td>
      <td>Pocahontas (1995)</td>
      <td>Animation|Children's|Musical|Romance</td>
      <td>1</td>
      <td>5</td>
      <td>978824351</td>
      <td>F</td>
      <td>1</td>
      <td>10</td>
      <td>48067</td>
    </tr>
    <tr>
      <th>2</th>
      <td>150</td>
      <td>Apollo 13 (1995)</td>
      <td>Drama</td>
      <td>1</td>
      <td>5</td>
      <td>978301777</td>
      <td>F</td>
      <td>1</td>
      <td>10</td>
      <td>48067</td>
    </tr>
    <tr>
      <th>3</th>
      <td>260</td>
      <td>Star Wars: Episode IV - A New Hope (1977)</td>
      <td>Action|Adventure|Fantasy|Sci-Fi</td>
      <td>1</td>
      <td>4</td>
      <td>978300760</td>
      <td>F</td>
      <td>1</td>
      <td>10</td>
      <td>48067</td>
    </tr>
    <tr>
      <th>4</th>
      <td>527</td>
      <td>Schindler's List (1993)</td>
      <td>Drama|War</td>
      <td>1</td>
      <td>5</td>
      <td>978824195</td>
      <td>F</td>
      <td>1</td>
      <td>10</td>
      <td>48067</td>
    </tr>
  </tbody>
</table>
</div>
</div>

</div>

</div>
</div>

</div>
<div class="cell border-box-sizing code_cell rendered">
<div class="input">
<div class="prompt input_prompt">In&nbsp;[40]:</div>
<div class="inner_cell">
    <div class="input_area">
<div class=" highlight hl-ipython2"><pre><span class="c1">## Write this dataframe to a csv file</span>
<span class="c1"># http://pandas.pydata.org/pandas-docs/dev/generated/pandas.DataFrame.to_csv.html</span>

<span class="n">data</span><span class="o">.</span><span class="n">to_csv</span><span class="p">(</span><span class="s1">&#39;../NoteBooks/pydata-book/ch02/movielens/mergeddata.csv&#39;</span><span class="p">,</span> <span class="n">index</span><span class="o">=</span><span class="bp">False</span><span class="p">)</span>
<span class="o">!</span>wc -l <span class="s1">&#39;../NoteBooks/pydata-book/ch02/movielens/mergeddata.csv&#39;</span><span class="p">;</span>
</pre></div>

</div>
</div>
</div>

<div class="output_wrapper">
<div class="output">


<div class="output_area"><div class="prompt"></div>
<div class="output_subarea output_stream output_stdout output_text">
<pre> 1000210 ../NoteBooks/pydata-book/ch02/movielens/mergeddata.csv
</pre>
</div>
</div>

</div>
</div>

</div>
<div class="cell border-box-sizing code_cell rendered">
<div class="input">
<div class="prompt input_prompt">In&nbsp;[41]:</div>
<div class="inner_cell">
    <div class="input_area">
<div class=" highlight hl-ipython2"><pre><span class="o">!</span>head -5 <span class="s1">&#39;../NoteBooks/pydata-book/ch02/movielens/mergeddata.csv&#39;</span>
</pre></div>

</div>
</div>
</div>

<div class="output_wrapper">
<div class="output">


<div class="output_area"><div class="prompt"></div>
<div class="output_subarea output_stream output_stdout output_text">
<pre>movie_id,title,genres,user_id,rating,timestamp,gender,age,occupation,zip
1,Toy Story (1995),Animation|Children&apos;s|Comedy,1,5,978824268,F,1,10,48067
48,Pocahontas (1995),Animation|Children&apos;s|Musical|Romance,1,5,978824351,F,1,10,48067
150,Apollo 13 (1995),Drama,1,5,978301777,F,1,10,48067
260,Star Wars: Episode IV - A New Hope (1977),Action|Adventure|Fantasy|Sci-Fi,1,4,978300760,F,1,10,48067
</pre>
</div>
</div>

</div>
</div>

</div>
<div class="cell border-box-sizing text_cell rendered">
<div class="prompt input_prompt">
</div>
<div class="inner_cell">
<div class="text_cell_render border-box-sizing rendered_html">
<h1 id="Analysis">Analysis<a class="anchor-link" href="#Analysis">&#182;</a></h1><ul>
<li>See <a href="http://nbviewer.ipython.org/url/maartenmarx.nl/teaching/Proefstuderen/NoteBooks/Movielens_data.ipynb">http://nbviewer.ipython.org/url/maartenmarx.nl/teaching/Proefstuderen/NoteBooks/Movielens_data.ipynb</a></li>
<li>Notebook: <a href="http://maartenmarx.nl/teaching/Proefstuderen/NoteBooks/Movielens_data.ipynb">http://maartenmarx.nl/teaching/Proefstuderen/NoteBooks/Movielens_data.ipynb</a></li>
</ul>

</div>
</div>
</div>
<div class="cell border-box-sizing text_cell rendered">
<div class="prompt input_prompt">
</div>
<div class="inner_cell">
<div class="text_cell_render border-box-sizing rendered_html">
<h1 id="Chapter-2:-analyse-baby-names">Chapter 2: analyse baby names<a class="anchor-link" href="#Chapter-2:-analyse-baby-names">&#182;</a></h1><p>Fantastic diachronic dataset: 1880-2010</p>

<pre><code>“       name sex  births  year
0       Mary   F    7065  1880
1       Anna   F    2604  1880
2       Emma   F    2003  1880
3  Elizabeth   F    1939  1880
4     Minnie   F    1746  1880
5   Margaret   F    1578  1880
6        Ida   F    1472  1880
7      Alice   F    1414  1880
8     Bertha   F    1320  1880
9      Sarah   F    1288  1880”</code></pre>

</div>
</div>
</div>
<div class="cell border-box-sizing text_cell rendered">
<div class="prompt input_prompt">
</div>
<div class="inner_cell">
<div class="text_cell_render border-box-sizing rendered_html">
<h1 id="Chapter-2:-analyse-baby-names">Chapter 2: analyse baby names<a class="anchor-link" href="#Chapter-2:-analyse-baby-names">&#182;</a></h1><ol>
<li>Import data<ul>
<li>niet zo makkelijk, want verspreid over een csv file voor elk jaar</li>
</ul>
</li>
<li>Analyse</li>
</ol>
<h3 id="Voorbeeld-vragen">Voorbeeld vragen<a class="anchor-link" href="#Voorbeeld-vragen">&#182;</a></h3><ul>
<li>Visualize the proportion of babies given a particular name (your own, or another name) over time.</li>
<li>Determine the relative rank of a name.</li>
<li>Determine the most popular names in each year or the names with largest increases or decreases.</li>
<li>Analyze trends in names: vowels, consonants, length, overall diversity, changes in spelling, first and last letters</li>
<li>Analyze external sources of trends: biblical names, celebrities, demographic changes </li>
</ul>

</div>
</div>
</div>
<div class="cell border-box-sizing text_cell rendered">
<div class="prompt input_prompt">
</div>
<div class="inner_cell">
<div class="text_cell_render border-box-sizing rendered_html">
<h1 id="Import-data">Import data<a class="anchor-link" href="#Import-data">&#182;</a></h1><ul>
<li>Each file has the same 3 columns: <code>name sex  births</code></li>
<li>So, we can add an extra column <code>year</code> <ul>
<li>with a constant value for each file</li>
</ul>
</li>
<li>and just concatenate all files<ul>
<li>we could do that at the file level,</li>
<li>but also in pandas using <code>pd.concat</code></li>
</ul>
</li>
</ul>

</div>
</div>
</div>
<div class="cell border-box-sizing code_cell rendered">
<div class="input">
<div class="prompt input_prompt">In&nbsp;[42]:</div>
<div class="inner_cell">
    <div class="input_area">
<div class=" highlight hl-ipython2"><pre><span class="c1"># Inspect one file</span>
<span class="kn">import</span> <span class="nn">pandas</span> <span class="kn">as</span> <span class="nn">pd</span>
<span class="n">names1880</span> <span class="o">=</span> <span class="n">pd</span><span class="o">.</span><span class="n">read_csv</span><span class="p">(</span><span class="s1">&#39;../NoteBooks/pydata-book/ch02/names/yob1880.txt&#39;</span><span class="p">,</span> <span class="n">names</span><span class="o">=</span><span class="p">[</span><span class="s1">&#39;name&#39;</span><span class="p">,</span> <span class="s1">&#39;sex&#39;</span><span class="p">,</span> <span class="s1">&#39;births&#39;</span><span class="p">])</span>
<span class="n">names1880</span><span class="o">.</span><span class="n">head</span><span class="p">()</span>
</pre></div>

</div>
</div>
</div>

<div class="output_wrapper">
<div class="output">


<div class="output_area"><div class="prompt output_prompt">Out[42]:</div>

<div class="output_html rendered_html output_subarea output_execute_result">
<div>
<table border="1" class="dataframe">
  <thead>
    <tr style="text-align: right;">
      <th></th>
      <th>name</th>
      <th>sex</th>
      <th>births</th>
    </tr>
  </thead>
  <tbody>
    <tr>
      <th>0</th>
      <td>Mary</td>
      <td>F</td>
      <td>7065</td>
    </tr>
    <tr>
      <th>1</th>
      <td>Anna</td>
      <td>F</td>
      <td>2604</td>
    </tr>
    <tr>
      <th>2</th>
      <td>Emma</td>
      <td>F</td>
      <td>2003</td>
    </tr>
    <tr>
      <th>3</th>
      <td>Elizabeth</td>
      <td>F</td>
      <td>1939</td>
    </tr>
    <tr>
      <th>4</th>
      <td>Minnie</td>
      <td>F</td>
      <td>1746</td>
    </tr>
  </tbody>
</table>
</div>
</div>

</div>

</div>
</div>

</div>
<div class="cell border-box-sizing code_cell rendered">
<div class="input">
<div class="prompt input_prompt">In&nbsp;[43]:</div>
<div class="inner_cell">
    <div class="input_area">
<div class=" highlight hl-ipython2"><pre><span class="c1"># Concatenate them all</span>
<span class="c1"># 2010 is the last available year right now</span>
<span class="n">years</span> <span class="o">=</span> <span class="nb">range</span><span class="p">(</span><span class="mi">1880</span><span class="p">,</span>  <span class="mi">2011</span><span class="p">)</span>

<span class="n">pieces</span> <span class="o">=</span> <span class="p">[]</span>
<span class="n">columns</span> <span class="o">=</span> <span class="p">[</span><span class="s1">&#39;name&#39;</span><span class="p">,</span> <span class="s1">&#39;sex&#39;</span><span class="p">,</span> <span class="s1">&#39;births&#39;</span><span class="p">]</span>

<span class="k">for</span> <span class="n">year</span> <span class="ow">in</span> <span class="n">years</span><span class="p">:</span>
    <span class="n">path</span> <span class="o">=</span> <span class="s1">&#39;../NoteBooks/pydata-book/ch02/names/yob</span><span class="si">%d</span><span class="s1">.txt&#39;</span> <span class="o">%</span> <span class="n">year</span>
    <span class="n">frame</span> <span class="o">=</span> <span class="n">pd</span><span class="o">.</span><span class="n">read_csv</span><span class="p">(</span><span class="n">path</span><span class="p">,</span> <span class="n">names</span><span class="o">=</span><span class="n">columns</span><span class="p">)</span>

    <span class="n">frame</span><span class="p">[</span><span class="s1">&#39;year&#39;</span><span class="p">]</span> <span class="o">=</span> <span class="n">year</span>
    <span class="n">pieces</span><span class="o">.</span><span class="n">append</span><span class="p">(</span><span class="n">frame</span><span class="p">)</span>

<span class="c1"># Concatenate everything into a single DataFrame</span>
<span class="n">names</span> <span class="o">=</span> <span class="n">pd</span><span class="o">.</span><span class="n">concat</span><span class="p">(</span><span class="n">pieces</span><span class="p">,</span> <span class="n">ignore_index</span><span class="o">=</span><span class="bp">True</span><span class="p">)</span>
</pre></div>

</div>
</div>
</div>

</div>
<div class="cell border-box-sizing code_cell rendered">
<div class="input">
<div class="prompt input_prompt">In&nbsp;[29]:</div>
<div class="inner_cell">
    <div class="input_area">
<div class=" highlight hl-ipython2"><pre><span class="c1"># check</span>
<span class="n">names</span><span class="o">.</span><span class="n">tail</span><span class="p">()</span>
</pre></div>

</div>
</div>
</div>

<div class="output_wrapper">
<div class="output">


<div class="output_area"><div class="prompt output_prompt">Out[29]:</div>

<div class="output_html rendered_html output_subarea output_execute_result">
<div>
<table border="1" class="dataframe">
  <thead>
    <tr style="text-align: right;">
      <th></th>
      <th>name</th>
      <th>sex</th>
      <th>births</th>
      <th>year</th>
    </tr>
  </thead>
  <tbody>
    <tr>
      <th>1690779</th>
      <td>Zymaire</td>
      <td>M</td>
      <td>5</td>
      <td>2010</td>
    </tr>
    <tr>
      <th>1690780</th>
      <td>Zyonne</td>
      <td>M</td>
      <td>5</td>
      <td>2010</td>
    </tr>
    <tr>
      <th>1690781</th>
      <td>Zyquarius</td>
      <td>M</td>
      <td>5</td>
      <td>2010</td>
    </tr>
    <tr>
      <th>1690782</th>
      <td>Zyran</td>
      <td>M</td>
      <td>5</td>
      <td>2010</td>
    </tr>
    <tr>
      <th>1690783</th>
      <td>Zzyzx</td>
      <td>M</td>
      <td>5</td>
      <td>2010</td>
    </tr>
  </tbody>
</table>
</div>
</div>

</div>

</div>
</div>

</div>
<div class="cell border-box-sizing text_cell rendered">
<div class="prompt input_prompt">
</div>
<div class="inner_cell">
<div class="text_cell_render border-box-sizing rendered_html">
<h1 id="Exercise">Exercise<a class="anchor-link" href="#Exercise">&#182;</a></h1><blockquote><p>How many unique names are there in this dataset?</p>
</blockquote>

</div>
</div>
</div>
<div class="cell border-box-sizing code_cell rendered">
<div class="input">
<div class="prompt input_prompt">In&nbsp;[30]:</div>
<div class="inner_cell">
    <div class="input_area">
<div class=" highlight hl-ipython2"><pre><span class="nb">len</span><span class="p">(</span><span class="n">names</span><span class="o">.</span><span class="n">name</span><span class="p">),</span> <span class="nb">len</span><span class="p">(</span><span class="nb">set</span><span class="p">(</span><span class="n">names</span><span class="o">.</span><span class="n">name</span><span class="p">))</span>
</pre></div>

</div>
</div>
</div>

<div class="output_wrapper">
<div class="output">


<div class="output_area"><div class="prompt output_prompt">Out[30]:</div>


<div class="output_text output_subarea output_execute_result">
<pre>(1690784, 88496)</pre>
</div>

</div>

</div>
</div>

</div>
<div class="cell border-box-sizing text_cell rendered">
<div class="prompt input_prompt">
</div>
<div class="inner_cell">
<div class="text_cell_render border-box-sizing rendered_html">
<h1 id="Exercise">Exercise<a class="anchor-link" href="#Exercise">&#182;</a></h1><blockquote><p>Compute and show the number of births per year per gender.</p>
</blockquote>
<h3 id="What-are-the-operations-you-must-perform?">What are the operations you must perform?<a class="anchor-link" href="#What-are-the-operations-you-must-perform?">&#182;</a></h3>
</div>
</div>
</div>
<div class="cell border-box-sizing text_cell rendered">
<div class="prompt input_prompt">
</div>
<div class="inner_cell">
<div class="text_cell_render border-box-sizing rendered_html">
<ul>
<li>pivot table with <ul>
<li>year as index</li>
<li>gender as column</li>
<li>sum of all births as value</li>
</ul>
</li>
</ul>

</div>
</div>
</div>
<div class="cell border-box-sizing code_cell rendered">
<div class="input">
<div class="prompt input_prompt">In&nbsp;[46]:</div>
<div class="inner_cell">
    <div class="input_area">
<div class=" highlight hl-ipython2"><pre><span class="c1"># in the book </span>
<span class="c1">#total_births = names.pivot_table(&#39;births&#39;, rows=&#39;year&#39;,cols=&#39;sex&#39;, aggfunc=sum)</span>

<span class="c1"># new syntx: see names.pivot_table?</span>
<span class="n">total_births</span> <span class="o">=</span> <span class="n">names</span><span class="o">.</span><span class="n">pivot_table</span><span class="p">(</span><span class="n">values</span><span class="o">=</span><span class="s1">&#39;births&#39;</span><span class="p">,</span> <span class="n">index</span><span class="o">=</span><span class="s1">&#39;year&#39;</span><span class="p">,</span><span class="n">columns</span><span class="o">=</span><span class="s1">&#39;sex&#39;</span><span class="p">,</span> <span class="n">aggfunc</span><span class="o">=</span><span class="nb">sum</span><span class="p">,</span> <span class="n">margins</span><span class="o">=</span><span class="bp">True</span><span class="p">)</span>
<span class="n">total_births</span><span class="o">.</span><span class="n">tail</span><span class="p">()</span>                                 
</pre></div>

</div>
</div>
</div>

<div class="output_wrapper">
<div class="output">


<div class="output_area"><div class="prompt output_prompt">Out[46]:</div>

<div class="output_html rendered_html output_subarea output_execute_result">
<div>
<table border="1" class="dataframe">
  <thead>
    <tr style="text-align: right;">
      <th>sex</th>
      <th>F</th>
      <th>M</th>
      <th>All</th>
    </tr>
    <tr>
      <th>year</th>
      <th></th>
      <th></th>
      <th></th>
    </tr>
  </thead>
  <tbody>
    <tr>
      <th>2007</th>
      <td>1916888</td>
      <td>2069242</td>
      <td>3986130</td>
    </tr>
    <tr>
      <th>2008</th>
      <td>1883645</td>
      <td>2032310</td>
      <td>3915955</td>
    </tr>
    <tr>
      <th>2009</th>
      <td>1827643</td>
      <td>1973359</td>
      <td>3801002</td>
    </tr>
    <tr>
      <th>2010</th>
      <td>1759010</td>
      <td>1898382</td>
      <td>3657392</td>
    </tr>
    <tr>
      <th>All</th>
      <td>159990140</td>
      <td>162412587</td>
      <td>322402727</td>
    </tr>
  </tbody>
</table>
</div>
</div>

</div>

</div>
</div>

</div>
<div class="cell border-box-sizing code_cell rendered">
<div class="input">
<div class="prompt input_prompt">In&nbsp;[47]:</div>
<div class="inner_cell">
    <div class="input_area">
<div class=" highlight hl-ipython2"><pre><span class="c1"># What went wrong here?</span>
<span class="n">total_births</span><span class="o">.</span><span class="n">plot</span><span class="p">();</span>
</pre></div>

</div>
</div>
</div>

<div class="output_wrapper">
<div class="output">


<div class="output_area"><div class="prompt"></div>


<div class="output_png output_subarea ">
<img src="data:image/png;base64,iVBORw0KGgoAAAANSUhEUgAAAW8AAAEVCAYAAAAvhWSzAAAABHNCSVQICAgIfAhkiAAAAAlwSFlz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"
>
</div>

</div>

</div>
</div>

</div>
<div class="cell border-box-sizing code_cell rendered">
<div class="input">
<div class="prompt input_prompt">In&nbsp;[48]:</div>
<div class="inner_cell">
    <div class="input_area">
<div class=" highlight hl-ipython2"><pre><span class="n">total_births</span> <span class="o">=</span> <span class="n">names</span><span class="o">.</span><span class="n">pivot_table</span><span class="p">(</span><span class="n">values</span><span class="o">=</span><span class="s1">&#39;births&#39;</span><span class="p">,</span> <span class="n">index</span><span class="o">=</span><span class="s1">&#39;year&#39;</span><span class="p">,</span><span class="n">columns</span><span class="o">=</span><span class="s1">&#39;sex&#39;</span><span class="p">,</span> <span class="n">aggfunc</span><span class="o">=</span><span class="nb">sum</span><span class="p">)</span>
<span class="n">total_births</span><span class="o">.</span><span class="n">plot</span><span class="p">();</span>
</pre></div>

</div>
</div>
</div>

<div class="output_wrapper">
<div class="output">


<div class="output_area"><div class="prompt"></div>


<div class="output_png output_subarea ">
<img src="data:image/png;base64,iVBORw0KGgoAAAANSUhEUgAAAYwAAAEPCAYAAABRHfM8AAAABHNCSVQICAgIfAhkiAAAAAlwSFlz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"
>
</div>

</div>

</div>
</div>

</div>
<div class="cell border-box-sizing text_cell rendered">
<div class="prompt input_prompt">
</div>
<div class="inner_cell">
<div class="text_cell_render border-box-sizing rendered_html">
<h1 id="Exercise">Exercise<a class="anchor-link" href="#Exercise">&#182;</a></h1><ul>
<li>Print the number of Johns per year.</li>
<li>Print two plots John and Mary per year</li>
</ul>

</div>
</div>
</div>
<div class="cell border-box-sizing code_cell rendered">
<div class="input">
<div class="prompt input_prompt">In&nbsp;[33]:</div>
<div class="inner_cell">
    <div class="input_area">
<div class=" highlight hl-ipython2"><pre><span class="c1"># What were the names of the columns again?</span>

<span class="n">names</span><span class="o">.</span><span class="n">head</span><span class="p">(</span><span class="mi">3</span><span class="p">)</span>
</pre></div>

</div>
</div>
</div>

<div class="output_wrapper">
<div class="output">


<div class="output_area"><div class="prompt output_prompt">Out[33]:</div>

<div class="output_html rendered_html output_subarea output_execute_result">
<div>
<table border="1" class="dataframe">
  <thead>
    <tr style="text-align: right;">
      <th></th>
      <th>name</th>
      <th>sex</th>
      <th>births</th>
      <th>year</th>
    </tr>
  </thead>
  <tbody>
    <tr>
      <th>0</th>
      <td>Mary</td>
      <td>F</td>
      <td>7065</td>
      <td>1880</td>
    </tr>
    <tr>
      <th>1</th>
      <td>Anna</td>
      <td>F</td>
      <td>2604</td>
      <td>1880</td>
    </tr>
    <tr>
      <th>2</th>
      <td>Emma</td>
      <td>F</td>
      <td>2003</td>
      <td>1880</td>
    </tr>
  </tbody>
</table>
</div>
</div>

</div>

</div>
</div>

</div>
<div class="cell border-box-sizing code_cell rendered">
<div class="input">
<div class="prompt input_prompt">In&nbsp;[34]:</div>
<div class="inner_cell">
    <div class="input_area">
<div class=" highlight hl-ipython2"><pre><span class="c1"># restrict to the rows we want</span>
<span class="n">john</span><span class="o">=</span><span class="n">names</span><span class="p">[</span><span class="n">names</span><span class="o">.</span><span class="n">name</span><span class="o">==</span><span class="s1">&#39;John&#39;</span><span class="p">]</span>

<span class="c1"># Do what we did before </span>
<span class="n">john</span><span class="o">.</span><span class="n">pivot_table</span><span class="p">(</span><span class="n">values</span><span class="o">=</span><span class="s1">&#39;births&#39;</span><span class="p">,</span> <span class="n">index</span><span class="o">=</span><span class="s1">&#39;year&#39;</span><span class="p">,</span><span class="n">columns</span><span class="o">=</span><span class="s1">&#39;sex&#39;</span><span class="p">,</span> <span class="n">aggfunc</span><span class="o">=</span><span class="nb">sum</span><span class="p">)</span><span class="o">.</span><span class="n">plot</span><span class="p">();</span>
</pre></div>

</div>
</div>
</div>

<div class="output_wrapper">
<div class="output">


<div class="output_area"><div class="prompt"></div>


<div class="output_png output_subarea ">
<img src="data:image/png;base64,iVBORw0KGgoAAAANSUhEUgAAAX8AAAEPCAYAAACqZsSmAAAABHNCSVQICAgIfAhkiAAAAAlwSFlz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"
>
</div>

</div>

</div>
</div>

</div>
<div class="cell border-box-sizing code_cell rendered">
<div class="input">
<div class="prompt input_prompt">In&nbsp;[51]:</div>
<div class="inner_cell">
    <div class="input_area">
<div class=" highlight hl-ipython2"><pre><span class="c1"># multiple plots</span>
<span class="c1"># See http://pandas.pydata.org/pandas-docs/stable/indexing.html#boolean-indexing </span>

<span class="n">subset</span> <span class="o">=</span> <span class="n">names</span><span class="p">[(</span><span class="n">names</span><span class="o">.</span><span class="n">name</span><span class="o">==</span><span class="s1">&#39;John&#39;</span><span class="p">)</span> <span class="o">|</span>  <span class="p">(</span>  <span class="n">names</span><span class="o">.</span><span class="n">name</span><span class="o">==</span> <span class="s1">&#39;Mary&#39;</span><span class="p">)]</span>  <span class="c1"># | = or ; &amp; = and; ~ = not</span>

<span class="n">subset</span><span class="o">.</span><span class="n">head</span><span class="p">()</span>
</pre></div>

</div>
</div>
</div>

<div class="output_wrapper">
<div class="output">


<div class="output_area"><div class="prompt output_prompt">Out[51]:</div>

<div class="output_html rendered_html output_subarea output_execute_result">
<div>
<table border="1" class="dataframe">
  <thead>
    <tr style="text-align: right;">
      <th></th>
      <th>name</th>
      <th>sex</th>
      <th>births</th>
      <th>year</th>
    </tr>
  </thead>
  <tbody>
    <tr>
      <th>0</th>
      <td>Mary</td>
      <td>F</td>
      <td>7065</td>
      <td>1880</td>
    </tr>
    <tr>
      <th>228</th>
      <td>John</td>
      <td>F</td>
      <td>46</td>
      <td>1880</td>
    </tr>
    <tr>
      <th>942</th>
      <td>John</td>
      <td>M</td>
      <td>9655</td>
      <td>1880</td>
    </tr>
    <tr>
      <th>1273</th>
      <td>Mary</td>
      <td>M</td>
      <td>27</td>
      <td>1880</td>
    </tr>
    <tr>
      <th>2000</th>
      <td>Mary</td>
      <td>F</td>
      <td>6919</td>
      <td>1881</td>
    </tr>
  </tbody>
</table>
</div>
</div>

</div>

</div>
</div>

</div>
<div class="cell border-box-sizing code_cell rendered">
<div class="input">
<div class="prompt input_prompt">In&nbsp;[54]:</div>
<div class="inner_cell">
    <div class="input_area">
<div class=" highlight hl-ipython2"><pre><span class="c1"># Now pivot on year and name</span>
<span class="n">johnandmary</span><span class="o">=</span> <span class="n">subset</span><span class="o">.</span><span class="n">pivot_table</span><span class="p">(</span><span class="n">values</span><span class="o">=</span><span class="s1">&#39;births&#39;</span><span class="p">,</span> <span class="n">columns</span><span class="o">=</span><span class="s1">&#39;name&#39;</span> <span class="p">,</span><span class="n">index</span><span class="o">=</span><span class="s1">&#39;year&#39;</span><span class="p">,</span>  <span class="n">aggfunc</span><span class="o">=</span><span class="nb">sum</span><span class="p">)</span>
<span class="n">johnandmary</span><span class="o">.</span><span class="n">head</span><span class="p">(</span><span class="mi">2</span><span class="p">)</span>
</pre></div>

</div>
</div>
</div>

<div class="output_wrapper">
<div class="output">


<div class="output_area"><div class="prompt output_prompt">Out[54]:</div>

<div class="output_html rendered_html output_subarea output_execute_result">
<div>
<table border="1" class="dataframe">
  <thead>
    <tr style="text-align: right;">
      <th>name</th>
      <th>John</th>
      <th>Mary</th>
    </tr>
    <tr>
      <th>year</th>
      <th></th>
      <th></th>
    </tr>
  </thead>
  <tbody>
    <tr>
      <th>1880</th>
      <td>9701</td>
      <td>7092</td>
    </tr>
    <tr>
      <th>1881</th>
      <td>8795</td>
      <td>6948</td>
    </tr>
  </tbody>
</table>
</div>
</div>

</div>

</div>
</div>

</div>
<div class="cell border-box-sizing code_cell rendered">
<div class="input">
<div class="prompt input_prompt">In&nbsp;[36]:</div>
<div class="inner_cell">
    <div class="input_area">
<div class=" highlight hl-ipython2"><pre><span class="n">johnandmary</span><span class="o">.</span><span class="n">plot</span><span class="p">(</span> <span class="n">figsize</span><span class="o">=</span><span class="p">(</span><span class="mi">12</span><span class="p">,</span> <span class="mi">10</span><span class="p">),</span> <span class="n">grid</span><span class="o">=</span><span class="bp">False</span>  <span class="p">,</span> <span class="c1"># subplots=True,</span>
            <span class="n">title</span><span class="o">=</span><span class="s2">&quot;Number of births per year&quot;</span><span class="p">)</span>
</pre></div>

</div>
</div>
</div>

<div class="output_wrapper">
<div class="output">


<div class="output_area"><div class="prompt output_prompt">Out[36]:</div>


<div class="output_text output_subarea output_execute_result">
<pre>&lt;matplotlib.axes._subplots.AxesSubplot at 0x102404e10&gt;</pre>
</div>

</div>

<div class="output_area"><div class="prompt"></div>


<div class="output_png output_subarea ">
<img src="data:image/png;base64,iVBORw0KGgoAAAANSUhEUgAAAs4AAAJoCAYAAAB2qWffAAAABHNCSVQICAgIfAhkiAAAAAlwSFlz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"
>
</div>

</div>

</div>
</div>

</div>
<div class="cell border-box-sizing text_cell rendered">
<div class="prompt input_prompt">
</div>
<div class="inner_cell">
<div class="text_cell_render border-box-sizing rendered_html">
<h2 id="Exercise">Exercise<a class="anchor-link" href="#Exercise">&#182;</a></h2><ul>
<li>Plot the percentage of Johns and Maries per year.</li>
</ul>
<h3 id="Hint">Hint<a class="anchor-link" href="#Hint">&#182;</a></h3><ul>
<li>compute the totals for each year</li>
<li>Define a  new column percentage by dividing by the totals.</li>
</ul>

</div>
</div>
</div>
<div class="cell border-box-sizing code_cell rendered">
<div class="input">
<div class="prompt input_prompt">In&nbsp;[84]:</div>
<div class="inner_cell">
    <div class="input_area">
<div class=" highlight hl-ipython2"><pre><span class="c1"># Step 1: get the totals </span>
<span class="n">p</span><span class="o">=</span> <span class="n">names</span><span class="o">.</span><span class="n">pivot_table</span><span class="p">(</span><span class="n">values</span><span class="o">=</span><span class="s1">&#39;births&#39;</span><span class="p">,</span> <span class="n">columns</span><span class="o">=</span><span class="s1">&#39;name&#39;</span> <span class="p">,</span><span class="n">index</span><span class="o">=</span><span class="s1">&#39;year&#39;</span><span class="p">,</span>  <span class="n">aggfunc</span><span class="o">=</span><span class="nb">sum</span><span class="p">,</span> <span class="n">margins</span><span class="o">=</span><span class="bp">True</span><span class="p">)</span>
<span class="n">p</span><span class="o">.</span><span class="n">head</span><span class="p">()</span>
</pre></div>

</div>
</div>
</div>

<div class="output_wrapper">
<div class="output">


<div class="output_area"><div class="prompt output_prompt">Out[84]:</div>

<div class="output_html rendered_html output_subarea output_execute_result">
<div>
<table border="1" class="dataframe">
  <thead>
    <tr style="text-align: right;">
      <th>name</th>
      <th>Aaban</th>
      <th>Aabid</th>
      <th>Aabriella</th>
      <th>Aadam</th>
      <th>Aadan</th>
      <th>Aadarsh</th>
      <th>Aaden</th>
      <th>Aadesh</th>
      <th>Aadhav</th>
      <th>Aadhavan</th>
      <th>...</th>
      <th>Zysean</th>
      <th>Zyshaun</th>
      <th>Zyshawn</th>
      <th>Zyshon</th>
      <th>Zyshonne</th>
      <th>Zytavious</th>
      <th>Zyvion</th>
      <th>Zyyanna</th>
      <th>Zzyzx</th>
      <th>All</th>
    </tr>
    <tr>
      <th>year</th>
      <th></th>
      <th></th>
      <th></th>
      <th></th>
      <th></th>
      <th></th>
      <th></th>
      <th></th>
      <th></th>
      <th></th>
      <th></th>
      <th></th>
      <th></th>
      <th></th>
      <th></th>
      <th></th>
      <th></th>
      <th></th>
      <th></th>
      <th></th>
      <th></th>
    </tr>
  </thead>
  <tbody>
    <tr>
      <th>1880</th>
      <td>NaN</td>
      <td>NaN</td>
      <td>NaN</td>
      <td>NaN</td>
      <td>NaN</td>
      <td>NaN</td>
      <td>NaN</td>
      <td>NaN</td>
      <td>NaN</td>
      <td>NaN</td>
      <td>...</td>
      <td>NaN</td>
      <td>NaN</td>
      <td>NaN</td>
      <td>NaN</td>
      <td>NaN</td>
      <td>NaN</td>
      <td>NaN</td>
      <td>NaN</td>
      <td>NaN</td>
      <td>201486</td>
    </tr>
    <tr>
      <th>1881</th>
      <td>NaN</td>
      <td>NaN</td>
      <td>NaN</td>
      <td>NaN</td>
      <td>NaN</td>
      <td>NaN</td>
      <td>NaN</td>
      <td>NaN</td>
      <td>NaN</td>
      <td>NaN</td>
      <td>...</td>
      <td>NaN</td>
      <td>NaN</td>
      <td>NaN</td>
      <td>NaN</td>
      <td>NaN</td>
      <td>NaN</td>
      <td>NaN</td>
      <td>NaN</td>
      <td>NaN</td>
      <td>192703</td>
    </tr>
    <tr>
      <th>1882</th>
      <td>NaN</td>
      <td>NaN</td>
      <td>NaN</td>
      <td>NaN</td>
      <td>NaN</td>
      <td>NaN</td>
      <td>NaN</td>
      <td>NaN</td>
      <td>NaN</td>
      <td>NaN</td>
      <td>...</td>
      <td>NaN</td>
      <td>NaN</td>
      <td>NaN</td>
      <td>NaN</td>
      <td>NaN</td>
      <td>NaN</td>
      <td>NaN</td>
      <td>NaN</td>
      <td>NaN</td>
      <td>221538</td>
    </tr>
    <tr>
      <th>1883</th>
      <td>NaN</td>
      <td>NaN</td>
      <td>NaN</td>
      <td>NaN</td>
      <td>NaN</td>
      <td>NaN</td>
      <td>NaN</td>
      <td>NaN</td>
      <td>NaN</td>
      <td>NaN</td>
      <td>...</td>
      <td>NaN</td>
      <td>NaN</td>
      <td>NaN</td>
      <td>NaN</td>
      <td>NaN</td>
      <td>NaN</td>
      <td>NaN</td>
      <td>NaN</td>
      <td>NaN</td>
      <td>216954</td>
    </tr>
    <tr>
      <th>1884</th>
      <td>NaN</td>
      <td>NaN</td>
      <td>NaN</td>
      <td>NaN</td>
      <td>NaN</td>
      <td>NaN</td>
      <td>NaN</td>
      <td>NaN</td>
      <td>NaN</td>
      <td>NaN</td>
      <td>...</td>
      <td>NaN</td>
      <td>NaN</td>
      <td>NaN</td>
      <td>NaN</td>
      <td>NaN</td>
      <td>NaN</td>
      <td>NaN</td>
      <td>NaN</td>
      <td>NaN</td>
      <td>243466</td>
    </tr>
  </tbody>
</table>
<p>5 rows × 88497 columns</p>
</div>
</div>

</div>

</div>
</div>

</div>
<div class="cell border-box-sizing code_cell rendered">
<div class="input">
<div class="prompt input_prompt">In&nbsp;[85]:</div>
<div class="inner_cell">
    <div class="input_area">
<div class=" highlight hl-ipython2"><pre><span class="c1"># Step 2: percentages</span>
<span class="p">((</span><span class="n">p</span><span class="o">.</span><span class="n">John</span> <span class="o">/</span><span class="n">p</span><span class="o">.</span><span class="n">All</span><span class="p">)</span><span class="o">*</span><span class="mi">100</span><span class="p">)</span><span class="o">.</span><span class="n">head</span><span class="p">()</span>
</pre></div>

</div>
</div>
</div>

<div class="output_wrapper">
<div class="output">


<div class="output_area"><div class="prompt output_prompt">Out[85]:</div>


<div class="output_text output_subarea output_execute_result">
<pre>year
1880    4.814727
1881    4.564018
1882    4.331988
1883    4.117924
1884    3.871999
dtype: float64</pre>
</div>

</div>

</div>
</div>

</div>
<div class="cell border-box-sizing code_cell rendered">
<div class="input">
<div class="prompt input_prompt">In&nbsp;[86]:</div>
<div class="inner_cell">
    <div class="input_area">
<div class=" highlight hl-ipython2"><pre><span class="c1"># nicely round them</span>
<span class="p">((</span><span class="n">p</span><span class="o">.</span><span class="n">John</span> <span class="o">/</span><span class="n">p</span><span class="o">.</span><span class="n">All</span><span class="p">)</span><span class="o">*</span><span class="mi">100</span><span class="p">)</span><span class="o">.</span><span class="n">apply</span><span class="p">(</span><span class="k">lambda</span> <span class="n">x</span><span class="p">:</span><span class="nb">round</span><span class="p">(</span><span class="n">x</span><span class="p">,</span><span class="mi">2</span><span class="p">))</span><span class="o">.</span><span class="n">head</span><span class="p">()</span>
</pre></div>

</div>
</div>
</div>

<div class="output_wrapper">
<div class="output">


<div class="output_area"><div class="prompt output_prompt">Out[86]:</div>


<div class="output_text output_subarea output_execute_result">
<pre>year
1880    4.81
1881    4.56
1882    4.33
1883    4.12
1884    3.87
dtype: float64</pre>
</div>

</div>

</div>
</div>

</div>
<div class="cell border-box-sizing code_cell rendered">
<div class="input">
<div class="prompt input_prompt">In&nbsp;[72]:</div>
<div class="inner_cell">
    <div class="input_area">
<div class=" highlight hl-ipython2"><pre><span class="c1"># OK , let&#39;s do that for all names in place</span>

<span class="k">for</span> <span class="n">name</span> <span class="ow">in</span> <span class="n">p</span><span class="o">.</span><span class="n">columns</span><span class="p">:</span>
    <span class="n">p</span><span class="p">[</span><span class="n">name</span><span class="p">]</span><span class="o">=</span> <span class="p">((</span><span class="n">p</span><span class="p">[</span><span class="n">name</span><span class="p">]</span> <span class="o">/</span><span class="n">p</span><span class="o">.</span><span class="n">All</span><span class="p">)</span><span class="o">*</span><span class="mi">100</span><span class="p">)</span><span class="o">.</span><span class="n">apply</span><span class="p">(</span><span class="k">lambda</span> <span class="n">x</span><span class="p">:</span><span class="nb">round</span><span class="p">(</span><span class="n">x</span><span class="p">,</span><span class="mi">2</span><span class="p">))</span>
</pre></div>

</div>
</div>
</div>

</div>
<div class="cell border-box-sizing code_cell rendered">
<div class="input">
<div class="prompt input_prompt">In&nbsp;[73]:</div>
<div class="inner_cell">
    <div class="input_area">
<div class=" highlight hl-ipython2"><pre><span class="n">p</span><span class="o">.</span><span class="n">John</span><span class="o">.</span><span class="n">head</span><span class="p">()</span>
</pre></div>

</div>
</div>
</div>

<div class="output_wrapper">
<div class="output">


<div class="output_area"><div class="prompt output_prompt">Out[73]:</div>


<div class="output_text output_subarea output_execute_result">
<pre>year
1880    4.81
1881    4.56
1882    4.33
1883    4.12
1884    3.87
Name: John, dtype: float64</pre>
</div>

</div>

</div>
</div>

</div>
<div class="cell border-box-sizing code_cell rendered">
<div class="input">
<div class="prompt input_prompt">In&nbsp;[77]:</div>
<div class="inner_cell">
    <div class="input_area">
<div class=" highlight hl-ipython2"><pre><span class="n">pd</span><span class="o">.</span><span class="n">DataFrame</span><span class="p">(</span><span class="n">p</span><span class="o">.</span><span class="n">John</span><span class="p">)</span><span class="o">.</span><span class="n">plot</span><span class="p">()</span>
<span class="n">pd</span><span class="o">.</span><span class="n">DataFrame</span><span class="p">(</span><span class="n">p</span><span class="o">.</span><span class="n">Mary</span><span class="p">)</span><span class="o">.</span><span class="n">plot</span><span class="p">()</span>
</pre></div>

</div>
</div>
</div>

<div class="output_wrapper">
<div class="output">


<div class="output_area"><div class="prompt output_prompt">Out[77]:</div>


<div class="output_text output_subarea output_execute_result">
<pre>&lt;matplotlib.axes._subplots.AxesSubplot at 0x10de5e190&gt;</pre>
</div>

</div>

<div class="output_area"><div class="prompt"></div>


<div class="output_png output_subarea ">
<img src="data:image/png;base64,iVBORw0KGgoAAAANSUhEUgAAAWkAAAEPCAYAAACA1jUJAAAABHNCSVQICAgIfAhkiAAAAAlwSFlz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"
>
</div>

</div>

<div class="output_area"><div class="prompt"></div>


<div class="output_png output_subarea ">
<img src="data:image/png;base64,iVBORw0KGgoAAAANSUhEUgAAAXAAAAEPCAYAAABbbZ8rAAAABHNCSVQICAgIfAhkiAAAAAlwSFlz
AAALEgAACxIB0t1+/AAAIABJREFUeJzt3XeYlNXZx/HvDUixUWKQLqIQBTWACmg0jA0REH2NBQug
RiU2eCW2GBPXGFuSVxMVERWMgLHEghBRBGEEC4JSBBEV1ARQUSGAFMWV+/3jPMCybJndnd1nZuf3
ua69fMqZmfuw7r1nz3OKuTsiIpJ9asQdgIiIlI8SuIhIllICFxHJUkrgIiJZSglcRCRLKYGLiGSp
lBK4mdU0s7lmNqGIewkzWxvdn2tmN6Y/TBERKaxWiuWGAIuAPYq5/6q7901PSCIikopSW+Bm1gLo
BTwMWHHF0hmUiIiULpUulLuBa4Atxdx34Egzm29mE82sfdqiExGRYpWYwM2sD/Clu8+l+Fb2HKCl
u/8UuBcYl94QRUSkKFbSWihmdhvQH8gH6gJ7As+4+4ASXvMJcKi7ry50XYuuiIiUg7sX2YAusQXu
7je4e0t33xfoB0wtnLzNbG8zs+i4C+GXwuoi3g53rxZfN910U+wxqC6qSzZ9Vaf6VHVdSpLqKJRt
OThK1IOihDwCOB241MzygY1RohcRkUqWcgJ391eBV6PjEQWuDwOGpT80EREpiWZilkMikYg7hLRR
XTJTdaoLVK/6ZFJdSnyImdYPMvOq+iwRkerCzPBiHmKWtQ9cRKRcorEOUoKyNnKVwEWkyuiv8OKV
5xec+sBFRLKUEriISJZSAhcRyVJK4CIiWUoJXERyXuvWralTpw6rVq3a4XqnTp2oUaMG//nPf2KK
rGRK4CKS88yMNm3a8Pjjj2+7tmDBAjZt2lSu0SH5+fnpDK9YSuAiIsB5553H6NGjt50/+uijDBgw
YNvQxxdeeIFOnTpRv359WrVqxc0337yt7KeffkqNGjUYNWoU++yzD8cddxx9+vThvvvu2+EzDjnk
EJ5//vm0xawELiICdOvWjXXr1rF48WJ++OEHnnzySc4777xt93fffXfGjh3L2rVreeGFFxg+fPhO
yXj69OksXryYSZMmMXDgQMaOHbvt3vz58/nss8/o3bt32mJWAheRjGFW8a+K6N+/P6NHj2by5Mm0
b9+e5s2bb7vXvXt3OnToAMDBBx9Mv379ePXVV3d4fV5eHvXq1aNu3bqcfPLJfPjhhyxduhSAMWPG
0K9fP2rVSt/8SSVwEckY7hX/Ki8zo3///jz22GM7dZ8AvPXWWxxzzDE0btyYBg0aMGLEiJ0eerZs
2XLbcd26dTnzzDMZM2YM7s4TTzxB//79yx9gEaptAt9S3A6eIiLFaNWqFW3atOHFF1/ktNNO23bd
3TnnnHM49dRTWb58OWvWrOFXv/oVWwolmsIPPAcOHMhjjz3GlClT2HXXXenatWta462WCfwPf4AB
xW76JiJSvJEjRzJ16lTq1au3w/X169fTsGFDateuzaxZs/jHP/5R6giVI444AjPj6quvZkAlJKWU
EriZ1TSzuWY2oZj795jZR9HO9J3SG2LZvPsu3HsvTJgA69bFGYmIZKM2bdrQuXPnbedmhplx//33
8/vf/54999yTW265hbPOOmuH1xWXzAcMGMCCBQt2eCCaLimtB25mQ4FDgT3cvW+he72AK9y9l5l1
Bf7m7t2KeI9KWQ/8jTdg6VI499zQ/3XEEXDxxTB+PJx1FlTCv5mIlEO0rnXcYVS5MWPG8NBDDzF9
+vQSyxX371Oh9cDNrAXQC7gVGFpEkb7AowDu/paZNTCzvd19ZWnvXVb5+VCz5vYnze5w2WWwcWNo
dXftCrvtBhddBLvuCo8/rgQuIvHZuHEjw4YN44orrqiU90+lC+Vu4BqguMeCzYFlBc6XAy0qGFeR
+veHa67Zfj5pEvzwA7z/Plx5Jbz+Ojz0UEjwffvCjBmwenVlRCIiUrJJkybRuHFjmjZtyjnnnFMp
n1FiC9zM+gBfuvtcM0uUVLTQeZF/J+Xl5W07TiQSZdpb7osv4KWXoE4dOOOM0Nq+8064/vrQKu/f
P3xttcce0KMHPPtsaJGLiFSlE088kfXr15f5dclkkmQymVLZEvvAzew2oD+QD9QF9gSecfcBBco8
ACTd/YnofDHQvXAXSkX7wO+4A5YsgeOOg9tug/vvDyNNPvoIihsX/8wzMHw4TJlS7o8VkTTJ1T7w
VJWnDzzlTY3NrDtwtbufXOh6wYeY3YC/pvsh5pYt0K4dPPYYdOkCJ58Mr70Gt94Kl19e/Os2bYKm
TeHUU0O3Svv2cPXVFZ+tJSJlpwReskp5iFmIR284CMDdR7j7RDPrZWZLgA3ABWV8z1JNmxYeTnbp
EpLv8OGhW+SCUj6pXj148UVYvDicjxgBH38Mw4ZBjWo5Al5EcknKLfAKf1AFWuBnnQVHHw0VfZC7
bh307g1t24aHnTVrpv7ab7+FunUr9vkiuUy70peu0rpQKqq8Cfzzz+HAA+HTT6FBg4rHsWED9OkD
Bx0Uhh5utX49fPZZOK5fH/bee/u9lSvhgAPg7bdhv/0qHkMqNm4MQyFFJLeVlMAzviNh8OAw1jsd
yRtCV8y4cTB1KtxzT7g2c2boH+/dOyT3du3Cw9Gt7rknJP4JRc5DTb/166FNG3j00ar5PBHJThnd
Ah83Dq67DubPT3/3xaefwpFHwimnhNEqDz8cxo4D/OlP4SHp+PGh26VNG7jxxnA+dWrFPvfrr2Gv
vXa8tmbNjr+gbr89/LJYsgQWLNjxrwERyS1Z2QJfuzb0eT/0UOX0PbduHX5B/PvfYTp+3wILBAwZ
Au+9B5Mnw4MPwgknwCWXhC6U//53xxhT/Z20dGkYDdOkCYwZs/36k0/Cj38MjzwSztesgbvuCucX
Xhj+AhERKZK7V8lX+KiSbdniPn26+913u3fv7j5oUKkvqTTPPuveoYN7s2buc+eGa336uP/jH+F4
1Sr3H/3I/eabS3+vBx90b9TI/bbbwns1b+7+8MPuo0e7N23q/tRT7o0bu7/yivvvf+8+cGB43caN
7m3buj//fKVUUUSyQJQ7i8yrGdWFctddYYhfz57QuTOcfXZ8D/Lcw6ShOnXCUEQIfw1MnRrWWBky
JDzcnDkzjEc/99yi32fFCjjkEHjzzdC3DqF//bjjwjIAkyeH/vdp06Bfv7Dey+zZodsGwl8Jd98N
hTb+EJEckRWjUL76KiSyGTPCiI9M8PXXYRJR48bh/PPPoUMHSCZDAl60KCTxY48NY9P33TeMUz/o
INhll/CaAQOgZcuQ5Av6/POQwFsUWDXm8cdDV8uNN26/9uGH0KtX6A8XkdyTFQn8V78Kfd1//WuV
hFNuXbrAl1+GFvhVV4VrU6bAb34TEvI334SHjk89BcuWwWmnhYlEe+xRvs/75pvQb75+vWaQiuSi
dM7ErBTvvgvPPbd9xmQm69s3PIQsOIX/+OPDF4QW+623wmGHQaNG4bi8yRvCa2vUCKNh6tevWOwi
Ur3E2gLPzw8rDN54Y9iEoaR1TTLFpk1hJEqzZiWXe/nl0CUycmTFp+23axeGMGZK15KIVJ2MbIFP
mQIDB0KrVmEt7/PPjyuSsqlXL3yVpkeP8JUOTZuGPnMlcBEpKJYEvm5dGOP80EPhAZ2UrFmz7dP8
RUS2imUiz/XXh9apkndqtrbARUQKqvIW+IwZ8PzzsHBhVX9y9lICF5GiVGkLfPPm8LDy3nuhYcOq
/OTspi4UESlKlSbw++4Lk11OO60qPzX7qQUuIkUptQvFzOoCrwJ1gNrA8+7+m0JlEsDzwMfRpWfc
/Y+F3+v222H69IqGnHuUwEWkKKUmcHf/1syOcfeNZlYLeM3MjnL31woVfdXd+xb1Hludc07YnEHK
Rl0oIlKUlLpQ3H1jdFgbqAmsLqJYqRO9b7op9cBkuz33DNP016+POxIRySQpJXAzq2Fm84CVwDR3
X1SoiANHmtl8M5toZu2Lep9GjSoWbK4yUzeKiOwspWGE7r4F6Ghm9YFJZpZw92SBInOAllE3y0nA
OKBd4ffJy8vbdpxIJEgkEuWPPMds7UZp2zbuSESkMiWTSZLJZEply7wWipn9Dtjk7n8pocwnwKHu
vrrAtVLXA5finXlmGL3Tr1/ckYhIVarQlmpmtpeZNYiO6wEnAHMLldnbLCx2amZdCL8Yiuonl3Jq
1kxdKCKyo1S6UJoCj5pZDULCH+Pur5jZIAB3HwGcDlxqZvnARkDtxDRr2lQjUURkRxmzoYOUbPTo
sETt2LFxRyIiVSkrd6WXHWksuIgUpgSeJTSMUEQKUwLPEkrgIlKYEniWaNgQvv0WNm4svayI5AYl
8Cyh2ZgiUpgSeBZp2hRWrIg7ChHJFErgWeTUU+Hyy2HlyrgjEZFMENuu9FJ211wT+sETCXjllTC0
UERylxJ4FjGD3/8e6tSBww6DSy6BCy6AffaJOzIRiYO6ULLQddfBxImwahUceiicfTYsW7ZjmS1b
4NFHoVMn+Pe/44lTRCqXptJnuQ0b4M47YdgwuOgiaN48JO/HHw/3998fdt0VHnqo+Pdwh0mToHFj
6Ny5auIWkdSUNJVeCbya+PRTGD4cNm0K5126hC3s1q4Na4jPnBmSeWHz58PgwbB6NXzzTRhvfsUV
cOGFoctGROKlBJ7jbrkFPvwQxowJ5/n5oQtm5MiQ2G++GS6+OCTsV16B3/4WWraERx4J27mJSHyU
wHPcunWh9T1qFLz+eugbb906dLmceSbsvvuO5b/7Dq66KiTzYcPg2GOhhp6WiMRCCVy4+2647TYY
ODB0j7QvctfSHT3xBNx+e+haufRS+PWvlchFqpoSuLD1n76s/dru8M47oV/8+OPhj39Mf2wiUrxy
rwduZnXN7C0zm2dmi8zs9mLK3WNmH0W70ndKR9CSXmbleyhpFsacT5gQWuSPPLJzmeXL4Y03Kh6j
iJRNiRN53P1bMzsm2m2+FvCamR3l7q9tLWNmvYD93b2tmXUFhgPdKjdsqWo//jH861/QvXvoPz/m
mHDdPfSlv/MOfPQRNGgQa5giOaXUHk1337qAaW2gJlB4s+K+wKNR2beABma2dzqDlMxwwAHw2GNw
7rnb12OZOBE++QT69AmjXUSk6qSyK30NM5sHrASmufuiQkWaAwXnAS4HWqQvRMkkxx8Pv/wl9O8f
RqsMHQp33QV33BFGt3z4YdwRiuSOUtdCcfctQEczqw9MMrOEuycLFSvcu1rk08q8vLxtx4lEgkQi
UZZYJUPcdFPoQvn5z2HffaFXr9BXft11cPXVMH583BGKZK9kMkkymUypbJlGoZjZ74BN7v6XAtce
AJLu/kR0vhjo7u4rC71Wo1CqkWXL4IQT4JlnoEOHcO277+Dgg+F3vwstdBGpuIqMQtnLzBpEx/WA
E4C5hYqNBwZEZboBawonb6l+WraExYu3J28IqySOGxfGi0+fHl9sIrmitD7wpsDUqA/8LWCCu79i
ZoPMbBCAu08EPjazJcAI4LJKjVgyWvv28I9/hBme6g8XqVyayCOVYtQouPJK+MlPwgqHJ58c+sp3
2SXuyESyi2ZiSiw2boQFC2D27DAJaOnSMILl2mu1SJZIqpTAJSO8/z78+c/w0ktw661hXRatrSJS
MiVwySizZ4fNmTt0CF0tWndcpHjlHoUiUhkOPxymTYN33w2rHYpI+WhTY4nFbruFBbKOOAL22w/O
OivuiESyj1rgEptmzUISHzwY/vd/Yc2auCMSyS5K4BKrQw6BhQvDXp4HHAAvvxx3RCLZQw8xJWP8
619hLZX33oOaNeOORiQz6CGmZIXevaF+fXj++bgjEckOSuCSMczg+uvD0rT6Y02kdErgklFOOQXW
rQvDDEWkZErgklFq1Ajrit9+u1rhIqXRQ0zJOJs3Q9eukJ8f9tvs0SM81KxdO+zHKZJLNJVess6W
LfDqqzByJMyaFa599RXcfTecf36soYlUKSVwqRbmzQut8XffhSZN4o5GpGpUaBihmbU0s2lm9p6Z
LTSzwUWUSZjZWjObG33dmI7ARQrq2DF0qVx5ZdyRiGSGUlvgZtYEaOLu88xsd+Ad4FR3f79AmQQw
1N37lvA+aoFLhX37Lfz0p3DnnXDqqXFHI1L5KtQCd/cv3H1edLweeB9oVtTnVChKkRTUrQsPPwyX
XAJvvRV3NCLxKtMwQjNrDXQi7I9ZkANHmtl8M5toZu3TE57Izo4+Gh55JGzT9tprcUcjEp+UE3jU
ffI0MCRqiRc0B2jp7j8F7gXGpS9EkZ317g1jx8L//A9MnRp3NCLxSGk9cDPbBXgGGOvuOyVnd/+m
wPGLZna/mTVy99UFy+Xl5W07TiQSJBKJcoYtEkak/POfcMYZIZmfeGLcEYlUXDKZJJlMplQ2lYeY
BjwKrHL3q4opszfwpbu7mXUBnnL31oXK6CGmVIo33ggPNEeODN0qItVJhcaBm9lRwHTgXUJfN8AN
QCsAdx9hZpcDlwL5wEbCiJSZhd5HCVwqzezZ0KcP3H8//OIXcUcjkj6ayCM5Yd48OOkk+L//g3PO
iTsakfQoKYFrT0ypNjp2hMmTQ194nTpqiUv1pxa4VDtz5kDPnjBzJrRpE3c0IhWjHXkkp3TuDDfe
GHa637w5XFuxApYtizcukXRTC1yqJfcwMqVePfjmG3jzzbDjz6GHwqBBcNpp4Vwk06kFLjnHDEaN
CuuIn3UWLF8eWuEXXADXXAMTJsQdoUjFqQUuOefll+Hyy2HhwvCwUySTqQUuUkCPHnDAAXDvvXFH
IlIxaoFLTvrgA/jZz2DRImjcOO5oRIqniTwiRRg6NIxSue++uCMRKZ4SuEgRvvgC2reHpUuhYcO4
oxEpmvrARYrQpElYlnbUqLgjESkftcAlp82eDWeeCUuWhCGHIplGLXCRYhx+eGiJ/+tfcUciUnZK
4JLzBg+Ge+6JOwqRslMXiuS8zZuhdeswweegg+KORmRH6kIRKUHt2nDppZrYI9knlR15WgKjgcaE
HXkedPed/uA0s3uAkwg78pzv7nML3VcLXDLWypVhdubSpdCoUdzRiGxX0Rb498BV7t4B6AZcbmYH
FvqAXsD+7t4WuAQYXsGYRarU3nuH/TRHjow7EpHUlZrA3f0Ld58XHa8H3geaFSrWl7DxMe7+FtAg
2uhYJGtceSUMGwb5+XFHIpKaMvWBm1lroBPwVqFbzYGCy+UvB1pUJDCRqnb44dCsmZaaleyRcgI3
s92Bp4EhUUt8pyKFztXhLVln6FC45BI44wy4/XZYvTruiESKl9Kmxma2C/AMMNbdxxVRZAXQssB5
i+jaDvLy8rYdJxIJEolEGUIVqXynnw4HHwzvvAPPPgvnngsvvAA1NF5LqkgymSSZTKZUNpVRKEbo
317l7lcVU6YXcIW79zKzbsBf3b1boTIahSJZ5fvvoXv3sP3a1VfHHY3kqgqtRmhmRwHTgXfZ3i1y
A9AKwN1HROXuA3oCG4AL3H1OofdRApes8+9/Q5cuMH48dO0adzSSi7ScrEgFPPssXHUVTJsGbdrE
HY3kmpISeEp94CK57LTTwkSfRAKmTIF27eKOSCRQAhdJwaWXhg2QjzkGpk6Fn/wk7ohElMBFUnbh
hbBpEwwYAG+8ofXDJX4aHCVSBpddBrvuquVnJTPoIaZIGS1ZAt26hd189t037mikutNysiJptP/+
cO21cPHFsGVL3NFILlMCFymHoUPDolfXXRd3JJLLlMBFyqFWrTA+fPx4eOCBuKORXKVRKCLl1KhR
WCflqKOgZUvo3TvuiCTXqAUuUgH77w/PPQcXXLDjzvavvx7Gi4tUJo1CEUmDWbPCjj633ALJZEje
9eqFLdq0kqFUhEahiFSyLl3gpZfgzjthv/227605ZUrckUl1pha4SCV54IGQwJ9+Ou5IJJtpNUKR
GKxbB/vsA4sXh02TRcpDXSgiMdhzz7CS4d//HnckUl2pBS5SiWbOhP794YMP9DBTyqdCLXAzG2Vm
K81sQTH3E2a21szmRl83VjRgkeqia1fYfXf45z/jjkSqo1S2VDsaWA+MdveDi7ifAIa6e99S3kct
cMlJb7wRNkteuDCMTBEpiwq1wN19BvDf0j6jPIGJ5IIjj4Rf/EIbI0v6paNXzoEjzWy+mU00s/Zp
eE+RauW22+CVVzQuXNIrHWuhzAFauvtGMzsJGAcUuWtgXl7etuNEIkEikUjDx4tkvj32gAcfhPPO
g9GjoUePuCOSTJVMJkkmkymVTWkUipm1BiYU1QdeRNlPgEPdfXWh6+oDl5z36qtw9tlhZ58bbtDI
FCldpY4DN7O9zcyi4y6EXwqrS3mZSE7q3h3efhvGjYP77487Gsl2qYxCeRzoDuwFrARuAnYBcPcR
ZnY5cCmQD2wkjEiZWcT7qAUuEpk7Nyw/u2RJ2GNTpDiaSi+SgU4/PeytqdEpUhIlcJEM9N57cOyx
oRW+xx5xRyOZSmuhiGSgDh3ghBPgb3+LOxLJVmqBi8RoyRI44ggYOxZOPDHuaCQTqQUukqH23x+e
fz4seFVwSzaRVCiBi8TsyCPD5si//CW8+GLc0Ug2UQIXyQCHHw7PPgvnnw/Ll8cdjWSKjz8u+b4S
uEiG+NnPYMgQOOccyM+POxrJBEOGlHxfCVwkg1x/PdSpE3a3F9mwoeT7SuAiGaRGDRgzBkaMgFmz
4o5G4qYELpJlmjSBu+6Ciy6CzZvjjkbipAQukoXOPhtatoQ//SnuSCROpSVwTeQRyVD/+Q907gwz
ZsCBB8YdjcShcWP46itN5BHJOq1aQV4eXHwxbNkSdzQSB3WhiGSxyy4Ddxg+PO5IpKpt2QKbNpVc
Rl0oIhnu/ffh6KNhzpzQKpfcsGED/PjHsGmTulBEstaBB4YJHZdeCj/8EHc0UlU2bIDddiu5TKkJ
3MxGmdlKM1tQQpl7zOyjaGf6TmUPVURKct118N13Ycr9a6+Fa2vWwMyZSurVVVoSOPAI0LO4m2bW
C9jf3dsClwDqrRNJs9q1YfJkuPbaMNV+n32gRQvo0ydM/JHqJy0J3N1nAP8toUhf4NGo7FtAAzPb
O/UwRSQVZtCvHyxeHJL52rXw5JNhrLhGqVQ/6WqBl6Y5sKzA+XKgRRreV0SKsOuu0K4d1KwZtmTb
bTeYMCHuqCTdUkngtdL0WYWfkBY53CQvL2/bcSKRIJFIpOnjRXKTWVgA6/bboW/fcC7ZLZlMkkwm
+eADWLGi5LIpDSM0s9bABHc/uIh7DwBJd38iOl8MdHf3lYXKaRihSCX44Qdo3x4efBC6d487GkmX
J56A556Dp56q3GGE44EBAGbWDVhTOHmLSOWpWROuuQbuuCPuSCSd0jWM8HHgDeAnZrbMzC40s0Fm
NgjA3ScCH5vZEmAEcFmFIxeRMjnvvDDR54MP4o5E0iUtfeDufnYKZa5IPSwRSbe6dcOaKffdB/fe
G3c0kg5VNQpFRDLApZfCY4/BunVxRyLpoAQukkOaN4cePeDvf487EkkHJXCRHDN4cOhC0cSe7KcE
LpJjjjgC6teHZ56JOxKpKCVwkRxjFvbTvOqqsNiVZC8lcJEc9POfh0Wurr027kikIpTARXLUnXfC
iy9CMhl3JFJeSuAiOap+fRg2DAYNgu+/jzsaKQ8lcJEc1rdvGFo4enTckUh5KIGL5LhbboE//CHs
5iPZRQlcJMf97GfQoQM8/HDckUhZpZLAtSu9SDX3zjtw8smwZEnYDEIynzvUqhX+ctplF+1KL5Kz
Dj0UunWDu++OOxJJ1XffhQReq5TlBtUCF8kBn34Khx0Gr78OP/lJ3NFIaVatgrZtYfVqMFMLXCSn
tW4Nv/tdWHJW66RkvlT6v0EJXCRnXHEFbN4ctl6TzJbWBG5mPc1ssZl9ZGbXFXE/YWZrzWxu9HVj
2UMWkcpUsyaMHAm//S38+c8hmUtm2rAhtQfOqWypVhO4D+gJtAfONrMDiyj6qrt3ir7+WMZ4RaQK
dOgAb74ZptgfdBDMmBF3RFKUdLbAuwBL3P1Td/8eeAI4pYhyRXayi0hmadcOXngB/vIXOO00eOml
uCOSwtKZwJsDywqcL4+uFeTAkWY238wmmln7VAMVkXj07QvPPw8DBsD48XFHIwWlmsBL3dSYkJxL
Mwdo6e4bzewkYBzQrnChvLy8bceJRIJEIpHCW4tIZTnySJg4EXr3Dn3ip58ed0SSTCZ57LEkn3wC
BVJmkUodB25m3YA8d+8Znf8G2OLud5bwmk+AQ919dYFrGgcukqHmzYOTTgrdKueeG3c0MmwYLFwI
w4eXPA48lRb420BbM2sNfAacBZxdsICZ7Q186e5uZl0IvxhWF34jEclMHTvClClhU+Svvw5DDmvW
jDuq3JW2PnB3zweuACYBi4An3f19MxtkZoOiYqcDC8xsHvBXoF95AxeReHToEEanPP00HH44vPZa
3BHlrlQTuKbSi8gO3OHJJ8OWbK1awUUXwRlnpJZQJD2uvhoaNw7fA02lF5GUmUG/frB0aUgkzzwD
LVvCJZfArFkhwUvl0lR6EamQXXaBU0+FCRNgwYKwnkq/fqGffNGiuKOr3tI5jFBEclzz5nDDDXDN
NWFkRPfu0LMn/OhH4X7HjsV3s3z7LdStW7XxZjv1gYtIpfnqK3jqqbBh8pYtMG1aWKq2d29o2DB0
s3z+OcyZA8uWwV57QefO0KlT+G/nzqFFL0Xr2RMGD4ZevUruA1cCF5G0+Oyz0N2ydf/Nxo1Dot5v
P1ixIiTzuXPDf2fPhmbNwgPSc86BBg3ijT3THH00/PGP4S8dJXARySg//ACvvBJWR5w0Cfr0Ccn8
6KM1/hzCL74HHwybcGgUiohklJo1w8PQJ58Me3UedhgMGQL164fp/UOHhtZ6rlIfuIhknbVrw7T+
adPg73+HRo3ChsydO4flb+vU2bF8zZrQpEkY+rjVmjWwxx7Z3ZJv0QLeeCOMw1cXiohknS1bYOrU
MDt0zpwwdDE/f8cymzeHr06dQtKeOzfsI1mjBhxySNhXcmsib916+0PUpk13TPqZpmHD8JfJj36k
BC4i1dhyRGdGAAAIhUlEQVTXX4fEvW5dSND77ru9Jf/xx2FEzJYt4XjOnPBVs+aOI2K2vi5Tknrt
2qE+desqgYuIbOMOy5dvHxGzdXTM+vUhkW9N7Iccsr0fukGD0J1TFb7/PiTu/PzwC0UJXESkFF9+
uT2pz50bZp9uHRK5alVI4luTe6dOYWejgt0ztdI0LXLNmtD3vW5dOFcCFxGpgK1dMAVb7Vu7Z/Lz
Q6t54MAdZ6M2aQJ77ln2z1qxIozK+fzzcK4ELiJSiRYtCmPaX3wxJHT3MLGpWbOwNO+558KJJ6bW
Sv/wwzADc8mScK4ELiJSxfLz4YMPYMaMMCRy+XI45ZSd+9fr1w+JfusD1Llz4fzzYf78cF6hBG5m
PQmbNNQEHi5qKzUzuwc4CdgInO/uOw3BVwIXkVy2cCFMnrxz//pXX4Xk3bFjSOarVoV7r78e7pc7
gZtZTeAD4HhgBTAbONvd3y9Qphdwhbv3MrOuwN/cvVsR71VtEngymaw2GzKrLpmpOtUFqld90l0X
99DvPX8+bNwYrrVtGxI6VGwqfRdgibt/6u7fA08ApxQq0xd4NATibwENoj0yq61kMhl3CGmjumSm
6lQXqF71SXddzMLMy969w0PQM87YnrxLU1oCbw4sK3C+PLpWWpkWqX28iIiUV2kJPNU+j8LN++rR
VyIiksFK6wPvBuS5e8/o/DfAloIPMs3sASDp7k9E54uB7u6+stB7KamLiJRDcX3gpY1KfBtoa2at
gc+As4CzC5UZD1wBPBEl/DWFk3dJAYiISPmUmMDdPd/MrgAmEYYRjnT3981sUHR/hLtPNLNeZrYE
2ABcUOlRi4hI1U3kERGR9Cr3jjxmNsrMVprZggLXupjZLDOba2azzezw6HpdM3vczN41s0Vmdn2B
1xxqZgvM7CMz+1vFqpPWuvzUzN6MYh5vZnsUuPebKN7FZtajwPWsqouZnWBmb0fX3zazYzKpLlEc
ZfreRPdbmdl6M/t1gWux16cc/58dEt1bGN2vnY11yYKf/5ZmNs3M3ov+rQdH1xuZ2WQz+9DMXjaz
BgVekxk5wN3L9QUcDXQCFhS4lgROjI5PAqZFx+cDj0fH9YBPgFbR+SygS3Q8EehZ3pjSXJfZwNHR
8QXAH6Lj9sA8YBegNbCE7X/JZFtdOgJNouMOwPICr4m9LmWtT4H7TwNPAr/OpPqU8XtTC5gPHByd
NwRqZGldMv3nvwnQMTrenTB58UDgT8C10fXrgDui44zJAeVugbv7DOC/hS5/DtSPjhsQZm9uvb6b
hZmduwGbgXVm1hTYw91nReVGA6eWN6byKqYubaPrAFOAX0THpxD+Z/ze3T8lfPO6ZmNd3H2eu38R
XV8E1DOzXTKlLlGMZfneYGanAh8T6rP1WkbUp4x16QG86+4Lotf+1923ZGldMv3n/wt3nxcdrwfe
J8xv2TZJMfrv1tgyJgeke1Pj64H/M7P/AH8GbgBw90nAOsI38lPgz+6+hvCPtLzA61ew80ShuLxn
ZltnnZ4BtIyOm7FjzFsnNxW+ng11KegXwDseZtxm8vcFiqmPme0OXAvkFSqfyfUp7nvTDnAze8nM
3jGza6LrWVeXbPr5tzDirhPwFrC3bx9RtxLYOsM8Y3JAuhP4SGCwu7cCrorOMbPzCH86NQX2Ba42
s33T/NnpdiFwmZm9TfizanPM8VREiXUxsw7AHcCgGGIrj+Lqkwfc7e4b2XlyWaYqri61gKOAc6L/
/o+ZHUtmT5Irsi7Z8vMfNQCeAYa4+zcF73noE8m4f/s07SGxTRd3Pz46fhp4ODo+EnjO3X8AvjKz
14FDgdfYcdp9C7Z3u8TK3T8ATgQws3ZA7+jWCnZswbYg/NZdQfbVBTNrATwL9Hf3T6LLGVsXKLI+
vaJbXYBfmNmfCF14W8xsE6F+GVmfEr43y4Dp7r46ujcR6AyMJXvqsvX7kvE//2a2CyF5j3H3cdHl
lWbWxN2/iLpHvoyuZ0wOSHcLfImZdY+OjwU+jI4XR+eY2W5AN2Bx1P+6zsy6mpkB/YFxZAAz+3H0
3xrAjcDw6NZ4oJ+Z1Y5aEW2BWdlYl+ip+gvAde7+5tby7v45GVoXKLI+DwC4+8/dfV9335ewBPKt
7n5/Nn5vCHMvDjazemZWC+gOvJdldXkgupXRP//RZ48EFrn7XwvcGg8MjI4HFogtc3JABZ7cPk6Y
nbmZ0Fq4ADiM0Hc0D3gT6BSVrUNoOSwA3mPH0QGHRteXAPdU5hPbMtTlQmAw4Wn0B8BthcrfEMW7
mGjUTTbWhfBDth6YW+Brr0ypS3m+NwVedxMwNFu/N1H5c4GFUdx3ZGtdsuDn/yhgS5S3tv4c9AQa
ER7Gfgi8DDQo8JqMyAGayCMikqXS3YUiIiJVRAlcRCRLKYGLiGQpJXARkSylBC4ikqWUwEVEspQS
uIhIllICF0lRNMNQJGPof0iplszsZjMbUuD8VjMbbGbXWNh0ZL6Z5RW4/5yFTS0WmtnFBa6vN7O/
mNk8whRwkYyhBC7V1ShgAGxrOZ8FfAHs7+5dCEuGHmpmR0flL3T3w4DDgcFm1jC6visw0907uvsb
VVoDkVKkezVCkYzg7v82s1Vm1pGw48pcQnLuYWZzo2K7AfsDM4Ah0WYQEFaaa0vYXeUHwip1IhlH
CVyqs4cJi6ztTWiRHwfc7u4PFixkZonoXjd3/9bMpgF1o9vfuhYMkgylLhSpzp4jrCp3GPASYYnW
C6MlTTGz5tESqHsC/42S9wGor1uyhFrgUm25+/dmNpWQnB2YbGYHAm+G5Zr5BjiPkNx/ZWaLCEuh
vlnwbao4bJGUaTlZqbaih5fvAKe7+9K44xFJN3WhSLVkZu2Bj4ApSt5SXakFLiKSpdQCFxHJUkrg
IiJZSglcRCRLKYGLiGQpJXARkSylBC4ikqX+H1kaJPP0Voa5AAAAAElFTkSuQmCC
"
>
</div>

</div>

</div>
</div>

</div>
<div class="cell border-box-sizing code_cell rendered">
<div class="input">
<div class="prompt input_prompt">In&nbsp;[80]:</div>
<div class="inner_cell">
    <div class="input_area">
<div class=" highlight hl-ipython2"><pre><span class="p">(</span><span class="n">pd</span><span class="o">.</span><span class="n">DataFrame</span><span class="p">(</span><span class="n">p</span><span class="o">.</span><span class="n">John</span><span class="p">)</span><span class="o">.</span><span class="n">join</span><span class="p">(</span><span class="n">p</span><span class="o">.</span><span class="n">Mary</span><span class="p">))</span><span class="o">.</span><span class="n">plot</span><span class="p">(</span><span class="n">figsize</span><span class="o">=</span><span class="p">(</span><span class="mi">12</span><span class="p">,</span> <span class="mi">10</span><span class="p">),</span> <span class="n">grid</span><span class="o">=</span><span class="bp">False</span>  <span class="p">,</span> <span class="c1"># subplots=True,</span>
            <span class="n">title</span><span class="o">=</span><span class="s2">&quot;Number of births per year&quot;</span><span class="p">)</span>
</pre></div>

</div>
</div>
</div>

<div class="output_wrapper">
<div class="output">


<div class="output_area"><div class="prompt output_prompt">Out[80]:</div>


<div class="output_text output_subarea output_execute_result">
<pre>&lt;matplotlib.axes._subplots.AxesSubplot at 0x11a602310&gt;</pre>
</div>

</div>

<div class="output_area"><div class="prompt"></div>


<div class="output_png output_subarea ">
<img src="data:image/png;base64,iVBORw0KGgoAAAANSUhEUgAAArcAAAJoCAYAAAB89cmNAAAABHNCSVQICAgIfAhkiAAAAAlwSFlz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"
>
</div>

</div>

</div>
</div>

</div>
<div class="cell border-box-sizing code_cell rendered">
<div class="input">
<div class="prompt input_prompt">In&nbsp;[81]:</div>
<div class="inner_cell">
    <div class="input_area">
<div class=" highlight hl-ipython2"><pre><span class="c1"># get rid of that anomaly at the right</span>

<span class="p">(</span><span class="n">pd</span><span class="o">.</span><span class="n">DataFrame</span><span class="p">(</span><span class="n">p</span><span class="o">.</span><span class="n">John</span><span class="p">)</span><span class="o">.</span><span class="n">join</span><span class="p">(</span><span class="n">p</span><span class="o">.</span><span class="n">Mary</span><span class="p">)</span><span class="o">.</span><span class="n">drop</span><span class="p">(</span><span class="s1">&#39;All&#39;</span><span class="p">))</span><span class="o">.</span><span class="n">plot</span><span class="p">(</span><span class="n">figsize</span><span class="o">=</span><span class="p">(</span><span class="mi">12</span><span class="p">,</span> <span class="mi">10</span><span class="p">),</span> <span class="n">grid</span><span class="o">=</span><span class="bp">False</span>  <span class="p">,</span> <span class="c1"># subplots=True,</span>
            <span class="n">title</span><span class="o">=</span><span class="s2">&quot;Number of births per year&quot;</span><span class="p">)</span>
</pre></div>

</div>
</div>
</div>

<div class="output_wrapper">
<div class="output">


<div class="output_area"><div class="prompt output_prompt">Out[81]:</div>


<div class="output_text output_subarea output_execute_result">
<pre>&lt;matplotlib.axes._subplots.AxesSubplot at 0x12544fb10&gt;</pre>
</div>

</div>

<div class="output_area"><div class="prompt"></div>


<div class="output_png output_subarea ">
<img src="data:image/png;base64,iVBORw0KGgoAAAANSUhEUgAAArcAAAJoCAYAAAB89cmNAAAABHNCSVQICAgIfAhkiAAAAAlwSFlz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"
>
</div>

</div>

</div>
</div>

</div>
<div class="cell border-box-sizing text_cell rendered">
<div class="prompt input_prompt">
</div>
<div class="inner_cell">
<div class="text_cell_render border-box-sizing rendered_html">
<h1 id="Female-Johns-and-Male-Mary's?">Female Johns and Male Mary's?<a class="anchor-link" href="#Female-Johns-and-Male-Mary's?">&#182;</a></h1><ul>
<li>really, let's check that out</li>
</ul>

</div>
</div>
</div>
<div class="cell border-box-sizing code_cell rendered">
<div class="input">
<div class="prompt input_prompt">In&nbsp;[37]:</div>
<div class="inner_cell">
    <div class="input_area">
<div class=" highlight hl-ipython2"><pre><span class="n">femalejohns</span><span class="o">=</span> <span class="n">names</span><span class="p">[(</span><span class="n">names</span><span class="o">.</span><span class="n">name</span><span class="o">==</span><span class="s1">&#39;John&#39;</span><span class="p">)</span> <span class="o">&amp;</span> <span class="p">(</span><span class="n">names</span><span class="o">.</span><span class="n">sex</span><span class="o">==</span><span class="s1">&#39;F&#39;</span><span class="p">)]</span>
<span class="n">femalejohns</span><span class="o">.</span><span class="n">sort</span><span class="p">(</span><span class="s1">&#39;births&#39;</span><span class="p">,</span> <span class="n">ascending</span><span class="o">=</span><span class="bp">False</span><span class="p">)</span><span class="o">.</span><span class="n">head</span><span class="p">()</span>
</pre></div>

</div>
</div>
</div>

<div class="output_wrapper">
<div class="output">


<div class="output_area"><div class="prompt output_prompt">Out[37]:</div>

<div class="output_html rendered_html output_subarea output_execute_result">
<div>
<table border="1" class="dataframe">
  <thead>
    <tr style="text-align: right;">
      <th></th>
      <th>name</th>
      <th>sex</th>
      <th>births</th>
      <th>year</th>
    </tr>
  </thead>
  <tbody>
    <tr>
      <th>244765</th>
      <td>John</td>
      <td>F</td>
      <td>439</td>
      <td>1927</td>
    </tr>
    <tr>
      <th>255176</th>
      <td>John</td>
      <td>F</td>
      <td>424</td>
      <td>1928</td>
    </tr>
    <tr>
      <th>265335</th>
      <td>John</td>
      <td>F</td>
      <td>411</td>
      <td>1929</td>
    </tr>
    <tr>
      <th>275153</th>
      <td>John</td>
      <td>F</td>
      <td>401</td>
      <td>1930</td>
    </tr>
    <tr>
      <th>234322</th>
      <td>John</td>
      <td>F</td>
      <td>387</td>
      <td>1926</td>
    </tr>
  </tbody>
</table>
</div>
</div>

</div>

</div>
</div>

</div>
<div class="cell border-box-sizing text_cell rendered">
<div class="prompt input_prompt">
</div>
<div class="inner_cell">
<div class="text_cell_render border-box-sizing rendered_html">
<h1 id="Store-femalejohns">Store femalejohns<a class="anchor-link" href="#Store-femalejohns">&#182;</a></h1><ul>
<li>as a csv file</li>
</ul>

</div>
</div>
</div>
<div class="cell border-box-sizing code_cell rendered">
<div class="input">
<div class="prompt input_prompt">In&nbsp;[56]:</div>
<div class="inner_cell">
    <div class="input_area">
<div class=" highlight hl-ipython2"><pre><span class="n">femalejohns</span><span class="o">.</span><span class="n">to_csv</span><span class="p">(</span><span class="s1">&#39;femalejohns.csv&#39;</span><span class="p">,</span> <span class="n">index</span><span class="o">=</span><span class="bp">False</span><span class="p">,</span> <span class="n">sep</span><span class="o">=</span><span class="s1">&#39;</span><span class="se">\t</span><span class="s1">&#39;</span><span class="p">)</span>
</pre></div>

</div>
</div>
</div>

</div>
<div class="cell border-box-sizing code_cell rendered">
<div class="input">
<div class="prompt input_prompt">In&nbsp;[57]:</div>
<div class="inner_cell">
    <div class="input_area">
<div class=" highlight hl-ipython2"><pre><span class="o">!</span> head -10 femalejohns.csv
</pre></div>

</div>
</div>
</div>

<div class="output_wrapper">
<div class="output">


<div class="output_area"><div class="prompt"></div>
<div class="output_subarea output_stream output_stdout output_text">
<pre>name	sex	births	year
John	F	46	1880
John	F	26	1881
John	F	40	1882
John	F	40	1883
John	F	40	1884
John	F	45	1885
John	F	48	1886
John	F	56	1887
John	F	52	1888
</pre>
</div>
</div>

</div>
</div>

</div>
<div class="cell border-box-sizing text_cell rendered">
<div class="prompt input_prompt">
</div>
<div class="inner_cell">
<div class="text_cell_render border-box-sizing rendered_html">
<h1 id="Exercise-(huiswerk)">Exercise (huiswerk)<a class="anchor-link" href="#Exercise-(huiswerk)">&#182;</a></h1><ul>
<li>Vind voor elke naam het totaal aantal jongens en het totaal aantal meisjes met die naam</li>
<li>Dit is natuurlijk weer een pivot table</li>
<li>We willen ook de totalen erbij</li>
</ul>

</div>
</div>
</div>
<div class="cell border-box-sizing code_cell rendered">
<div class="input">
<div class="prompt input_prompt">In&nbsp;[&nbsp;]:</div>
<div class="inner_cell">
    <div class="input_area">
<div class=" highlight hl-ipython2"><pre> 
</pre></div>

</div>
</div>
</div>

</div>
    </div>
  </div>

  </div>


  
    <footer class="footer hidden-print">
      <div class="container">
        <div class="col-md-4">
          <p>
            This web site does not host notebooks, it only renders notebooks
            available on other websites.
          </p>
        </div>

        <div class="col-md-4">
          <p>
            Delivered by <a href="http://www.fastly.com/">Fastly</a>,
            Rendered by <a href="https://developer.rackspace.com/?nbviewer=awesome">Rackspace</a>
          </p>
          <p>
            nbviewer GitHub <a href="https://github.com/jupyter/nbviewer">repository</a>.
          </p>
        </div>

        <div class="col-md-4">
          
  
            
              <p>
                nbviewer version:
                <a href="https://github.com/jupyter/nbviewer/commit/b280baed69d99f104c8d5bfd8d9ad0f9b24c85e5">
                  b280bae
                </a>
              </p>
            
          
  
  <p>
    notebook version: <a href="https://github.com/jupyter/notebook/releases/tag/4.1.0">
      4.1.0
    </a>
  </p>
  <p>
    nbconvert version: <a href="https://github.com/jupyter/nbconvert/releases/tag/4.1.0">
      4.1.0
    </a>
  </p>
  

          
  
  
  <p>
    Rendered
    <span class='date' data-date='Thu, 04 Feb 2016 14:17:23 UTC' title='Thu, 04 Feb 2016 14:17:23 UTC'>(Thu, 04 Feb 2016 14:17:23 UTC)</span>
  </p>
  

        </div>
      </div>
    </footer>
  

  <script src="/static/components/bootstrap/js/bootstrap.min.js"></script>
  <script src="/static/components/headroom.js/dist/headroom.min.js"></script>
  <script src="/static/components/headroom.js/dist/jQuery.headroom.min.js"></script>

  
  
  <script>
    $(function(){ $("#menubar").headroom({
      tolerance: 5,
      offset: 205,
      classes: {
        initial: "animated",
        pinned: "slideInDown",
        unpinned: "slideOutUp"
      }
    })});
  </script>


  <script>
    (function(i,s,o,g,r,a,m){i['GoogleAnalyticsObject']=r;i[r]=i[r]||function(){
      (i[r].q=i[r].q||[]).push(arguments)},i[r].l=1*new Date();a=s.createElement(o),
      m=s.getElementsByTagName(o)[0];a.async=1;a.src=g;m.parentNode.insertBefore(a,m)
    })(window,document,'script','//www.google-analytics.com/analytics.js','ga');
    ga('create', 'UA-38683231-2', 'auto');
    ga('send', 'pageview');
  </script>
  <script>
    require({
        paths: {
          moment: "/static/components/moment/min/moment.min.js"
        }
      }, ["moment"], function(moment){
      var date = $("footer .date"),
        m = moment(new Date(date.data('date'))),
        update = function(){ date.text(m.fromNow()); };
      setInterval(update, 61*1000);
      update();
      var w = $(window).scroll(function(event){
        $("body").toggleClass("scrolled", w.scrollTop() > 0);
      });
    });
  </script>
  <!--NEW RELIC Stop Perf Measurement-->
  
  <!--NEW RELIC End-->
</body>
</html>